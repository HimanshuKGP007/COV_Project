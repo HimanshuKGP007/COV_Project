{
 "cells": [
  {
   "cell_type": "code",
   "execution_count": 1,
   "source": [
    "import pandas as pd #To hand with data \r\n",
    "import numpy as np #To math \r\n",
    "import seaborn as sns #to visualization\r\n",
    "import matplotlib.pyplot as plt # to plot the graphs\r\n",
    "import matplotlib.gridspec as gridspec # to do the grid of plots\r\n",
    "\r\n",
    "from sklearn.metrics import classification_report\r\n",
    "from sklearn.datasets import load_breast_cancer\r\n",
    "from sklearn.model_selection import train_test_split\r\n",
    "from sklearn import metrics\r\n",
    "from sklearn.metrics import confusion_matrix\r\n",
    "from sklearn.metrics import classification_report\r\n",
    "from sklearn.model_selection import cross_val_score\r\n",
    "from sklearn.model_selection import RepeatedKFold\r\n",
    "from sklearn.metrics import precision_score, recall_score, fbeta_score, confusion_matrix, precision_recall_curve, accuracy_score\r\n",
    "from sklearn.preprocessing import MinMaxScaler\r\n",
    "from pathlib import Path\r\n",
    "import librosa\r\n",
    "from sklearn.pipeline import Pipeline\r\n",
    "\r\n",
    "#SMOTE\r\n",
    "from imblearn.pipeline import make_pipeline # To do our transformation in a unique time\r\n",
    "from imblearn.over_sampling import SMOTE\r\n",
    "from imblearn.metrics import classification_report_imbalanced\r\n",
    "\r\n",
    "#models\r\n",
    "from interpret.glassbox import ExplainableBoostingClassifier\r\n",
    "from sklearn.linear_model import LogisticRegression\r\n",
    "from sklearn.ensemble import RandomForestClassifier\r\n",
    "from sklearn.tree import DecisionTreeClassifier\r\n",
    "from xgboost import XGBClassifier\r\n",
    "from sklearn.ensemble import StackingClassifier"
   ],
   "outputs": [],
   "metadata": {}
  },
  {
   "cell_type": "code",
   "execution_count": 2,
   "source": [
    "first_wave = pd.read_csv(r'C:\\Users\\DELL\\COV_Project\\Files\\Waves_Data\\first_wave.csv')\r\n",
    "second_wave = pd.read_csv(r'C:\\Users\\DELL\\COV_Project\\Files\\Waves_Data\\final_data_second_wave.csv')"
   ],
   "outputs": [],
   "metadata": {}
  },
  {
   "cell_type": "code",
   "execution_count": null,
   "source": [],
   "outputs": [],
   "metadata": {}
  }
 ],
 "metadata": {
  "kernelspec": {
   "name": "python3",
   "display_name": "Python 3.8.8 64-bit ('base': conda)"
  },
  "language_info": {
   "codemirror_mode": {
    "name": "ipython",
    "version": 3
   },
   "file_extension": ".py",
   "mimetype": "text/x-python",
   "name": "python",
   "nbconvert_exporter": "python",
   "pygments_lexer": "ipython3",
   "version": "3.8.8"
  },
  "papermill": {
   "default_parameters": {},
   "duration": 13470.126256,
   "end_time": "2021-06-24T10:10:43.907785",
   "environment_variables": {},
   "exception": null,
   "input_path": "__notebook__.ipynb",
   "output_path": "__notebook__.ipynb",
   "parameters": {},
   "start_time": "2021-06-24T06:26:13.781529",
   "version": "2.3.3"
  },
  "interpreter": {
   "hash": "b3ba2566441a7c06988d0923437866b63cedc61552a5af99d1f4fb67d367b25f"
  }
 },
 "nbformat": 4,
 "nbformat_minor": 5
}
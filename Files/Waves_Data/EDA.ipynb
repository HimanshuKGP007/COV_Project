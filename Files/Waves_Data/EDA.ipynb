{
 "cells": [
  {
   "cell_type": "code",
   "execution_count": 1,
   "id": "eee5f5eb",
   "metadata": {},
   "outputs": [],
   "source": [
    "import pandas as pd #To hand with data \n",
    "import numpy as np #To math \n",
    "import seaborn as sns #to visualization\n",
    "import matplotlib.pyplot as plt # to plot the graphs\n",
    "import matplotlib.gridspec as gridspec # to do the grid of plots\n",
    "\n",
    "from sklearn.metrics import classification_report\n",
    "from sklearn.datasets import load_breast_cancer\n",
    "from sklearn.model_selection import train_test_split\n",
    "from sklearn import metrics\n",
    "from sklearn.metrics import confusion_matrix\n",
    "from sklearn.metrics import classification_report\n",
    "from sklearn.model_selection import cross_val_score\n",
    "from sklearn.model_selection import RepeatedKFold\n",
    "from sklearn.metrics import precision_score, recall_score, fbeta_score, confusion_matrix, precision_recall_curve, accuracy_score\n",
    "from sklearn.preprocessing import MinMaxScaler\n",
    "from pathlib import Path\n",
    "import librosa\n",
    "from sklearn.pipeline import Pipeline\n",
    "\n",
    "#SMOTE\n",
    "from imblearn.pipeline import make_pipeline # To do our transformation in a unique time\n",
    "from imblearn.over_sampling import SMOTE\n",
    "from imblearn.metrics import classification_report_imbalanced\n",
    "\n",
    "#models\n",
    "from interpret.glassbox import ExplainableBoostingClassifier\n",
    "from sklearn.linear_model import LogisticRegression\n",
    "from sklearn.ensemble import RandomForestClassifier\n",
    "from sklearn.tree import DecisionTreeClassifier\n",
    "from xgboost import XGBClassifier\n",
    "from sklearn.ensemble import StackingClassifier"
   ]
  },
  {
   "cell_type": "code",
   "execution_count": 2,
   "id": "1c6756f7",
   "metadata": {},
   "outputs": [],
   "source": [
    "first_wave = pd.read_csv(r'C:\\Users\\DELL\\COV_Project\\Files\\Waves_Data\\first_wave.csv')\n",
    "first_wave_positive_1 = pd.read_csv(r'C:\\Users\\DELL\\COV_Project\\Files\\Waves_Data\\first_wave_positive_coughvid_kaggle.csv')\n",
    "second_wave = pd.read_csv(r'C:\\Users\\DELL\\COV_Project\\Files\\Waves_Data\\final_data_second_wave.csv')"
   ]
  },
  {
   "cell_type": "markdown",
   "id": "ae822300",
   "metadata": {},
   "source": [
    "### Encoding the Target Variable"
   ]
  },
  {
   "cell_type": "code",
   "execution_count": 3,
   "id": "dce34327",
   "metadata": {},
   "outputs": [],
   "source": [
    "first_wave['covid_status'] = first_wave['covid_status'].map({'healthy': 1, 'resp_illness_not_identified': 1, 'positive_asymp': 0, 'positive_mild': 0,\n",
    "       'positive_moderate': 0, 'recovered_full': 1})"
   ]
  },
  {
   "cell_type": "code",
   "execution_count": 4,
   "id": "f245855b",
   "metadata": {},
   "outputs": [],
   "source": [
    "second_wave['covid_status'] = second_wave['covid_status'].map({'healthy': 1, 'resp_illness_not_identified': 1, 'positive_asymp': 0, 'positive_mild': 0,\n",
    "       'positive_moderate': 0, 'recovered_full': 1})"
   ]
  },
  {
   "cell_type": "markdown",
   "id": "0e798559",
   "metadata": {},
   "source": [
    "#### Removing NaN values "
   ]
  },
  {
   "cell_type": "code",
   "execution_count": 5,
   "id": "63899e0b",
   "metadata": {},
   "outputs": [],
   "source": [
    "first_wave = first_wave.dropna()\n",
    "second_wave = second_wave.dropna()"
   ]
  },
  {
   "cell_type": "code",
   "execution_count": 6,
   "id": "e058b99c",
   "metadata": {},
   "outputs": [],
   "source": [
    "frames = [first_wave, first_wave_positive_1] \n",
    "result = pd.concat(frames)\n",
    "first_wave = result"
   ]
  },
  {
   "cell_type": "code",
   "execution_count": 12,
   "id": "7e14dbee",
   "metadata": {},
   "outputs": [],
   "source": [
    "#first_wave_positive = first_wave[first_wave['covid_status'] == 0]\n",
    "#second_wave_positive = second_wave[second_wave['covid_status'] == 0]\n",
    "\n",
    "# first_wave_positive.to_csv(|'first_wave_positive.csv', index=False)\n",
    "# second_wave_positive.to_csv('second_wave_positive.csv', index=False)"
   ]
  },
  {
   "cell_type": "code",
   "execution_count": 13,
   "id": "5091a8f8",
   "metadata": {},
   "outputs": [
    {
     "data": {
      "text/html": [
       "<div>\n",
       "<style scoped>\n",
       "    .dataframe tbody tr th:only-of-type {\n",
       "        vertical-align: middle;\n",
       "    }\n",
       "\n",
       "    .dataframe tbody tr th {\n",
       "        vertical-align: top;\n",
       "    }\n",
       "\n",
       "    .dataframe thead th {\n",
       "        text-align: right;\n",
       "    }\n",
       "</style>\n",
       "<table border=\"1\" class=\"dataframe\">\n",
       "  <thead>\n",
       "    <tr style=\"text-align: right;\">\n",
       "      <th></th>\n",
       "      <th>covid_status</th>\n",
       "      <th>chroma_stft</th>\n",
       "      <th>rmse</th>\n",
       "      <th>spectral_centroid</th>\n",
       "      <th>spectral_bandwidth</th>\n",
       "      <th>rolloff</th>\n",
       "      <th>zero_crossing_rate</th>\n",
       "      <th>mfcc1</th>\n",
       "      <th>mfcc2</th>\n",
       "      <th>mfcc3</th>\n",
       "      <th>...</th>\n",
       "      <th>mfcc11</th>\n",
       "      <th>mfcc12</th>\n",
       "      <th>mfcc13</th>\n",
       "      <th>mfcc14</th>\n",
       "      <th>mfcc15</th>\n",
       "      <th>mfcc16</th>\n",
       "      <th>mfcc17</th>\n",
       "      <th>mfcc18</th>\n",
       "      <th>mfcc19</th>\n",
       "      <th>mfcc20</th>\n",
       "    </tr>\n",
       "  </thead>\n",
       "  <tbody>\n",
       "    <tr>\n",
       "      <th>0</th>\n",
       "      <td>1.0</td>\n",
       "      <td>0.559781</td>\n",
       "      <td>0.005139</td>\n",
       "      <td>3414.450295</td>\n",
       "      <td>3852.819164</td>\n",
       "      <td>6722.366637</td>\n",
       "      <td>0.073481</td>\n",
       "      <td>-578.454224</td>\n",
       "      <td>100.593597</td>\n",
       "      <td>-20.662931</td>\n",
       "      <td>...</td>\n",
       "      <td>0.676318</td>\n",
       "      <td>2.169027</td>\n",
       "      <td>-3.117411</td>\n",
       "      <td>-4.751014</td>\n",
       "      <td>-8.532103</td>\n",
       "      <td>-2.877681</td>\n",
       "      <td>-6.372658</td>\n",
       "      <td>-10.019708</td>\n",
       "      <td>-7.233541</td>\n",
       "      <td>-5.531066</td>\n",
       "    </tr>\n",
       "    <tr>\n",
       "      <th>1</th>\n",
       "      <td>1.0</td>\n",
       "      <td>0.048852</td>\n",
       "      <td>0.000151</td>\n",
       "      <td>266.561623</td>\n",
       "      <td>287.565853</td>\n",
       "      <td>470.472244</td>\n",
       "      <td>0.003131</td>\n",
       "      <td>-986.169312</td>\n",
       "      <td>11.261070</td>\n",
       "      <td>-5.095660</td>\n",
       "      <td>...</td>\n",
       "      <td>-0.103437</td>\n",
       "      <td>-0.244169</td>\n",
       "      <td>-0.498977</td>\n",
       "      <td>-1.392723</td>\n",
       "      <td>-0.122609</td>\n",
       "      <td>-0.091930</td>\n",
       "      <td>-0.836328</td>\n",
       "      <td>0.076709</td>\n",
       "      <td>-0.351206</td>\n",
       "      <td>-0.637464</td>\n",
       "    </tr>\n",
       "    <tr>\n",
       "      <th>2</th>\n",
       "      <td>1.0</td>\n",
       "      <td>0.510157</td>\n",
       "      <td>0.029501</td>\n",
       "      <td>2993.747046</td>\n",
       "      <td>4082.985889</td>\n",
       "      <td>6813.473087</td>\n",
       "      <td>0.033092</td>\n",
       "      <td>-490.079742</td>\n",
       "      <td>56.480343</td>\n",
       "      <td>-5.512434</td>\n",
       "      <td>...</td>\n",
       "      <td>-9.713926</td>\n",
       "      <td>-2.367161</td>\n",
       "      <td>0.320710</td>\n",
       "      <td>-0.423703</td>\n",
       "      <td>2.408605</td>\n",
       "      <td>1.049164</td>\n",
       "      <td>0.936303</td>\n",
       "      <td>3.420897</td>\n",
       "      <td>2.422361</td>\n",
       "      <td>1.614452</td>\n",
       "    </tr>\n",
       "    <tr>\n",
       "      <th>3</th>\n",
       "      <td>1.0</td>\n",
       "      <td>0.479611</td>\n",
       "      <td>0.040758</td>\n",
       "      <td>5526.666112</td>\n",
       "      <td>5051.542868</td>\n",
       "      <td>10952.361328</td>\n",
       "      <td>0.154696</td>\n",
       "      <td>-403.194855</td>\n",
       "      <td>31.794283</td>\n",
       "      <td>5.816183</td>\n",
       "      <td>...</td>\n",
       "      <td>-8.756487</td>\n",
       "      <td>-4.543206</td>\n",
       "      <td>-6.477761</td>\n",
       "      <td>-2.938485</td>\n",
       "      <td>-4.967889</td>\n",
       "      <td>-1.890859</td>\n",
       "      <td>-5.388695</td>\n",
       "      <td>1.436146</td>\n",
       "      <td>-1.814564</td>\n",
       "      <td>3.331939</td>\n",
       "    </tr>\n",
       "    <tr>\n",
       "      <th>4</th>\n",
       "      <td>1.0</td>\n",
       "      <td>0.501383</td>\n",
       "      <td>0.022911</td>\n",
       "      <td>4030.641927</td>\n",
       "      <td>3852.979012</td>\n",
       "      <td>7795.914331</td>\n",
       "      <td>0.067175</td>\n",
       "      <td>-515.401001</td>\n",
       "      <td>74.039436</td>\n",
       "      <td>-33.350433</td>\n",
       "      <td>...</td>\n",
       "      <td>0.880419</td>\n",
       "      <td>1.817128</td>\n",
       "      <td>2.164741</td>\n",
       "      <td>-5.970574</td>\n",
       "      <td>-4.477877</td>\n",
       "      <td>0.590816</td>\n",
       "      <td>0.362597</td>\n",
       "      <td>0.053137</td>\n",
       "      <td>-4.933649</td>\n",
       "      <td>-6.648327</td>\n",
       "    </tr>\n",
       "  </tbody>\n",
       "</table>\n",
       "<p>5 rows × 27 columns</p>\n",
       "</div>"
      ],
      "text/plain": [
       "   covid_status  chroma_stft      rmse  spectral_centroid  spectral_bandwidth  \\\n",
       "0           1.0     0.559781  0.005139        3414.450295         3852.819164   \n",
       "1           1.0     0.048852  0.000151         266.561623          287.565853   \n",
       "2           1.0     0.510157  0.029501        2993.747046         4082.985889   \n",
       "3           1.0     0.479611  0.040758        5526.666112         5051.542868   \n",
       "4           1.0     0.501383  0.022911        4030.641927         3852.979012   \n",
       "\n",
       "        rolloff  zero_crossing_rate       mfcc1       mfcc2      mfcc3  ...  \\\n",
       "0   6722.366637            0.073481 -578.454224  100.593597 -20.662931  ...   \n",
       "1    470.472244            0.003131 -986.169312   11.261070  -5.095660  ...   \n",
       "2   6813.473087            0.033092 -490.079742   56.480343  -5.512434  ...   \n",
       "3  10952.361328            0.154696 -403.194855   31.794283   5.816183  ...   \n",
       "4   7795.914331            0.067175 -515.401001   74.039436 -33.350433  ...   \n",
       "\n",
       "     mfcc11    mfcc12    mfcc13    mfcc14    mfcc15    mfcc16    mfcc17  \\\n",
       "0  0.676318  2.169027 -3.117411 -4.751014 -8.532103 -2.877681 -6.372658   \n",
       "1 -0.103437 -0.244169 -0.498977 -1.392723 -0.122609 -0.091930 -0.836328   \n",
       "2 -9.713926 -2.367161  0.320710 -0.423703  2.408605  1.049164  0.936303   \n",
       "3 -8.756487 -4.543206 -6.477761 -2.938485 -4.967889 -1.890859 -5.388695   \n",
       "4  0.880419  1.817128  2.164741 -5.970574 -4.477877  0.590816  0.362597   \n",
       "\n",
       "      mfcc18    mfcc19    mfcc20  \n",
       "0 -10.019708 -7.233541 -5.531066  \n",
       "1   0.076709 -0.351206 -0.637464  \n",
       "2   3.420897  2.422361  1.614452  \n",
       "3   1.436146 -1.814564  3.331939  \n",
       "4   0.053137 -4.933649 -6.648327  \n",
       "\n",
       "[5 rows x 27 columns]"
      ]
     },
     "execution_count": 13,
     "metadata": {},
     "output_type": "execute_result"
    }
   ],
   "source": [
    "first_wave.head()"
   ]
  },
  {
   "cell_type": "markdown",
   "id": "7eface0f",
   "metadata": {},
   "source": [
    "## Data Exploration"
   ]
  },
  {
   "cell_type": "code",
   "execution_count": 14,
   "id": "a6e0f72d",
   "metadata": {},
   "outputs": [
    {
     "name": "stdout",
     "output_type": "stream",
     "text": [
      "<class 'pandas.core.frame.DataFrame'>\n",
      "Int64Index: 1081 entries, 0 to 629\n",
      "Data columns (total 27 columns):\n",
      " #   Column              Non-Null Count  Dtype  \n",
      "---  ------              --------------  -----  \n",
      " 0   covid_status        1081 non-null   float64\n",
      " 1   chroma_stft         1081 non-null   float64\n",
      " 2   rmse                1081 non-null   float64\n",
      " 3   spectral_centroid   1081 non-null   float64\n",
      " 4   spectral_bandwidth  1081 non-null   float64\n",
      " 5   rolloff             1081 non-null   float64\n",
      " 6   zero_crossing_rate  1081 non-null   float64\n",
      " 7   mfcc1               1081 non-null   float64\n",
      " 8   mfcc2               1081 non-null   float64\n",
      " 9   mfcc3               1081 non-null   float64\n",
      " 10  mfcc4               1081 non-null   float64\n",
      " 11  mfcc5               1081 non-null   float64\n",
      " 12  mfcc6               1081 non-null   float64\n",
      " 13  mfcc7               1081 non-null   float64\n",
      " 14  mfcc8               1081 non-null   float64\n",
      " 15  mfcc9               1081 non-null   float64\n",
      " 16  mfcc10              1081 non-null   float64\n",
      " 17  mfcc11              1081 non-null   float64\n",
      " 18  mfcc12              1081 non-null   float64\n",
      " 19  mfcc13              1081 non-null   float64\n",
      " 20  mfcc14              1081 non-null   float64\n",
      " 21  mfcc15              1081 non-null   float64\n",
      " 22  mfcc16              1081 non-null   float64\n",
      " 23  mfcc17              1081 non-null   float64\n",
      " 24  mfcc18              1081 non-null   float64\n",
      " 25  mfcc19              1081 non-null   float64\n",
      " 26  mfcc20              1081 non-null   float64\n",
      "dtypes: float64(27)\n",
      "memory usage: 236.5 KB\n"
     ]
    }
   ],
   "source": [
    "first_wave.info()"
   ]
  },
  {
   "cell_type": "code",
   "execution_count": 15,
   "id": "6496584b",
   "metadata": {},
   "outputs": [
    {
     "name": "stdout",
     "output_type": "stream",
     "text": [
      "<class 'pandas.core.frame.DataFrame'>\n",
      "Int64Index: 497 entries, 0 to 555\n",
      "Data columns (total 27 columns):\n",
      " #   Column              Non-Null Count  Dtype  \n",
      "---  ------              --------------  -----  \n",
      " 0   covid_status        497 non-null    float64\n",
      " 1   chroma_stft         497 non-null    float64\n",
      " 2   rmse                497 non-null    float64\n",
      " 3   spectral_centroid   497 non-null    float64\n",
      " 4   spectral_bandwidth  497 non-null    float64\n",
      " 5   rolloff             497 non-null    float64\n",
      " 6   zero_crossing_rate  497 non-null    float64\n",
      " 7   mfcc1               497 non-null    float64\n",
      " 8   mfcc2               497 non-null    float64\n",
      " 9   mfcc3               497 non-null    float64\n",
      " 10  mfcc4               497 non-null    float64\n",
      " 11  mfcc5               497 non-null    float64\n",
      " 12  mfcc6               497 non-null    float64\n",
      " 13  mfcc7               497 non-null    float64\n",
      " 14  mfcc8               497 non-null    float64\n",
      " 15  mfcc9               497 non-null    float64\n",
      " 16  mfcc10              497 non-null    float64\n",
      " 17  mfcc11              497 non-null    float64\n",
      " 18  mfcc12              497 non-null    float64\n",
      " 19  mfcc13              497 non-null    float64\n",
      " 20  mfcc14              497 non-null    float64\n",
      " 21  mfcc15              497 non-null    float64\n",
      " 22  mfcc16              497 non-null    float64\n",
      " 23  mfcc17              497 non-null    float64\n",
      " 24  mfcc18              497 non-null    float64\n",
      " 25  mfcc19              497 non-null    float64\n",
      " 26  mfcc20              497 non-null    float64\n",
      "dtypes: float64(27)\n",
      "memory usage: 108.7 KB\n"
     ]
    }
   ],
   "source": [
    "second_wave.info()"
   ]
  },
  {
   "cell_type": "code",
   "execution_count": 11,
   "id": "025a89f1",
   "metadata": {},
   "outputs": [],
   "source": [
    "# (1)https://www.analyticsvidhya.com/blog/2021/04/top-python-libraries-to-automate-exploratory-data-analysis-in-2021/\n",
    "# import dtale\n",
    "# import pandas as pd\n",
    "# df = pd.read_csv(‘data.csv’)\n",
    "# d = dtale.show(df)\n",
    "# d.open_browser()"
   ]
  },
  {
   "cell_type": "code",
   "execution_count": 16,
   "id": "6ab47093",
   "metadata": {},
   "outputs": [
    {
     "data": {
      "application/vnd.jupyter.widget-view+json": {
       "model_id": "4784c378e9ad4c5dbdccc0a000b553c4",
       "version_major": 2,
       "version_minor": 0
      },
      "text/plain": [
       "HBox(children=(FloatProgress(value=0.0, description='Summarize dataset', max=41.0, style=ProgressStyle(descrip…"
      ]
     },
     "metadata": {},
     "output_type": "display_data"
    },
    {
     "name": "stdout",
     "output_type": "stream",
     "text": [
      "\n"
     ]
    },
    {
     "data": {
      "application/vnd.jupyter.widget-view+json": {
       "model_id": "a615d0ef10a84d5987c196b506387381",
       "version_major": 2,
       "version_minor": 0
      },
      "text/plain": [
       "HBox(children=(FloatProgress(value=0.0, description='Generate report structure', max=1.0, style=ProgressStyle(…"
      ]
     },
     "metadata": {},
     "output_type": "display_data"
    },
    {
     "name": "stdout",
     "output_type": "stream",
     "text": [
      "\n"
     ]
    },
    {
     "data": {
      "application/vnd.jupyter.widget-view+json": {
       "model_id": "d271617eabe4468ebd70b3ab4e8ce645",
       "version_major": 2,
       "version_minor": 0
      },
      "text/plain": [
       "HBox(children=(FloatProgress(value=0.0, description='Render HTML', max=1.0, style=ProgressStyle(description_wi…"
      ]
     },
     "metadata": {},
     "output_type": "display_data"
    },
    {
     "name": "stdout",
     "output_type": "stream",
     "text": [
      "\n"
     ]
    },
    {
     "data": {
      "application/vnd.jupyter.widget-view+json": {
       "model_id": "b26795e4a7a14c4fb088f23933d6d1cb",
       "version_major": 2,
       "version_minor": 0
      },
      "text/plain": [
       "HBox(children=(FloatProgress(value=0.0, description='Export report to file', max=1.0, style=ProgressStyle(desc…"
      ]
     },
     "metadata": {},
     "output_type": "display_data"
    },
    {
     "name": "stdout",
     "output_type": "stream",
     "text": [
      "\n"
     ]
    },
    {
     "data": {
      "application/vnd.jupyter.widget-view+json": {
       "model_id": "0f1f2e66f0264518acf2f4a8afb601fd",
       "version_major": 2,
       "version_minor": 0
      },
      "text/plain": [
       "HBox(children=(FloatProgress(value=0.0, description='Summarize dataset', max=41.0, style=ProgressStyle(descrip…"
      ]
     },
     "metadata": {},
     "output_type": "display_data"
    },
    {
     "name": "stdout",
     "output_type": "stream",
     "text": [
      "\n"
     ]
    },
    {
     "data": {
      "application/vnd.jupyter.widget-view+json": {
       "model_id": "70a8cf928abb4ec6b8c5cc2213fb5997",
       "version_major": 2,
       "version_minor": 0
      },
      "text/plain": [
       "HBox(children=(FloatProgress(value=0.0, description='Generate report structure', max=1.0, style=ProgressStyle(…"
      ]
     },
     "metadata": {},
     "output_type": "display_data"
    },
    {
     "name": "stdout",
     "output_type": "stream",
     "text": [
      "\n"
     ]
    },
    {
     "data": {
      "application/vnd.jupyter.widget-view+json": {
       "model_id": "6742307280984a60bca0fdc45fa507ad",
       "version_major": 2,
       "version_minor": 0
      },
      "text/plain": [
       "HBox(children=(FloatProgress(value=0.0, description='Render HTML', max=1.0, style=ProgressStyle(description_wi…"
      ]
     },
     "metadata": {},
     "output_type": "display_data"
    },
    {
     "name": "stdout",
     "output_type": "stream",
     "text": [
      "\n"
     ]
    },
    {
     "data": {
      "application/vnd.jupyter.widget-view+json": {
       "model_id": "a97c69e8456f4231b9650c56ad0c92fb",
       "version_major": 2,
       "version_minor": 0
      },
      "text/plain": [
       "HBox(children=(FloatProgress(value=0.0, description='Export report to file', max=1.0, style=ProgressStyle(desc…"
      ]
     },
     "metadata": {},
     "output_type": "display_data"
    },
    {
     "name": "stdout",
     "output_type": "stream",
     "text": [
      "\n"
     ]
    }
   ],
   "source": [
    "# #importing required packages\n",
    "import pandas as pd\n",
    "from pandas_profiling import ProfileReport\n",
    "import numpy as np\n",
    "\n",
    "# #descriptive statistics\n",
    "design_report = ProfileReport(first_wave)\n",
    "design_report.to_file(output_file='first_wave_PR.html')\n",
    "# pandas_profiling.ProfileReport(second_wave)\n",
    "\n",
    "# #descriptive statistics\n",
    "design_report = ProfileReport(second_wave)\n",
    "design_report.to_file(output_file='second_wave__PR.html')\n",
    "# pandas_profiling.ProfileReport(second_wave)"
   ]
  },
  {
   "cell_type": "code",
   "execution_count": null,
   "id": "d38979ad",
   "metadata": {},
   "outputs": [],
   "source": []
  },
  {
   "cell_type": "code",
   "execution_count": 10,
   "id": "29e6ac73",
   "metadata": {},
   "outputs": [
    {
     "data": {
      "text/html": [
       "<div>\n",
       "<style scoped>\n",
       "    .dataframe tbody tr th:only-of-type {\n",
       "        vertical-align: middle;\n",
       "    }\n",
       "\n",
       "    .dataframe tbody tr th {\n",
       "        vertical-align: top;\n",
       "    }\n",
       "\n",
       "    .dataframe thead th {\n",
       "        text-align: right;\n",
       "    }\n",
       "</style>\n",
       "<table border=\"1\" class=\"dataframe\">\n",
       "  <thead>\n",
       "    <tr style=\"text-align: right;\">\n",
       "      <th></th>\n",
       "      <th>covid_status</th>\n",
       "      <th>chroma_stft</th>\n",
       "      <th>rmse</th>\n",
       "      <th>spectral_centroid</th>\n",
       "      <th>spectral_bandwidth</th>\n",
       "      <th>rolloff</th>\n",
       "      <th>zero_crossing_rate</th>\n",
       "      <th>mfcc1</th>\n",
       "      <th>mfcc2</th>\n",
       "      <th>mfcc3</th>\n",
       "      <th>...</th>\n",
       "      <th>mfcc11</th>\n",
       "      <th>mfcc12</th>\n",
       "      <th>mfcc13</th>\n",
       "      <th>mfcc14</th>\n",
       "      <th>mfcc15</th>\n",
       "      <th>mfcc16</th>\n",
       "      <th>mfcc17</th>\n",
       "      <th>mfcc18</th>\n",
       "      <th>mfcc19</th>\n",
       "      <th>mfcc20</th>\n",
       "    </tr>\n",
       "  </thead>\n",
       "  <tbody>\n",
       "    <tr>\n",
       "      <th>0</th>\n",
       "      <td>1.0</td>\n",
       "      <td>0.530662</td>\n",
       "      <td>0.012492</td>\n",
       "      <td>3162.314178</td>\n",
       "      <td>3077.276596</td>\n",
       "      <td>5656.464720</td>\n",
       "      <td>0.051597</td>\n",
       "      <td>-539.624573</td>\n",
       "      <td>70.923248</td>\n",
       "      <td>-21.023085</td>\n",
       "      <td>...</td>\n",
       "      <td>-6.839964</td>\n",
       "      <td>-2.880063</td>\n",
       "      <td>0.642384</td>\n",
       "      <td>-6.130341</td>\n",
       "      <td>-3.196272</td>\n",
       "      <td>-3.263852</td>\n",
       "      <td>-6.482019</td>\n",
       "      <td>-0.151838</td>\n",
       "      <td>0.057630</td>\n",
       "      <td>-2.856626</td>\n",
       "    </tr>\n",
       "    <tr>\n",
       "      <th>1</th>\n",
       "      <td>1.0</td>\n",
       "      <td>0.291660</td>\n",
       "      <td>0.076092</td>\n",
       "      <td>1586.501846</td>\n",
       "      <td>1858.983904</td>\n",
       "      <td>2975.042230</td>\n",
       "      <td>0.036814</td>\n",
       "      <td>-340.324066</td>\n",
       "      <td>124.548439</td>\n",
       "      <td>9.032318</td>\n",
       "      <td>...</td>\n",
       "      <td>-22.191097</td>\n",
       "      <td>-1.023864</td>\n",
       "      <td>-3.656982</td>\n",
       "      <td>-14.091269</td>\n",
       "      <td>-8.621853</td>\n",
       "      <td>-5.527614</td>\n",
       "      <td>-6.184521</td>\n",
       "      <td>-4.964400</td>\n",
       "      <td>-7.813180</td>\n",
       "      <td>-11.550410</td>\n",
       "    </tr>\n",
       "    <tr>\n",
       "      <th>3</th>\n",
       "      <td>1.0</td>\n",
       "      <td>0.681028</td>\n",
       "      <td>0.065885</td>\n",
       "      <td>3255.085820</td>\n",
       "      <td>4549.176543</td>\n",
       "      <td>7710.263578</td>\n",
       "      <td>0.034163</td>\n",
       "      <td>-407.073547</td>\n",
       "      <td>61.919655</td>\n",
       "      <td>6.415006</td>\n",
       "      <td>...</td>\n",
       "      <td>5.473977</td>\n",
       "      <td>6.546779</td>\n",
       "      <td>8.448262</td>\n",
       "      <td>7.766901</td>\n",
       "      <td>2.511950</td>\n",
       "      <td>3.842897</td>\n",
       "      <td>1.211067</td>\n",
       "      <td>4.794546</td>\n",
       "      <td>2.072728</td>\n",
       "      <td>-1.464542</td>\n",
       "    </tr>\n",
       "    <tr>\n",
       "      <th>4</th>\n",
       "      <td>1.0</td>\n",
       "      <td>0.241772</td>\n",
       "      <td>0.020226</td>\n",
       "      <td>1408.958004</td>\n",
       "      <td>1503.902519</td>\n",
       "      <td>2554.820416</td>\n",
       "      <td>0.032323</td>\n",
       "      <td>-510.743195</td>\n",
       "      <td>50.490688</td>\n",
       "      <td>-16.352106</td>\n",
       "      <td>...</td>\n",
       "      <td>-3.257951</td>\n",
       "      <td>-2.551245</td>\n",
       "      <td>0.408354</td>\n",
       "      <td>-2.281638</td>\n",
       "      <td>-2.480655</td>\n",
       "      <td>-2.899497</td>\n",
       "      <td>-3.295894</td>\n",
       "      <td>-0.243877</td>\n",
       "      <td>-2.236765</td>\n",
       "      <td>-4.250204</td>\n",
       "    </tr>\n",
       "    <tr>\n",
       "      <th>5</th>\n",
       "      <td>0.0</td>\n",
       "      <td>0.511784</td>\n",
       "      <td>0.011890</td>\n",
       "      <td>3448.609718</td>\n",
       "      <td>4226.490094</td>\n",
       "      <td>6315.529337</td>\n",
       "      <td>0.061811</td>\n",
       "      <td>-517.450256</td>\n",
       "      <td>40.682167</td>\n",
       "      <td>-10.754708</td>\n",
       "      <td>...</td>\n",
       "      <td>-6.491390</td>\n",
       "      <td>-0.392513</td>\n",
       "      <td>0.345531</td>\n",
       "      <td>-3.572443</td>\n",
       "      <td>-0.002734</td>\n",
       "      <td>-2.758920</td>\n",
       "      <td>-5.120065</td>\n",
       "      <td>-0.831587</td>\n",
       "      <td>-2.985718</td>\n",
       "      <td>-3.265484</td>\n",
       "    </tr>\n",
       "  </tbody>\n",
       "</table>\n",
       "<p>5 rows × 27 columns</p>\n",
       "</div>"
      ],
      "text/plain": [
       "   covid_status  chroma_stft      rmse  spectral_centroid  spectral_bandwidth  \\\n",
       "0           1.0     0.530662  0.012492        3162.314178         3077.276596   \n",
       "1           1.0     0.291660  0.076092        1586.501846         1858.983904   \n",
       "3           1.0     0.681028  0.065885        3255.085820         4549.176543   \n",
       "4           1.0     0.241772  0.020226        1408.958004         1503.902519   \n",
       "5           0.0     0.511784  0.011890        3448.609718         4226.490094   \n",
       "\n",
       "       rolloff  zero_crossing_rate       mfcc1       mfcc2      mfcc3  ...  \\\n",
       "0  5656.464720            0.051597 -539.624573   70.923248 -21.023085  ...   \n",
       "1  2975.042230            0.036814 -340.324066  124.548439   9.032318  ...   \n",
       "3  7710.263578            0.034163 -407.073547   61.919655   6.415006  ...   \n",
       "4  2554.820416            0.032323 -510.743195   50.490688 -16.352106  ...   \n",
       "5  6315.529337            0.061811 -517.450256   40.682167 -10.754708  ...   \n",
       "\n",
       "      mfcc11    mfcc12    mfcc13     mfcc14    mfcc15    mfcc16    mfcc17  \\\n",
       "0  -6.839964 -2.880063  0.642384  -6.130341 -3.196272 -3.263852 -6.482019   \n",
       "1 -22.191097 -1.023864 -3.656982 -14.091269 -8.621853 -5.527614 -6.184521   \n",
       "3   5.473977  6.546779  8.448262   7.766901  2.511950  3.842897  1.211067   \n",
       "4  -3.257951 -2.551245  0.408354  -2.281638 -2.480655 -2.899497 -3.295894   \n",
       "5  -6.491390 -0.392513  0.345531  -3.572443 -0.002734 -2.758920 -5.120065   \n",
       "\n",
       "     mfcc18    mfcc19     mfcc20  \n",
       "0 -0.151838  0.057630  -2.856626  \n",
       "1 -4.964400 -7.813180 -11.550410  \n",
       "3  4.794546  2.072728  -1.464542  \n",
       "4 -0.243877 -2.236765  -4.250204  \n",
       "5 -0.831587 -2.985718  -3.265484  \n",
       "\n",
       "[5 rows x 27 columns]"
      ]
     },
     "execution_count": 10,
     "metadata": {},
     "output_type": "execute_result"
    }
   ],
   "source": [
    "second_wave.head()"
   ]
  },
  {
   "cell_type": "code",
   "execution_count": 11,
   "id": "0723a0db",
   "metadata": {},
   "outputs": [],
   "source": [
    "# (1) + https://www.kaggle.com/ahmettezcantekin/sweetviz-simple-and-quick-eda\n",
    "# import sweetviz\n",
    "# import pandas as pd\n",
    "# #df = pd.read_csv('sample.csv')\n",
    "# my_report  = sweetviz.analyze([second_wave,'Train'], target_feat='covid_status')\n",
    "# my_report\n",
    "\n",
    "# FIRST_WAVE = file:///C:/Users/DELL/COV_Project/Files/Waves_Data/first_wave_sweetviz.html\n",
    "# SECOND_WAVE = file:///C:/Users/DELL/COV_Project/Files/Waves_Data/second_wave_sweetviz.html"
   ]
  },
  {
   "cell_type": "code",
   "execution_count": null,
   "id": "5c98489c",
   "metadata": {},
   "outputs": [],
   "source": [
    "from autoviz.AutoViz_Class import AutoViz_Class\n",
    "AV = AutoViz_Class()\n",
    "\n"
   ]
  }
 ],
 "metadata": {
  "interpreter": {
   "hash": "b3ba2566441a7c06988d0923437866b63cedc61552a5af99d1f4fb67d367b25f"
  },
  "kernelspec": {
   "display_name": "Python 3",
   "language": "python",
   "name": "python3"
  },
  "language_info": {
   "codemirror_mode": {
    "name": "ipython",
    "version": 3
   },
   "file_extension": ".py",
   "mimetype": "text/x-python",
   "name": "python",
   "nbconvert_exporter": "python",
   "pygments_lexer": "ipython3",
   "version": "3.8.8"
  },
  "papermill": {
   "default_parameters": {},
   "duration": 13470.126256,
   "end_time": "2021-06-24T10:10:43.907785",
   "environment_variables": {},
   "exception": null,
   "input_path": "__notebook__.ipynb",
   "output_path": "__notebook__.ipynb",
   "parameters": {},
   "start_time": "2021-06-24T06:26:13.781529",
   "version": "2.3.3"
  }
 },
 "nbformat": 4,
 "nbformat_minor": 5
}

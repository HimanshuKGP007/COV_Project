{
 "cells": [
  {
   "cell_type": "code",
   "execution_count": 16,
   "id": "f38a0b01",
   "metadata": {},
   "outputs": [],
   "source": [
    "import pandas as pd #To hand with data \n",
    "import numpy as np #To math \n",
    "import seaborn as sns #to visualization\n",
    "import matplotlib.pyplot as plt # to plot the graphs\n",
    "import matplotlib.gridspec as gridspec # to do the grid of plots\n",
    "\n",
    "from sklearn.metrics import classification_report\n",
    "from sklearn.datasets import load_breast_cancer\n",
    "from sklearn.model_selection import train_test_split\n",
    "from sklearn import metrics\n",
    "from sklearn.metrics import confusion_matrix\n",
    "from sklearn.metrics import classification_report\n",
    "from sklearn.model_selection import cross_val_score\n",
    "from sklearn.model_selection import RepeatedKFold\n",
    "from sklearn.metrics import precision_score, recall_score, fbeta_score, confusion_matrix, precision_recall_curve, accuracy_score\n",
    "from sklearn.preprocessing import MinMaxScaler\n",
    "from pathlib import Path\n",
    "import librosa\n",
    "from sklearn.pipeline import Pipeline\n",
    "\n",
    "#SMOTE\n",
    "from imblearn.pipeline import make_pipeline # To do our transformation in a unique time\n",
    "from imblearn.over_sampling import SMOTE\n",
    "from imblearn.metrics import classification_report_imbalanced\n",
    "\n",
    "#models\n",
    "from interpret.glassbox import ExplainableBoostingClassifier\n",
    "from sklearn.linear_model import LogisticRegression\n",
    "from sklearn.ensemble import RandomForestClassifier\n",
    "from sklearn.tree import DecisionTreeClassifier\n",
    "from xgboost import XGBClassifier\n",
    "from sklearn.ensemble import StackingClassifier"
   ]
  },
  {
   "cell_type": "markdown",
   "id": "cb44895a",
   "metadata": {},
   "source": [
    "### Encoding the Target Variable"
   ]
  },
  {
   "cell_type": "code",
   "execution_count": 17,
   "id": "ff89e549",
   "metadata": {},
   "outputs": [],
   "source": [
    "first_wave = pd.read_csv(r'C:\\Users\\DELL\\COV_Project\\Files\\Waves_Data\\first_wave.csv')\n",
    "second_wave = pd.read_csv(r'C:\\Users\\DELL\\COV_Project\\Files\\Waves_Data\\final_data_second_wave.csv')"
   ]
  },
  {
   "cell_type": "code",
   "execution_count": 25,
   "id": "4f31cb73",
   "metadata": {},
   "outputs": [],
   "source": [
    "first_wave['covid_status'] = first_wave['covid_status'].map({'healthy': 1, 'resp_illness_not_identified': 1, 'positive_asymp': 0, 'positive_mild': 0,\n",
    "       'positive_moderate': 0, 'recovered_full': 1})"
   ]
  },
  {
   "cell_type": "code",
   "execution_count": 26,
   "id": "9d18713c",
   "metadata": {},
   "outputs": [],
   "source": [
    "second_wave['covid_status'] = second_wave['covid_status'].map({'healthy': 1, 'resp_illness_not_identified': 1, 'positive_asymp': 0, 'positive_mild': 0,\n",
    "       'positive_moderate': 0, 'recovered_full': 1})"
   ]
  },
  {
   "cell_type": "markdown",
   "id": "21457061",
   "metadata": {},
   "source": [
    "#### Removing NaN values "
   ]
  },
  {
   "cell_type": "code",
   "execution_count": 33,
   "id": "0442abeb",
   "metadata": {},
   "outputs": [],
   "source": [
    "first_wave = first_wave.dropna()\n",
    "second_wave = second_wave.dropna()"
   ]
  },
  {
   "cell_type": "markdown",
   "id": "d9ea9330",
   "metadata": {},
   "source": [
    "## Data Exploration"
   ]
  },
  {
   "cell_type": "code",
   "execution_count": 27,
   "id": "e54f91c4",
   "metadata": {},
   "outputs": [
    {
     "name": "stdout",
     "output_type": "stream",
     "text": [
      "<class 'pandas.core.frame.DataFrame'>\n",
      "RangeIndex: 484 entries, 0 to 483\n",
      "Data columns (total 27 columns):\n",
      " #   Column              Non-Null Count  Dtype  \n",
      "---  ------              --------------  -----  \n",
      " 0   covid_status        451 non-null    float64\n",
      " 1   chroma_stft         484 non-null    float64\n",
      " 2   rmse                484 non-null    float64\n",
      " 3   spectral_centroid   484 non-null    float64\n",
      " 4   spectral_bandwidth  484 non-null    float64\n",
      " 5   rolloff             484 non-null    float64\n",
      " 6   zero_crossing_rate  484 non-null    float64\n",
      " 7   mfcc1               484 non-null    float64\n",
      " 8   mfcc2               484 non-null    float64\n",
      " 9   mfcc3               484 non-null    float64\n",
      " 10  mfcc4               484 non-null    float64\n",
      " 11  mfcc5               484 non-null    float64\n",
      " 12  mfcc6               484 non-null    float64\n",
      " 13  mfcc7               484 non-null    float64\n",
      " 14  mfcc8               484 non-null    float64\n",
      " 15  mfcc9               484 non-null    float64\n",
      " 16  mfcc10              484 non-null    float64\n",
      " 17  mfcc11              484 non-null    float64\n",
      " 18  mfcc12              484 non-null    float64\n",
      " 19  mfcc13              484 non-null    float64\n",
      " 20  mfcc14              484 non-null    float64\n",
      " 21  mfcc15              484 non-null    float64\n",
      " 22  mfcc16              484 non-null    float64\n",
      " 23  mfcc17              484 non-null    float64\n",
      " 24  mfcc18              484 non-null    float64\n",
      " 25  mfcc19              484 non-null    float64\n",
      " 26  mfcc20              484 non-null    float64\n",
      "dtypes: float64(27)\n",
      "memory usage: 102.2 KB\n"
     ]
    }
   ],
   "source": [
    "first_wave.info()"
   ]
  },
  {
   "cell_type": "code",
   "execution_count": 28,
   "id": "23014a32",
   "metadata": {},
   "outputs": [
    {
     "name": "stdout",
     "output_type": "stream",
     "text": [
      "<class 'pandas.core.frame.DataFrame'>\n",
      "RangeIndex: 556 entries, 0 to 555\n",
      "Data columns (total 27 columns):\n",
      " #   Column              Non-Null Count  Dtype  \n",
      "---  ------              --------------  -----  \n",
      " 0   covid_status        497 non-null    float64\n",
      " 1   chroma_stft         556 non-null    float64\n",
      " 2   rmse                556 non-null    float64\n",
      " 3   spectral_centroid   556 non-null    float64\n",
      " 4   spectral_bandwidth  556 non-null    float64\n",
      " 5   rolloff             556 non-null    float64\n",
      " 6   zero_crossing_rate  556 non-null    float64\n",
      " 7   mfcc1               556 non-null    float64\n",
      " 8   mfcc2               556 non-null    float64\n",
      " 9   mfcc3               556 non-null    float64\n",
      " 10  mfcc4               556 non-null    float64\n",
      " 11  mfcc5               556 non-null    float64\n",
      " 12  mfcc6               556 non-null    float64\n",
      " 13  mfcc7               556 non-null    float64\n",
      " 14  mfcc8               556 non-null    float64\n",
      " 15  mfcc9               556 non-null    float64\n",
      " 16  mfcc10              556 non-null    float64\n",
      " 17  mfcc11              556 non-null    float64\n",
      " 18  mfcc12              556 non-null    float64\n",
      " 19  mfcc13              556 non-null    float64\n",
      " 20  mfcc14              556 non-null    float64\n",
      " 21  mfcc15              556 non-null    float64\n",
      " 22  mfcc16              556 non-null    float64\n",
      " 23  mfcc17              556 non-null    float64\n",
      " 24  mfcc18              556 non-null    float64\n",
      " 25  mfcc19              556 non-null    float64\n",
      " 26  mfcc20              556 non-null    float64\n",
      "dtypes: float64(27)\n",
      "memory usage: 117.4 KB\n"
     ]
    }
   ],
   "source": [
    "second_wave.info()"
   ]
  },
  {
   "cell_type": "code",
   "execution_count": 29,
   "id": "802b0102",
   "metadata": {},
   "outputs": [],
   "source": [
    "# https://www.analyticsvidhya.com/blog/2021/04/top-python-libraries-to-automate-exploratory-data-analysis-in-2021/\n",
    "# import dtale\n",
    "# import pandas as pd\n",
    "# df = pd.read_csv(‘data.csv’)\n",
    "# d = dtale.show(df)\n",
    "# d.open_browser()"
   ]
  },
  {
   "cell_type": "code",
   "execution_count": 30,
   "id": "78b0dec5",
   "metadata": {},
   "outputs": [],
   "source": [
    "# #importing required packages\n",
    "# import pandas as pd\n",
    "# import pandas_profiling\n",
    "# import numpy as np\n",
    "\n",
    "# #descriptive statistics\n",
    "# pandas_profiling.ProfileReport(first_wave)\n",
    "# pandas_profiling.ProfileReport(second_wave)"
   ]
  },
  {
   "cell_type": "code",
   "execution_count": 31,
   "id": "f235db66",
   "metadata": {},
   "outputs": [
    {
     "data": {
      "text/html": [
       "<div>\n",
       "<style scoped>\n",
       "    .dataframe tbody tr th:only-of-type {\n",
       "        vertical-align: middle;\n",
       "    }\n",
       "\n",
       "    .dataframe tbody tr th {\n",
       "        vertical-align: top;\n",
       "    }\n",
       "\n",
       "    .dataframe thead th {\n",
       "        text-align: right;\n",
       "    }\n",
       "</style>\n",
       "<table border=\"1\" class=\"dataframe\">\n",
       "  <thead>\n",
       "    <tr style=\"text-align: right;\">\n",
       "      <th></th>\n",
       "      <th>covid_status</th>\n",
       "      <th>chroma_stft</th>\n",
       "      <th>rmse</th>\n",
       "      <th>spectral_centroid</th>\n",
       "      <th>spectral_bandwidth</th>\n",
       "      <th>rolloff</th>\n",
       "      <th>zero_crossing_rate</th>\n",
       "      <th>mfcc1</th>\n",
       "      <th>mfcc2</th>\n",
       "      <th>mfcc3</th>\n",
       "      <th>...</th>\n",
       "      <th>mfcc11</th>\n",
       "      <th>mfcc12</th>\n",
       "      <th>mfcc13</th>\n",
       "      <th>mfcc14</th>\n",
       "      <th>mfcc15</th>\n",
       "      <th>mfcc16</th>\n",
       "      <th>mfcc17</th>\n",
       "      <th>mfcc18</th>\n",
       "      <th>mfcc19</th>\n",
       "      <th>mfcc20</th>\n",
       "    </tr>\n",
       "  </thead>\n",
       "  <tbody>\n",
       "    <tr>\n",
       "      <th>0</th>\n",
       "      <td>1.0</td>\n",
       "      <td>0.559781</td>\n",
       "      <td>0.005139</td>\n",
       "      <td>3414.450295</td>\n",
       "      <td>3852.819164</td>\n",
       "      <td>6722.366637</td>\n",
       "      <td>0.073481</td>\n",
       "      <td>-578.454224</td>\n",
       "      <td>100.593597</td>\n",
       "      <td>-20.662931</td>\n",
       "      <td>...</td>\n",
       "      <td>0.676318</td>\n",
       "      <td>2.169027</td>\n",
       "      <td>-3.117411</td>\n",
       "      <td>-4.751014</td>\n",
       "      <td>-8.532103</td>\n",
       "      <td>-2.877681</td>\n",
       "      <td>-6.372658</td>\n",
       "      <td>-10.019708</td>\n",
       "      <td>-7.233541</td>\n",
       "      <td>-5.531066</td>\n",
       "    </tr>\n",
       "    <tr>\n",
       "      <th>1</th>\n",
       "      <td>1.0</td>\n",
       "      <td>0.048852</td>\n",
       "      <td>0.000151</td>\n",
       "      <td>266.561623</td>\n",
       "      <td>287.565853</td>\n",
       "      <td>470.472244</td>\n",
       "      <td>0.003131</td>\n",
       "      <td>-986.169312</td>\n",
       "      <td>11.261070</td>\n",
       "      <td>-5.095660</td>\n",
       "      <td>...</td>\n",
       "      <td>-0.103437</td>\n",
       "      <td>-0.244169</td>\n",
       "      <td>-0.498977</td>\n",
       "      <td>-1.392723</td>\n",
       "      <td>-0.122609</td>\n",
       "      <td>-0.091930</td>\n",
       "      <td>-0.836328</td>\n",
       "      <td>0.076709</td>\n",
       "      <td>-0.351206</td>\n",
       "      <td>-0.637464</td>\n",
       "    </tr>\n",
       "    <tr>\n",
       "      <th>2</th>\n",
       "      <td>1.0</td>\n",
       "      <td>0.510157</td>\n",
       "      <td>0.029501</td>\n",
       "      <td>2993.747046</td>\n",
       "      <td>4082.985889</td>\n",
       "      <td>6813.473087</td>\n",
       "      <td>0.033092</td>\n",
       "      <td>-490.079742</td>\n",
       "      <td>56.480343</td>\n",
       "      <td>-5.512434</td>\n",
       "      <td>...</td>\n",
       "      <td>-9.713926</td>\n",
       "      <td>-2.367161</td>\n",
       "      <td>0.320710</td>\n",
       "      <td>-0.423703</td>\n",
       "      <td>2.408605</td>\n",
       "      <td>1.049164</td>\n",
       "      <td>0.936303</td>\n",
       "      <td>3.420897</td>\n",
       "      <td>2.422361</td>\n",
       "      <td>1.614452</td>\n",
       "    </tr>\n",
       "    <tr>\n",
       "      <th>3</th>\n",
       "      <td>1.0</td>\n",
       "      <td>0.479611</td>\n",
       "      <td>0.040758</td>\n",
       "      <td>5526.666112</td>\n",
       "      <td>5051.542868</td>\n",
       "      <td>10952.361328</td>\n",
       "      <td>0.154696</td>\n",
       "      <td>-403.194855</td>\n",
       "      <td>31.794283</td>\n",
       "      <td>5.816183</td>\n",
       "      <td>...</td>\n",
       "      <td>-8.756487</td>\n",
       "      <td>-4.543206</td>\n",
       "      <td>-6.477761</td>\n",
       "      <td>-2.938485</td>\n",
       "      <td>-4.967889</td>\n",
       "      <td>-1.890859</td>\n",
       "      <td>-5.388695</td>\n",
       "      <td>1.436146</td>\n",
       "      <td>-1.814564</td>\n",
       "      <td>3.331939</td>\n",
       "    </tr>\n",
       "    <tr>\n",
       "      <th>4</th>\n",
       "      <td>1.0</td>\n",
       "      <td>0.501383</td>\n",
       "      <td>0.022911</td>\n",
       "      <td>4030.641927</td>\n",
       "      <td>3852.979012</td>\n",
       "      <td>7795.914331</td>\n",
       "      <td>0.067175</td>\n",
       "      <td>-515.401001</td>\n",
       "      <td>74.039436</td>\n",
       "      <td>-33.350433</td>\n",
       "      <td>...</td>\n",
       "      <td>0.880419</td>\n",
       "      <td>1.817128</td>\n",
       "      <td>2.164741</td>\n",
       "      <td>-5.970574</td>\n",
       "      <td>-4.477877</td>\n",
       "      <td>0.590816</td>\n",
       "      <td>0.362597</td>\n",
       "      <td>0.053137</td>\n",
       "      <td>-4.933649</td>\n",
       "      <td>-6.648327</td>\n",
       "    </tr>\n",
       "  </tbody>\n",
       "</table>\n",
       "<p>5 rows × 27 columns</p>\n",
       "</div>"
      ],
      "text/plain": [
       "   covid_status  chroma_stft      rmse  spectral_centroid  spectral_bandwidth  \\\n",
       "0           1.0     0.559781  0.005139        3414.450295         3852.819164   \n",
       "1           1.0     0.048852  0.000151         266.561623          287.565853   \n",
       "2           1.0     0.510157  0.029501        2993.747046         4082.985889   \n",
       "3           1.0     0.479611  0.040758        5526.666112         5051.542868   \n",
       "4           1.0     0.501383  0.022911        4030.641927         3852.979012   \n",
       "\n",
       "        rolloff  zero_crossing_rate       mfcc1       mfcc2      mfcc3  ...  \\\n",
       "0   6722.366637            0.073481 -578.454224  100.593597 -20.662931  ...   \n",
       "1    470.472244            0.003131 -986.169312   11.261070  -5.095660  ...   \n",
       "2   6813.473087            0.033092 -490.079742   56.480343  -5.512434  ...   \n",
       "3  10952.361328            0.154696 -403.194855   31.794283   5.816183  ...   \n",
       "4   7795.914331            0.067175 -515.401001   74.039436 -33.350433  ...   \n",
       "\n",
       "     mfcc11    mfcc12    mfcc13    mfcc14    mfcc15    mfcc16    mfcc17  \\\n",
       "0  0.676318  2.169027 -3.117411 -4.751014 -8.532103 -2.877681 -6.372658   \n",
       "1 -0.103437 -0.244169 -0.498977 -1.392723 -0.122609 -0.091930 -0.836328   \n",
       "2 -9.713926 -2.367161  0.320710 -0.423703  2.408605  1.049164  0.936303   \n",
       "3 -8.756487 -4.543206 -6.477761 -2.938485 -4.967889 -1.890859 -5.388695   \n",
       "4  0.880419  1.817128  2.164741 -5.970574 -4.477877  0.590816  0.362597   \n",
       "\n",
       "      mfcc18    mfcc19    mfcc20  \n",
       "0 -10.019708 -7.233541 -5.531066  \n",
       "1   0.076709 -0.351206 -0.637464  \n",
       "2   3.420897  2.422361  1.614452  \n",
       "3   1.436146 -1.814564  3.331939  \n",
       "4   0.053137 -4.933649 -6.648327  \n",
       "\n",
       "[5 rows x 27 columns]"
      ]
     },
     "execution_count": 31,
     "metadata": {},
     "output_type": "execute_result"
    }
   ],
   "source": [
    "first_wave.head()"
   ]
  },
  {
   "cell_type": "code",
   "execution_count": 32,
   "id": "487ebaf5",
   "metadata": {},
   "outputs": [
    {
     "data": {
      "application/vnd.jupyter.widget-view+json": {
       "model_id": "43b52fa78d074949870586845e7c0c57",
       "version_major": 2,
       "version_minor": 0
      },
      "text/plain": [
       "HBox(children=(FloatProgress(value=0.0, layout=Layout(flex='2'), max=28.0), HTML(value='')), layout=Layout(dis…"
      ]
     },
     "metadata": {},
     "output_type": "display_data"
    },
    {
     "name": "stdout",
     "output_type": "stream",
     "text": [
      "\n"
     ]
    },
    {
     "ename": "ValueError",
     "evalue": "\nTarget feature 'covid_status' contains NaN (missing) values.\nTo avoid confusion in interpreting target distribution,\ntarget features MUST NOT have any missing values at this time.\n",
     "output_type": "error",
     "traceback": [
      "\u001b[1;31m---------------------------------------------------------------------------\u001b[0m",
      "\u001b[1;31mValueError\u001b[0m                                Traceback (most recent call last)",
      "\u001b[1;32m<ipython-input-32-6a46c8d30f37>\u001b[0m in \u001b[0;36m<module>\u001b[1;34m\u001b[0m\n\u001b[0;32m      2\u001b[0m \u001b[1;32mimport\u001b[0m \u001b[0mpandas\u001b[0m \u001b[1;32mas\u001b[0m \u001b[0mpd\u001b[0m\u001b[1;33m\u001b[0m\u001b[1;33m\u001b[0m\u001b[0m\n\u001b[0;32m      3\u001b[0m \u001b[1;31m#df = pd.read_csv('sample.csv')\u001b[0m\u001b[1;33m\u001b[0m\u001b[1;33m\u001b[0m\u001b[1;33m\u001b[0m\u001b[0m\n\u001b[1;32m----> 4\u001b[1;33m \u001b[0mmy_report\u001b[0m  \u001b[1;33m=\u001b[0m \u001b[0msweetviz\u001b[0m\u001b[1;33m.\u001b[0m\u001b[0manalyze\u001b[0m\u001b[1;33m(\u001b[0m\u001b[1;33m[\u001b[0m\u001b[0mfirst_wave\u001b[0m\u001b[1;33m,\u001b[0m\u001b[1;34m'Train'\u001b[0m\u001b[1;33m]\u001b[0m\u001b[1;33m,\u001b[0m \u001b[0mtarget_feat\u001b[0m\u001b[1;33m=\u001b[0m\u001b[1;34m'covid_status'\u001b[0m\u001b[1;33m)\u001b[0m\u001b[1;33m\u001b[0m\u001b[1;33m\u001b[0m\u001b[0m\n\u001b[0m\u001b[0;32m      5\u001b[0m \u001b[0mmy_report\u001b[0m\u001b[1;33m.\u001b[0m\u001b[0mshow_html\u001b[0m\u001b[1;33m(\u001b[0m\u001b[1;34m'first_wave_sweetviz.html'\u001b[0m\u001b[1;33m)\u001b[0m\u001b[1;33m\u001b[0m\u001b[1;33m\u001b[0m\u001b[0m\n",
      "\u001b[1;32mC:\\ProgramData\\Anaconda3\\lib\\site-packages\\sweetviz\\sv_public.py\u001b[0m in \u001b[0;36manalyze\u001b[1;34m(source, target_feat, feat_cfg, pairwise_analysis)\u001b[0m\n\u001b[0;32m     10\u001b[0m             \u001b[0mfeat_cfg\u001b[0m\u001b[1;33m:\u001b[0m \u001b[0mFeatureConfig\u001b[0m \u001b[1;33m=\u001b[0m \u001b[1;32mNone\u001b[0m\u001b[1;33m,\u001b[0m\u001b[1;33m\u001b[0m\u001b[1;33m\u001b[0m\u001b[0m\n\u001b[0;32m     11\u001b[0m             pairwise_analysis: str = 'auto'):\n\u001b[1;32m---> 12\u001b[1;33m     report = sweetviz.DataframeReport(source, target_feat, None,\n\u001b[0m\u001b[0;32m     13\u001b[0m                                       pairwise_analysis, feat_cfg)\n\u001b[0;32m     14\u001b[0m     \u001b[1;32mreturn\u001b[0m \u001b[0mreport\u001b[0m\u001b[1;33m\u001b[0m\u001b[1;33m\u001b[0m\u001b[0m\n",
      "\u001b[1;32mC:\\ProgramData\\Anaconda3\\lib\\site-packages\\sweetviz\\dataframe_report.py\u001b[0m in \u001b[0;36m__init__\u001b[1;34m(self, source, target_feature_name, compare, pairwise_analysis, fc)\u001b[0m\n\u001b[0;32m    178\u001b[0m             \u001b[1;32mif\u001b[0m \u001b[0msource_df\u001b[0m\u001b[1;33m[\u001b[0m\u001b[0mtargets_found\u001b[0m\u001b[1;33m[\u001b[0m\u001b[1;36m0\u001b[0m\u001b[1;33m]\u001b[0m\u001b[1;33m]\u001b[0m\u001b[1;33m.\u001b[0m\u001b[0misnull\u001b[0m\u001b[1;33m(\u001b[0m\u001b[1;33m)\u001b[0m\u001b[1;33m.\u001b[0m\u001b[0mvalues\u001b[0m\u001b[1;33m.\u001b[0m\u001b[0many\u001b[0m\u001b[1;33m(\u001b[0m\u001b[1;33m)\u001b[0m\u001b[1;33m:\u001b[0m\u001b[1;33m\u001b[0m\u001b[1;33m\u001b[0m\u001b[0m\n\u001b[0;32m    179\u001b[0m                 \u001b[0mself\u001b[0m\u001b[1;33m.\u001b[0m\u001b[0mprogress_bar\u001b[0m\u001b[1;33m.\u001b[0m\u001b[0mclose\u001b[0m\u001b[1;33m(\u001b[0m\u001b[1;33m)\u001b[0m\u001b[1;33m\u001b[0m\u001b[1;33m\u001b[0m\u001b[0m\n\u001b[1;32m--> 180\u001b[1;33m                 raise ValueError(f\"\\nTarget feature '{targets_found[0]}' contains NaN (missing) values.\\n\"\n\u001b[0m\u001b[0;32m    181\u001b[0m                                \u001b[1;34mf\"To avoid confusion in interpreting target distribution,\\n\"\u001b[0m\u001b[1;33m\u001b[0m\u001b[1;33m\u001b[0m\u001b[0m\n\u001b[0;32m    182\u001b[0m                                f\"target features MUST NOT have any missing values at this time.\\n\")\n",
      "\u001b[1;31mValueError\u001b[0m: \nTarget feature 'covid_status' contains NaN (missing) values.\nTo avoid confusion in interpreting target distribution,\ntarget features MUST NOT have any missing values at this time.\n"
     ]
    }
   ],
   "source": [
    "import sweetviz\n",
    "import pandas as pd\n",
    "#df = pd.read_csv('sample.csv')\n",
    "my_report  = sweetviz.analyze([first_wave,'Train'], target_feat='covid_status')\n",
    "my_report.show_html('first_wave_sweetviz.html')"
   ]
  },
  {
   "cell_type": "code",
   "execution_count": null,
   "id": "c7f43774",
   "metadata": {},
   "outputs": [],
   "source": []
  }
 ],
 "metadata": {
  "interpreter": {
   "hash": "b3ba2566441a7c06988d0923437866b63cedc61552a5af99d1f4fb67d367b25f"
  },
  "kernelspec": {
   "display_name": "Python 3",
   "language": "python",
   "name": "python3"
  },
  "language_info": {
   "codemirror_mode": {
    "name": "ipython",
    "version": 3
   },
   "file_extension": ".py",
   "mimetype": "text/x-python",
   "name": "python",
   "nbconvert_exporter": "python",
   "pygments_lexer": "ipython3",
   "version": "3.8.8"
  },
  "papermill": {
   "default_parameters": {},
   "duration": 13470.126256,
   "end_time": "2021-06-24T10:10:43.907785",
   "environment_variables": {},
   "exception": null,
   "input_path": "__notebook__.ipynb",
   "output_path": "__notebook__.ipynb",
   "parameters": {},
   "start_time": "2021-06-24T06:26:13.781529",
   "version": "2.3.3"
  }
 },
 "nbformat": 4,
 "nbformat_minor": 5
}

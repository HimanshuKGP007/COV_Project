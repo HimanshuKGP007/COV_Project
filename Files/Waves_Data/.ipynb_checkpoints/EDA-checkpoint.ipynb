{
 "cells": [
  {
   "cell_type": "code",
   "execution_count": 1,
   "id": "f38a0b01",
   "metadata": {},
   "outputs": [],
   "source": [
    "import pandas as pd #To hand with data \n",
    "import numpy as np #To math \n",
    "import seaborn as sns #to visualization\n",
    "import matplotlib.pyplot as plt # to plot the graphs\n",
    "import matplotlib.gridspec as gridspec # to do the grid of plots\n",
    "\n",
    "from sklearn.metrics import classification_report\n",
    "from sklearn.datasets import load_breast_cancer\n",
    "from sklearn.model_selection import train_test_split\n",
    "from sklearn import metrics\n",
    "from sklearn.metrics import confusion_matrix\n",
    "from sklearn.metrics import classification_report\n",
    "from sklearn.model_selection import cross_val_score\n",
    "from sklearn.model_selection import RepeatedKFold\n",
    "from sklearn.metrics import precision_score, recall_score, fbeta_score, confusion_matrix, precision_recall_curve, accuracy_score\n",
    "from sklearn.preprocessing import MinMaxScaler\n",
    "from pathlib import Path\n",
    "import librosa\n",
    "from sklearn.pipeline import Pipeline\n",
    "\n",
    "#SMOTE\n",
    "from imblearn.pipeline import make_pipeline # To do our transformation in a unique time\n",
    "from imblearn.over_sampling import SMOTE\n",
    "from imblearn.metrics import classification_report_imbalanced\n",
    "\n",
    "#models\n",
    "from interpret.glassbox import ExplainableBoostingClassifier\n",
    "from sklearn.linear_model import LogisticRegression\n",
    "from sklearn.ensemble import RandomForestClassifier\n",
    "from sklearn.tree import DecisionTreeClassifier\n",
    "from xgboost import XGBClassifier\n",
    "from sklearn.ensemble import StackingClassifier"
   ]
  },
  {
   "cell_type": "code",
   "execution_count": 2,
   "id": "ff89e549",
   "metadata": {},
   "outputs": [],
   "source": [
    "first_wave = pd.read_csv(r'C:\\Users\\DELL\\COV_Project\\Files\\Waves_Data\\first_wave.csv')\n",
    "second_wave = pd.read_csv(r'C:\\Users\\DELL\\COV_Project\\Files\\Waves_Data\\final_data_second_wave.csv')"
   ]
  },
  {
   "cell_type": "code",
   "execution_count": 3,
   "id": "e54f91c4",
   "metadata": {},
   "outputs": [
    {
     "name": "stdout",
     "output_type": "stream",
     "text": [
      "<class 'pandas.core.frame.DataFrame'>\n",
      "RangeIndex: 484 entries, 0 to 483\n",
      "Data columns (total 27 columns):\n",
      " #   Column              Non-Null Count  Dtype  \n",
      "---  ------              --------------  -----  \n",
      " 0   covid_status        484 non-null    object \n",
      " 1   chroma_stft         484 non-null    float64\n",
      " 2   rmse                484 non-null    float64\n",
      " 3   spectral_centroid   484 non-null    float64\n",
      " 4   spectral_bandwidth  484 non-null    float64\n",
      " 5   rolloff             484 non-null    float64\n",
      " 6   zero_crossing_rate  484 non-null    float64\n",
      " 7   mfcc1               484 non-null    float64\n",
      " 8   mfcc2               484 non-null    float64\n",
      " 9   mfcc3               484 non-null    float64\n",
      " 10  mfcc4               484 non-null    float64\n",
      " 11  mfcc5               484 non-null    float64\n",
      " 12  mfcc6               484 non-null    float64\n",
      " 13  mfcc7               484 non-null    float64\n",
      " 14  mfcc8               484 non-null    float64\n",
      " 15  mfcc9               484 non-null    float64\n",
      " 16  mfcc10              484 non-null    float64\n",
      " 17  mfcc11              484 non-null    float64\n",
      " 18  mfcc12              484 non-null    float64\n",
      " 19  mfcc13              484 non-null    float64\n",
      " 20  mfcc14              484 non-null    float64\n",
      " 21  mfcc15              484 non-null    float64\n",
      " 22  mfcc16              484 non-null    float64\n",
      " 23  mfcc17              484 non-null    float64\n",
      " 24  mfcc18              484 non-null    float64\n",
      " 25  mfcc19              484 non-null    float64\n",
      " 26  mfcc20              484 non-null    float64\n",
      "dtypes: float64(26), object(1)\n",
      "memory usage: 102.2+ KB\n"
     ]
    }
   ],
   "source": [
    "first_wave.info()"
   ]
  },
  {
   "cell_type": "code",
   "execution_count": 4,
   "id": "3e299fe2",
   "metadata": {},
   "outputs": [
    {
     "name": "stdout",
     "output_type": "stream",
     "text": [
      "<class 'pandas.core.frame.DataFrame'>\n",
      "RangeIndex: 556 entries, 0 to 555\n",
      "Data columns (total 27 columns):\n",
      " #   Column              Non-Null Count  Dtype  \n",
      "---  ------              --------------  -----  \n",
      " 0   covid_status        556 non-null    object \n",
      " 1   chroma_stft         556 non-null    float64\n",
      " 2   rmse                556 non-null    float64\n",
      " 3   spectral_centroid   556 non-null    float64\n",
      " 4   spectral_bandwidth  556 non-null    float64\n",
      " 5   rolloff             556 non-null    float64\n",
      " 6   zero_crossing_rate  556 non-null    float64\n",
      " 7   mfcc1               556 non-null    float64\n",
      " 8   mfcc2               556 non-null    float64\n",
      " 9   mfcc3               556 non-null    float64\n",
      " 10  mfcc4               556 non-null    float64\n",
      " 11  mfcc5               556 non-null    float64\n",
      " 12  mfcc6               556 non-null    float64\n",
      " 13  mfcc7               556 non-null    float64\n",
      " 14  mfcc8               556 non-null    float64\n",
      " 15  mfcc9               556 non-null    float64\n",
      " 16  mfcc10              556 non-null    float64\n",
      " 17  mfcc11              556 non-null    float64\n",
      " 18  mfcc12              556 non-null    float64\n",
      " 19  mfcc13              556 non-null    float64\n",
      " 20  mfcc14              556 non-null    float64\n",
      " 21  mfcc15              556 non-null    float64\n",
      " 22  mfcc16              556 non-null    float64\n",
      " 23  mfcc17              556 non-null    float64\n",
      " 24  mfcc18              556 non-null    float64\n",
      " 25  mfcc19              556 non-null    float64\n",
      " 26  mfcc20              556 non-null    float64\n",
      "dtypes: float64(26), object(1)\n",
      "memory usage: 117.4+ KB\n"
     ]
    }
   ],
   "source": [
    "second_wave.info()"
   ]
  },
  {
   "cell_type": "code",
   "execution_count": null,
   "id": "0aefdf5d",
   "metadata": {},
   "outputs": [],
   "source": []
  }
 ],
 "metadata": {
  "interpreter": {
   "hash": "b3ba2566441a7c06988d0923437866b63cedc61552a5af99d1f4fb67d367b25f"
  },
  "kernelspec": {
   "display_name": "Python 3",
   "language": "python",
   "name": "python3"
  },
  "language_info": {
   "codemirror_mode": {
    "name": "ipython",
    "version": 3
   },
   "file_extension": ".py",
   "mimetype": "text/x-python",
   "name": "python",
   "nbconvert_exporter": "python",
   "pygments_lexer": "ipython3",
   "version": "3.8.8"
  },
  "papermill": {
   "default_parameters": {},
   "duration": 13470.126256,
   "end_time": "2021-06-24T10:10:43.907785",
   "environment_variables": {},
   "exception": null,
   "input_path": "__notebook__.ipynb",
   "output_path": "__notebook__.ipynb",
   "parameters": {},
   "start_time": "2021-06-24T06:26:13.781529",
   "version": "2.3.3"
  }
 },
 "nbformat": 4,
 "nbformat_minor": 5
}

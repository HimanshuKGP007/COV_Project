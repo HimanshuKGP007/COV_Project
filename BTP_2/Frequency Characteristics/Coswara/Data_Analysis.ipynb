{
 "cells": [
  {
   "cell_type": "code",
   "execution_count": 1,
   "id": "5a0c9da8",
   "metadata": {
    "execution": {
     "iopub.execute_input": "2021-11-06T06:28:13.742891Z",
     "iopub.status.busy": "2021-11-06T06:28:13.741929Z",
     "iopub.status.idle": "2021-11-06T06:28:16.270256Z",
     "shell.execute_reply": "2021-11-06T06:28:16.269567Z",
     "shell.execute_reply.started": "2021-11-06T06:27:23.221802Z"
    },
    "papermill": {
     "duration": 2.566119,
     "end_time": "2021-11-06T06:28:16.270431",
     "exception": false,
     "start_time": "2021-11-06T06:28:13.704312",
     "status": "completed"
    },
    "tags": []
   },
   "outputs": [],
   "source": [
    "# This Python 3 environment comes with many helpful analytics libraries installed\n",
    "# It is defined by the kaggle/python Docker image: https://github.com/kaggle/docker-python\n",
    "# For example, here's several helpful packages to load\n",
    "\n",
    "import numpy as np # linear algebra\n",
    "import pandas as pd # data processing, CSV file I/O (e.g. pd.read_csv)\n",
    "#from scipy import fft\n",
    "from scipy import signal as sig\n",
    "from scipy.fft import fft, fftfreq\n",
    "from IPython.display import Audio\n",
    "import matplotlib.pyplot as plt\n",
    "import numpy as np\n",
    "import pandas as pd\n",
    "import math\n",
    "import wave\n",
    "import numpy as np\n",
    "import matplotlib.pyplot as plt\n",
    "import sys\n",
    "import os\n",
    "import librosa, librosa.display\n",
    "import IPython.display as ipd\n",
    "from pandas.plotting import register_matplotlib_converters\n",
    "register_matplotlib_converters()\n",
    "import scipy.io.wavfile as wavfile\n",
    "import scipy\n",
    "import scipy.fftpack\n",
    "import numpy as np\n",
    "from matplotlib import pyplot as plt\n",
    "import seaborn as sns\n",
    "import plotly.graph_objs as go\n",
    "import warnings\n",
    "warnings.simplefilter('ignore')"
   ]
  },
  {
   "cell_type": "code",
   "execution_count": 2,
   "id": "f64d066e",
   "metadata": {
    "papermill": {
     "duration": 0.589567,
     "end_time": "2021-11-06T06:28:45.380109",
     "exception": false,
     "start_time": "2021-11-06T06:28:44.790542",
     "status": "completed"
    },
    "tags": []
   },
   "outputs": [],
   "source": [
    "data = pd.read_csv(r'C:\\Users\\DELL\\COV_Project\\BTP_2\\eda_combined_dataset.csv')"
   ]
  },
  {
   "cell_type": "code",
   "execution_count": 7,
   "id": "5db9a0f7",
   "metadata": {},
   "outputs": [],
   "source": [
    "data.rename(columns={\n",
    "    \"id\":\"User ID\",\n",
    "    \"a\":\"Age (number)\",\n",
    "    \"covid_status\":\"Health status (e.g. : positive_mild, healthy,etc.)\",\n",
    "    \"record_date\": \"Date when the user recorded and submitted the samples\",\n",
    "    \"ep\":\"Proficient in English (y/n)\",\n",
    "    \"g\":\"Gender (male/female/other)\" ,\n",
    "    \"l_c\":\"Country\",\n",
    "    \"l_l\":\"Locality\",\n",
    "    \"l_s\":\"State\",\n",
    "    \"rU\":\"Returning User (y/n)\",\n",
    "    \"asthma\":\"Asthma (True/False)\",\n",
    "    \"cough\":\"Cough (True/False)\",\n",
    "    \"smoker\":\"Smoker (True/False)\",\n",
    "    \"test_status\":\"Status of COVID Test (p->Positive, n->Negative, na-> Not taken Test)\",\n",
    "    \"ht\":\"Hypertension  (True/False)\",\n",
    "    \"cold\":\"Cold  (True/False)\",\n",
    "    \"diabetes\":\"Diabetes  (True/False)\",\n",
    "    \"diarrhoea\":\"Diarrheoa  (True/False)\",\n",
    "    \"um\":\"Using Mask (y/n)\",\n",
    "    \"ihd\":\"Ischemic Heart Disease (True/False)\",\n",
    "    \"bd\":\"Breathing Difficulties (True/False)\",\n",
    "    \"st\":\"Sore Throat (True/False)\",\n",
    "    \"fever\":\"Fever (True/False)\",\n",
    "    \"ftg\":\"Fatigue (True/False)\",\n",
    "    \"mp\":\"Muscle Pain (True/False)\",\n",
    "    \"loss_of_smell\":\"Loss of Smell & Taste (True/False)\",\n",
    "    \"cld\":\"Chronic Lung Disease (True/False)\",\n",
    "    \"pneumonia\":\"Pneumonia (True/False)\",\n",
    "    \"ctScan\":\"CT-Scan (y/n if the user has taken a test)\",\n",
    "    \"testType\":\"Type of test (RAT/RT-PCR)\",\n",
    "    \"test_date\":\"Date of COVID Test (if taken)\",\n",
    "    \"vacc\":\"Vaccination status (y->both doses, p->one dose(partially vaccinated), n->no doses)\",\n",
    "    \"ctDate\":\"Date of CT-Scan\",\n",
    "    \"ctScore\":\"CT-Score\",\n",
    "    \"others_resp\":\"Respiratory illnesses other than the listed ones (True/False)\",\n",
    "    \"others_preexist\":\"Pre-existing conditions other than the listed ones (True/False)\"\n",
    "}, inplace=True)"
   ]
  },
  {
   "cell_type": "code",
   "execution_count": 8,
   "id": "c0dfdb9c",
   "metadata": {
    "papermill": {
     "duration": 0.589201,
     "end_time": "2021-11-06T06:28:46.564098",
     "exception": false,
     "start_time": "2021-11-06T06:28:45.974897",
     "status": "completed"
    },
    "tags": []
   },
   "outputs": [
    {
     "name": "stdout",
     "output_type": "stream",
     "text": [
      "Requirement already satisfied: dtale in c:\\users\\dell\\data_science\\lib\\site-packages (1.61.1)\n",
      "Requirement already satisfied: flask-ngrok in c:\\users\\dell\\data_science\\lib\\site-packages (from dtale) (0.0.25)\n",
      "Requirement already satisfied: scikit-learn==0.24.2 in c:\\users\\dell\\data_science\\lib\\site-packages (from dtale) (0.24.2)\n",
      "Requirement already satisfied: pandas in c:\\users\\dell\\data_science\\lib\\site-packages (from dtale) (1.3.4)\n",
      "Requirement already satisfied: future>=0.14.0 in c:\\users\\dell\\data_science\\lib\\site-packages (from dtale) (0.18.2)\n",
      "Requirement already satisfied: dash-daq in c:\\users\\dell\\data_science\\lib\\site-packages (from dtale) (0.5.0)\n",
      "Requirement already satisfied: dash>=2.0.0 in c:\\users\\dell\\data_science\\lib\\site-packages (from dtale) (2.1.0)\n",
      "Requirement already satisfied: dash-bootstrap-components in c:\\users\\dell\\data_science\\lib\\site-packages (from dtale) (1.0.3)\n",
      "Requirement already satisfied: lz4 in c:\\users\\dell\\data_science\\lib\\site-packages (from dtale) (3.1.10)\n",
      "Requirement already satisfied: scipy in c:\\users\\dell\\data_science\\lib\\site-packages (from dtale) (1.7.1)\n",
      "Requirement already satisfied: xarray in c:\\users\\dell\\data_science\\lib\\site-packages (from dtale) (0.21.1)\n",
      "Requirement already satisfied: numpy in c:\\users\\dell\\data_science\\lib\\site-packages (from dtale) (1.20.3)\n",
      "Requirement already satisfied: ppscore in c:\\users\\dell\\data_science\\lib\\site-packages (from dtale) (1.2.0)\n",
      "Requirement already satisfied: cycler in c:\\users\\dell\\data_science\\lib\\site-packages (from dtale) (0.10.0)\n",
      "Requirement already satisfied: strsimpy in c:\\users\\dell\\data_science\\lib\\site-packages (from dtale) (0.2.1)\n",
      "Requirement already satisfied: Flask in c:\\users\\dell\\data_science\\lib\\site-packages (from dtale) (1.1.2)\n",
      "Requirement already satisfied: statsmodels in c:\\users\\dell\\data_science\\lib\\site-packages (from dtale) (0.12.2)\n",
      "Requirement already satisfied: packaging<=21.0 in c:\\users\\dell\\data_science\\lib\\site-packages (from dtale) (21.0)\n",
      "Requirement already satisfied: plotly>=5.0.0 in c:\\users\\dell\\data_science\\lib\\site-packages (from dtale) (5.5.0)\n",
      "Requirement already satisfied: itsdangerous in c:\\users\\dell\\data_science\\lib\\site-packages (from dtale) (2.0.1)\n",
      "Requirement already satisfied: six in c:\\users\\dell\\data_science\\lib\\site-packages (from dtale) (1.16.0)\n",
      "Requirement already satisfied: xlrd in c:\\users\\dell\\data_science\\lib\\site-packages (from dtale) (2.0.1)\n",
      "Requirement already satisfied: networkx in c:\\users\\dell\\data_science\\lib\\site-packages (from dtale) (2.6.3)\n",
      "Requirement already satisfied: Flask-Compress in c:\\users\\dell\\data_science\\lib\\site-packages (from dtale) (1.10.1)\n",
      "Requirement already satisfied: requests in c:\\users\\dell\\data_science\\lib\\site-packages (from dtale) (2.26.0)\n",
      "Requirement already satisfied: dash-colorscales in c:\\users\\dell\\data_science\\lib\\site-packages (from dtale) (0.0.4)\n",
      "Requirement already satisfied: seaborn in c:\\users\\dell\\data_science\\lib\\site-packages (from dtale) (0.11.2)\n",
      "Requirement already satisfied: matplotlib in c:\\users\\dell\\data_science\\lib\\site-packages (from dtale) (3.4.3)\n",
      "Requirement already satisfied: openpyxl in c:\\users\\dell\\data_science\\lib\\site-packages (from dtale) (3.0.9)\n",
      "Requirement already satisfied: missingno<=0.4.2 in c:\\users\\dell\\data_science\\lib\\site-packages (from dtale) (0.4.2)\n",
      "Requirement already satisfied: et-xmlfile in c:\\users\\dell\\data_science\\lib\\site-packages (from dtale) (1.1.0)\n",
      "Requirement already satisfied: kaleido in c:\\users\\dell\\data_science\\lib\\site-packages (from dtale) (0.2.1)\n",
      "Requirement already satisfied: squarify in c:\\users\\dell\\data_science\\lib\\site-packages (from dtale) (0.4.3)\n",
      "Requirement already satisfied: threadpoolctl>=2.0.0 in c:\\users\\dell\\data_science\\lib\\site-packages (from scikit-learn==0.24.2->dtale) (2.2.0)\n",
      "Requirement already satisfied: joblib>=0.11 in c:\\users\\dell\\data_science\\lib\\site-packages (from scikit-learn==0.24.2->dtale) (1.1.0)\n",
      "Requirement already satisfied: dash-table==5.0.0 in c:\\users\\dell\\data_science\\lib\\site-packages (from dash>=2.0.0->dtale) (5.0.0)\n",
      "Requirement already satisfied: dash-html-components==2.0.0 in c:\\users\\dell\\data_science\\lib\\site-packages (from dash>=2.0.0->dtale) (2.0.0)\n",
      "Requirement already satisfied: dash-core-components==2.0.0 in c:\\users\\dell\\data_science\\lib\\site-packages (from dash>=2.0.0->dtale) (2.0.0)\n",
      "Requirement already satisfied: click>=5.1 in c:\\users\\dell\\data_science\\lib\\site-packages (from Flask->dtale) (8.0.3)\n",
      "Requirement already satisfied: Jinja2>=2.10.1 in c:\\users\\dell\\data_science\\lib\\site-packages (from Flask->dtale) (2.11.3)\n",
      "Requirement already satisfied: Werkzeug>=0.15 in c:\\users\\dell\\data_science\\lib\\site-packages (from Flask->dtale) (2.0.2)\n",
      "Requirement already satisfied: colorama in c:\\users\\dell\\data_science\\lib\\site-packages (from click>=5.1->Flask->dtale) (0.4.4)\n",
      "Requirement already satisfied: MarkupSafe>=0.23 in c:\\users\\dell\\data_science\\lib\\site-packages (from Jinja2>=2.10.1->Flask->dtale) (1.1.1)\n",
      "Requirement already satisfied: pyparsing>=2.0.2 in c:\\users\\dell\\data_science\\lib\\site-packages (from packaging<=21.0->dtale) (3.0.4)\n",
      "Requirement already satisfied: tenacity>=6.2.0 in c:\\users\\dell\\data_science\\lib\\site-packages (from plotly>=5.0.0->dtale) (8.0.1)\n",
      "Requirement already satisfied: brotli in c:\\users\\dell\\data_science\\lib\\site-packages (from Flask-Compress->dtale) (1.0.9)\n",
      "Requirement already satisfied: pillow>=6.2.0 in c:\\users\\dell\\data_science\\lib\\site-packages (from matplotlib->dtale) (8.4.0)\n",
      "Requirement already satisfied: kiwisolver>=1.0.1 in c:\\users\\dell\\data_science\\lib\\site-packages (from matplotlib->dtale) (1.3.1)\n",
      "Requirement already satisfied: python-dateutil>=2.7 in c:\\users\\dell\\data_science\\lib\\site-packages (from matplotlib->dtale) (2.8.2)\n",
      "Requirement already satisfied: pytz>=2017.3 in c:\\users\\dell\\data_science\\lib\\site-packages (from pandas->dtale) (2021.3)\n",
      "Requirement already satisfied: idna<4,>=2.5 in c:\\users\\dell\\data_science\\lib\\site-packages (from requests->dtale) (3.2)\n",
      "Requirement already satisfied: charset-normalizer~=2.0.0 in c:\\users\\dell\\data_science\\lib\\site-packages (from requests->dtale) (2.0.4)\n",
      "Requirement already satisfied: urllib3<1.27,>=1.21.1 in c:\\users\\dell\\data_science\\lib\\site-packages (from requests->dtale) (1.26.7)\n",
      "Requirement already satisfied: certifi>=2017.4.17 in c:\\users\\dell\\data_science\\lib\\site-packages (from requests->dtale) (2021.10.8)\n",
      "Requirement already satisfied: patsy>=0.5 in c:\\users\\dell\\data_science\\lib\\site-packages (from statsmodels->dtale) (0.5.2)\n"
     ]
    }
   ],
   "source": [
    "!pip install dtale"
   ]
  },
  {
   "cell_type": "code",
   "execution_count": 9,
   "id": "d1e3bc7a",
   "metadata": {},
   "outputs": [],
   "source": [
    "# cols = ['ID', 'Age', 'Status', 'Record_date',\n",
    "#        'gender', 'Country', 'Locality', 'State',\n",
    "#        'Smoker', 'Cold', 'Hypertension', 'Diabetes', 'Cough', 'Diarrheoa', 'Fever', 'Loss of Smell & Taste (True/False)',\n",
    "#        'Muscle Pain (True/False)', 'COVID_status', 'Using Mask (y/n)',\n",
    "#        'Vaccination status (y->both doses, p->one dose(partially vaccinated), n->no doses)',\n",
    "#        'Breathing Difficulties (True/False)',\n",
    "#        'Respiratory illnesses other than the listed ones (True/False)',\n",
    "#        'Fatigue (True/False)', 'Sore_Throat',\n",
    "#        'Ischemic Heart Disease (True/False)', 'Asthma (True/False)',\n",
    "#        'Pre-existing conditions other than the listed ones (True/False)',\n",
    "#        'Chronic_Lung_Disease', 'Pneumonia', '(0,20]', '(20,40]', '(40,60]',\n",
    "#        '(60,80]', '(80,100]', '(100,120]', '(120,140]', '(140,160]',\n",
    "#        '(160,180]', '(180,200]', '(200,220]', '(220,240]', '(240,260]',\n",
    "#        '(260,280]', '(280,300]', '(300,320]', '(320,340]', '(340,360]',\n",
    "#        '(360,380]', '(380,400]', '(400,420]', '(420,440]', '(440,460]',\n",
    "#        '(460,480]', '(480,500]', '(500,520]', '(520,540]', '(540,560]',\n",
    "#        '(560,580]', '(580,600]', '(600,620]', '(620,640]', '(640,660]',\n",
    "#        '(660,680]', '(680,700]', '(700,720]', '(720,740]', '(740,760]',\n",
    "#        '(760,780]', '(780,800]', '(800,820]', '(820,840]', '(840,860]',\n",
    "#        '(860,880]', '(880,900]', '(900,920]', '(920,940]', '(940,960]',\n",
    "#        '(960,980]', '(980,1000]', 'source']\n",
    "# data = data[cols]"
   ]
  },
  {
   "cell_type": "code",
   "execution_count": 11,
   "id": "6bcfc5b3",
   "metadata": {},
   "outputs": [],
   "source": [
    "pd.set_option('display.max_rows', None)\n",
    "pd.set_option('display.max_columns', None)\n",
    "pd.set_option('display.max_colwidth', None)\n",
    "\n",
    "# options = ['male', 'female']\n",
    "# data = data[data['gender'].isin(options)] \n",
    "# status = ['p', 'n']\n",
    "# data = data[data['COVID_status'].isin(status)] \n",
    "# f_data = data"
   ]
  },
  {
   "cell_type": "code",
   "execution_count": 12,
   "id": "9c7ae0dd",
   "metadata": {},
   "outputs": [
    {
     "data": {
      "text/html": [
       "<div>\n",
       "<style scoped>\n",
       "    .dataframe tbody tr th:only-of-type {\n",
       "        vertical-align: middle;\n",
       "    }\n",
       "\n",
       "    .dataframe tbody tr th {\n",
       "        vertical-align: top;\n",
       "    }\n",
       "\n",
       "    .dataframe thead th {\n",
       "        text-align: right;\n",
       "    }\n",
       "</style>\n",
       "<table border=\"1\" class=\"dataframe\">\n",
       "  <thead>\n",
       "    <tr style=\"text-align: right;\">\n",
       "      <th></th>\n",
       "      <th>Unnamed: 0</th>\n",
       "      <th>User ID</th>\n",
       "      <th>Age (number)</th>\n",
       "      <th>Health status (e.g. : positive_mild, healthy,etc.)</th>\n",
       "      <th>Date when the user recorded and submitted the samples</th>\n",
       "      <th>Proficient in English (y/n)</th>\n",
       "      <th>Gender (male/female/other)</th>\n",
       "      <th>Country</th>\n",
       "      <th>Locality</th>\n",
       "      <th>State</th>\n",
       "      <th>Returning User (y/n)</th>\n",
       "      <th>Smoker (True/False)</th>\n",
       "      <th>Cold  (True/False)</th>\n",
       "      <th>Hypertension  (True/False)</th>\n",
       "      <th>Diabetes  (True/False)</th>\n",
       "      <th>Cough (True/False)</th>\n",
       "      <th>Date of CT-Scan</th>\n",
       "      <th>CT-Scan (y/n if the user has taken a test)</th>\n",
       "      <th>CT-Score</th>\n",
       "      <th>Diarrheoa  (True/False)</th>\n",
       "      <th>Fever (True/False)</th>\n",
       "      <th>Loss of Smell &amp; Taste (True/False)</th>\n",
       "      <th>Muscle Pain (True/False)</th>\n",
       "      <th>Type of test (RAT/RT-PCR)</th>\n",
       "      <th>Date of COVID Test (if taken)</th>\n",
       "      <th>Status of COVID Test (p-&gt;Positive, n-&gt;Negative, na-&gt; Not taken Test)</th>\n",
       "      <th>Using Mask (y/n)</th>\n",
       "      <th>Vaccination status (y-&gt;both doses, p-&gt;one dose(partially vaccinated), n-&gt;no doses)</th>\n",
       "      <th>Breathing Difficulties (True/False)</th>\n",
       "      <th>Respiratory illnesses other than the listed ones (True/False)</th>\n",
       "      <th>Fatigue (True/False)</th>\n",
       "      <th>Sore Throat (True/False)</th>\n",
       "      <th>Ischemic Heart Disease (True/False)</th>\n",
       "      <th>Asthma (True/False)</th>\n",
       "      <th>Pre-existing conditions other than the listed ones (True/False)</th>\n",
       "      <th>Chronic Lung Disease (True/False)</th>\n",
       "      <th>Pneumonia (True/False)</th>\n",
       "    </tr>\n",
       "  </thead>\n",
       "  <tbody>\n",
       "    <tr>\n",
       "      <th>0</th>\n",
       "      <td>0</td>\n",
       "      <td>iV3Db6t1T8b7c5HQY2TwxIhjbzD3</td>\n",
       "      <td>28</td>\n",
       "      <td>n</td>\n",
       "      <td>2020-04-23</td>\n",
       "      <td>y</td>\n",
       "      <td>male</td>\n",
       "      <td>India</td>\n",
       "      <td>Anantapur</td>\n",
       "      <td>Andhra Pradesh</td>\n",
       "      <td>n</td>\n",
       "      <td>NaN</td>\n",
       "      <td>NaN</td>\n",
       "      <td>NaN</td>\n",
       "      <td>NaN</td>\n",
       "      <td>NaN</td>\n",
       "      <td>NaN</td>\n",
       "      <td>NaN</td>\n",
       "      <td>NaN</td>\n",
       "      <td>NaN</td>\n",
       "      <td>NaN</td>\n",
       "      <td>NaN</td>\n",
       "      <td>NaN</td>\n",
       "      <td>NaN</td>\n",
       "      <td>NaN</td>\n",
       "      <td>NaN</td>\n",
       "      <td>NaN</td>\n",
       "      <td>NaN</td>\n",
       "      <td>NaN</td>\n",
       "      <td>NaN</td>\n",
       "      <td>NaN</td>\n",
       "      <td>NaN</td>\n",
       "      <td>NaN</td>\n",
       "      <td>NaN</td>\n",
       "      <td>NaN</td>\n",
       "      <td>NaN</td>\n",
       "      <td>NaN</td>\n",
       "    </tr>\n",
       "    <tr>\n",
       "      <th>1</th>\n",
       "      <td>1</td>\n",
       "      <td>AxuYWBN0jFVLINCBqIW5aZmGCdu1</td>\n",
       "      <td>25</td>\n",
       "      <td>n</td>\n",
       "      <td>2020-04-20</td>\n",
       "      <td>y</td>\n",
       "      <td>male</td>\n",
       "      <td>India</td>\n",
       "      <td>BENGALURU URBAN</td>\n",
       "      <td>Karnataka</td>\n",
       "      <td>n</td>\n",
       "      <td>True</td>\n",
       "      <td>NaN</td>\n",
       "      <td>NaN</td>\n",
       "      <td>NaN</td>\n",
       "      <td>NaN</td>\n",
       "      <td>NaN</td>\n",
       "      <td>NaN</td>\n",
       "      <td>NaN</td>\n",
       "      <td>NaN</td>\n",
       "      <td>NaN</td>\n",
       "      <td>NaN</td>\n",
       "      <td>NaN</td>\n",
       "      <td>NaN</td>\n",
       "      <td>NaN</td>\n",
       "      <td>NaN</td>\n",
       "      <td>NaN</td>\n",
       "      <td>NaN</td>\n",
       "      <td>NaN</td>\n",
       "      <td>NaN</td>\n",
       "      <td>NaN</td>\n",
       "      <td>NaN</td>\n",
       "      <td>NaN</td>\n",
       "      <td>NaN</td>\n",
       "      <td>NaN</td>\n",
       "      <td>NaN</td>\n",
       "      <td>NaN</td>\n",
       "    </tr>\n",
       "    <tr>\n",
       "      <th>2</th>\n",
       "      <td>2</td>\n",
       "      <td>C5eIsssb9GSkaAgIfsHMHeR6fSh1</td>\n",
       "      <td>28</td>\n",
       "      <td>n</td>\n",
       "      <td>2020-04-24</td>\n",
       "      <td>y</td>\n",
       "      <td>female</td>\n",
       "      <td>United States</td>\n",
       "      <td>Pittsburgh</td>\n",
       "      <td>Pennsylvania</td>\n",
       "      <td>n</td>\n",
       "      <td>NaN</td>\n",
       "      <td>NaN</td>\n",
       "      <td>NaN</td>\n",
       "      <td>NaN</td>\n",
       "      <td>NaN</td>\n",
       "      <td>NaN</td>\n",
       "      <td>NaN</td>\n",
       "      <td>NaN</td>\n",
       "      <td>NaN</td>\n",
       "      <td>NaN</td>\n",
       "      <td>NaN</td>\n",
       "      <td>NaN</td>\n",
       "      <td>NaN</td>\n",
       "      <td>NaN</td>\n",
       "      <td>NaN</td>\n",
       "      <td>NaN</td>\n",
       "      <td>NaN</td>\n",
       "      <td>NaN</td>\n",
       "      <td>NaN</td>\n",
       "      <td>NaN</td>\n",
       "      <td>NaN</td>\n",
       "      <td>NaN</td>\n",
       "      <td>NaN</td>\n",
       "      <td>NaN</td>\n",
       "      <td>NaN</td>\n",
       "      <td>NaN</td>\n",
       "    </tr>\n",
       "    <tr>\n",
       "      <th>3</th>\n",
       "      <td>3</td>\n",
       "      <td>YjbEAECMBIaZKyfqOvWy5DDImUb2</td>\n",
       "      <td>26</td>\n",
       "      <td>n</td>\n",
       "      <td>2020-04-23</td>\n",
       "      <td>y</td>\n",
       "      <td>male</td>\n",
       "      <td>India</td>\n",
       "      <td>Bangalore</td>\n",
       "      <td>Karnataka</td>\n",
       "      <td>n</td>\n",
       "      <td>NaN</td>\n",
       "      <td>True</td>\n",
       "      <td>NaN</td>\n",
       "      <td>NaN</td>\n",
       "      <td>NaN</td>\n",
       "      <td>NaN</td>\n",
       "      <td>NaN</td>\n",
       "      <td>NaN</td>\n",
       "      <td>NaN</td>\n",
       "      <td>NaN</td>\n",
       "      <td>NaN</td>\n",
       "      <td>NaN</td>\n",
       "      <td>NaN</td>\n",
       "      <td>NaN</td>\n",
       "      <td>NaN</td>\n",
       "      <td>NaN</td>\n",
       "      <td>NaN</td>\n",
       "      <td>NaN</td>\n",
       "      <td>NaN</td>\n",
       "      <td>NaN</td>\n",
       "      <td>NaN</td>\n",
       "      <td>NaN</td>\n",
       "      <td>NaN</td>\n",
       "      <td>NaN</td>\n",
       "      <td>NaN</td>\n",
       "      <td>NaN</td>\n",
       "    </tr>\n",
       "    <tr>\n",
       "      <th>4</th>\n",
       "      <td>4</td>\n",
       "      <td>aGOvk4ji0cVqIzCs1jHnzlw2UEy2</td>\n",
       "      <td>32</td>\n",
       "      <td>n</td>\n",
       "      <td>2020-04-22</td>\n",
       "      <td>y</td>\n",
       "      <td>male</td>\n",
       "      <td>India</td>\n",
       "      <td>Nalanda</td>\n",
       "      <td>Bihar</td>\n",
       "      <td>n</td>\n",
       "      <td>NaN</td>\n",
       "      <td>NaN</td>\n",
       "      <td>NaN</td>\n",
       "      <td>NaN</td>\n",
       "      <td>NaN</td>\n",
       "      <td>NaN</td>\n",
       "      <td>NaN</td>\n",
       "      <td>NaN</td>\n",
       "      <td>NaN</td>\n",
       "      <td>NaN</td>\n",
       "      <td>NaN</td>\n",
       "      <td>NaN</td>\n",
       "      <td>NaN</td>\n",
       "      <td>NaN</td>\n",
       "      <td>NaN</td>\n",
       "      <td>NaN</td>\n",
       "      <td>NaN</td>\n",
       "      <td>NaN</td>\n",
       "      <td>NaN</td>\n",
       "      <td>NaN</td>\n",
       "      <td>NaN</td>\n",
       "      <td>NaN</td>\n",
       "      <td>NaN</td>\n",
       "      <td>NaN</td>\n",
       "      <td>NaN</td>\n",
       "      <td>NaN</td>\n",
       "    </tr>\n",
       "  </tbody>\n",
       "</table>\n",
       "</div>"
      ],
      "text/plain": [
       "   Unnamed: 0                       User ID  Age (number)  \\\n",
       "0           0  iV3Db6t1T8b7c5HQY2TwxIhjbzD3            28   \n",
       "1           1  AxuYWBN0jFVLINCBqIW5aZmGCdu1            25   \n",
       "2           2  C5eIsssb9GSkaAgIfsHMHeR6fSh1            28   \n",
       "3           3  YjbEAECMBIaZKyfqOvWy5DDImUb2            26   \n",
       "4           4  aGOvk4ji0cVqIzCs1jHnzlw2UEy2            32   \n",
       "\n",
       "  Health status (e.g. : positive_mild, healthy,etc.)  \\\n",
       "0                                                  n   \n",
       "1                                                  n   \n",
       "2                                                  n   \n",
       "3                                                  n   \n",
       "4                                                  n   \n",
       "\n",
       "  Date when the user recorded and submitted the samples  \\\n",
       "0                                            2020-04-23   \n",
       "1                                            2020-04-20   \n",
       "2                                            2020-04-24   \n",
       "3                                            2020-04-23   \n",
       "4                                            2020-04-22   \n",
       "\n",
       "  Proficient in English (y/n) Gender (male/female/other)        Country  \\\n",
       "0                           y                       male          India   \n",
       "1                           y                       male          India   \n",
       "2                           y                     female  United States   \n",
       "3                           y                       male          India   \n",
       "4                           y                       male          India   \n",
       "\n",
       "          Locality           State Returning User (y/n) Smoker (True/False)  \\\n",
       "0        Anantapur  Andhra Pradesh                    n                 NaN   \n",
       "1  BENGALURU URBAN       Karnataka                    n                True   \n",
       "2       Pittsburgh    Pennsylvania                    n                 NaN   \n",
       "3        Bangalore       Karnataka                    n                 NaN   \n",
       "4          Nalanda           Bihar                    n                 NaN   \n",
       "\n",
       "  Cold  (True/False) Hypertension  (True/False) Diabetes  (True/False)  \\\n",
       "0                NaN                        NaN                    NaN   \n",
       "1                NaN                        NaN                    NaN   \n",
       "2                NaN                        NaN                    NaN   \n",
       "3               True                        NaN                    NaN   \n",
       "4                NaN                        NaN                    NaN   \n",
       "\n",
       "  Cough (True/False) Date of CT-Scan  \\\n",
       "0                NaN             NaN   \n",
       "1                NaN             NaN   \n",
       "2                NaN             NaN   \n",
       "3                NaN             NaN   \n",
       "4                NaN             NaN   \n",
       "\n",
       "  CT-Scan (y/n if the user has taken a test)  CT-Score  \\\n",
       "0                                        NaN       NaN   \n",
       "1                                        NaN       NaN   \n",
       "2                                        NaN       NaN   \n",
       "3                                        NaN       NaN   \n",
       "4                                        NaN       NaN   \n",
       "\n",
       "  Diarrheoa  (True/False) Fever (True/False)  \\\n",
       "0                     NaN                NaN   \n",
       "1                     NaN                NaN   \n",
       "2                     NaN                NaN   \n",
       "3                     NaN                NaN   \n",
       "4                     NaN                NaN   \n",
       "\n",
       "  Loss of Smell & Taste (True/False) Muscle Pain (True/False)  \\\n",
       "0                                NaN                      NaN   \n",
       "1                                NaN                      NaN   \n",
       "2                                NaN                      NaN   \n",
       "3                                NaN                      NaN   \n",
       "4                                NaN                      NaN   \n",
       "\n",
       "  Type of test (RAT/RT-PCR) Date of COVID Test (if taken)  \\\n",
       "0                       NaN                           NaN   \n",
       "1                       NaN                           NaN   \n",
       "2                       NaN                           NaN   \n",
       "3                       NaN                           NaN   \n",
       "4                       NaN                           NaN   \n",
       "\n",
       "  Status of COVID Test (p->Positive, n->Negative, na-> Not taken Test)  \\\n",
       "0                                                                  NaN   \n",
       "1                                                                  NaN   \n",
       "2                                                                  NaN   \n",
       "3                                                                  NaN   \n",
       "4                                                                  NaN   \n",
       "\n",
       "  Using Mask (y/n)  \\\n",
       "0              NaN   \n",
       "1              NaN   \n",
       "2              NaN   \n",
       "3              NaN   \n",
       "4              NaN   \n",
       "\n",
       "  Vaccination status (y->both doses, p->one dose(partially vaccinated), n->no doses)  \\\n",
       "0                                                                                NaN   \n",
       "1                                                                                NaN   \n",
       "2                                                                                NaN   \n",
       "3                                                                                NaN   \n",
       "4                                                                                NaN   \n",
       "\n",
       "  Breathing Difficulties (True/False)  \\\n",
       "0                                 NaN   \n",
       "1                                 NaN   \n",
       "2                                 NaN   \n",
       "3                                 NaN   \n",
       "4                                 NaN   \n",
       "\n",
       "  Respiratory illnesses other than the listed ones (True/False)  \\\n",
       "0                                                           NaN   \n",
       "1                                                           NaN   \n",
       "2                                                           NaN   \n",
       "3                                                           NaN   \n",
       "4                                                           NaN   \n",
       "\n",
       "  Fatigue (True/False) Sore Throat (True/False)  \\\n",
       "0                  NaN                      NaN   \n",
       "1                  NaN                      NaN   \n",
       "2                  NaN                      NaN   \n",
       "3                  NaN                      NaN   \n",
       "4                  NaN                      NaN   \n",
       "\n",
       "  Ischemic Heart Disease (True/False) Asthma (True/False)  \\\n",
       "0                                 NaN                 NaN   \n",
       "1                                 NaN                 NaN   \n",
       "2                                 NaN                 NaN   \n",
       "3                                 NaN                 NaN   \n",
       "4                                 NaN                 NaN   \n",
       "\n",
       "  Pre-existing conditions other than the listed ones (True/False)  \\\n",
       "0                                                             NaN   \n",
       "1                                                             NaN   \n",
       "2                                                             NaN   \n",
       "3                                                             NaN   \n",
       "4                                                             NaN   \n",
       "\n",
       "  Chronic Lung Disease (True/False) Pneumonia (True/False)  \n",
       "0                               NaN                    NaN  \n",
       "1                               NaN                    NaN  \n",
       "2                               NaN                    NaN  \n",
       "3                               NaN                    NaN  \n",
       "4                               NaN                    NaN  "
      ]
     },
     "execution_count": 12,
     "metadata": {},
     "output_type": "execute_result"
    }
   ],
   "source": [
    "data.head()"
   ]
  },
  {
   "cell_type": "code",
   "execution_count": 15,
   "id": "e76b4a7d",
   "metadata": {},
   "outputs": [],
   "source": [
    "cols = ['User ID', 'Age (number)',\n",
    "       'Health status (e.g. : positive_mild, healthy,etc.)',\n",
    "       'Date when the user recorded and submitted the samples',\n",
    "       'Proficient in English (y/n)', 'Gender (male/female/other)', 'Country',\n",
    "       'Locality', 'State', 'Returning User (y/n)', 'Smoker (True/False)',\n",
    "       'Cold  (True/False)', 'Hypertension  (True/False)',\n",
    "       'Diabetes  (True/False)', 'Cough (True/False)', 'Date of CT-Scan',\n",
    "       'CT-Scan (y/n if the user has taken a test)', 'CT-Score',\n",
    "       'Diarrheoa  (True/False)', 'Fever (True/False)',\n",
    "       'Loss of Smell & Taste (True/False)', 'Muscle Pain (True/False)',\n",
    "       'Type of test (RAT/RT-PCR)', 'Date of COVID Test (if taken)',\n",
    "       'Status of COVID Test (p->Positive, n->Negative, na-> Not taken Test)',\n",
    "       'Using Mask (y/n)',\n",
    "       'Vaccination status (y->both doses, p->one dose(partially vaccinated), n->no doses)',\n",
    "       'Breathing Difficulties (True/False)',\n",
    "       'Respiratory illnesses other than the listed ones (True/False)',\n",
    "       'Fatigue (True/False)', 'Sore Throat (True/False)',\n",
    "       'Ischemic Heart Disease (True/False)', 'Asthma (True/False)',\n",
    "       'Pre-existing conditions other than the listed ones (True/False)',\n",
    "       'Chronic Lung Disease (True/False)', 'Pneumonia (True/False)']"
   ]
  },
  {
   "cell_type": "code",
   "execution_count": 16,
   "id": "cbf7a53d",
   "metadata": {},
   "outputs": [],
   "source": [
    "data = data[cols]"
   ]
  },
  {
   "cell_type": "markdown",
   "id": "80debe3f",
   "metadata": {},
   "source": [
    "### Number of Missing Values"
   ]
  },
  {
   "cell_type": "code",
   "execution_count": 17,
   "id": "35e617f3",
   "metadata": {},
   "outputs": [
    {
     "data": {
      "text/html": [
       "<div>\n",
       "<style scoped>\n",
       "    .dataframe tbody tr th:only-of-type {\n",
       "        vertical-align: middle;\n",
       "    }\n",
       "\n",
       "    .dataframe tbody tr th {\n",
       "        vertical-align: top;\n",
       "    }\n",
       "\n",
       "    .dataframe thead th {\n",
       "        text-align: right;\n",
       "    }\n",
       "</style>\n",
       "<table border=\"1\" class=\"dataframe\">\n",
       "  <thead>\n",
       "    <tr style=\"text-align: right;\">\n",
       "      <th></th>\n",
       "      <th>% of missing valus</th>\n",
       "    </tr>\n",
       "  </thead>\n",
       "  <tbody>\n",
       "    <tr>\n",
       "      <th>Ischemic Heart Disease (True/False)</th>\n",
       "      <td>98.652586</td>\n",
       "    </tr>\n",
       "    <tr>\n",
       "      <th>Chronic Lung Disease (True/False)</th>\n",
       "      <td>98.397669</td>\n",
       "    </tr>\n",
       "    <tr>\n",
       "      <th>Pneumonia (True/False)</th>\n",
       "      <td>98.361253</td>\n",
       "    </tr>\n",
       "    <tr>\n",
       "      <th>Diarrheoa  (True/False)</th>\n",
       "      <td>98.106336</td>\n",
       "    </tr>\n",
       "    <tr>\n",
       "      <th>Respiratory illnesses other than the listed ones (True/False)</th>\n",
       "      <td>97.378004</td>\n",
       "    </tr>\n",
       "    <tr>\n",
       "      <th>Pre-existing conditions other than the listed ones (True/False)</th>\n",
       "      <td>96.358339</td>\n",
       "    </tr>\n",
       "    <tr>\n",
       "      <th>Asthma (True/False)</th>\n",
       "      <td>95.120175</td>\n",
       "    </tr>\n",
       "    <tr>\n",
       "      <th>CT-Score</th>\n",
       "      <td>94.428259</td>\n",
       "    </tr>\n",
       "    <tr>\n",
       "      <th>Date of CT-Scan</th>\n",
       "      <td>94.428259</td>\n",
       "    </tr>\n",
       "    <tr>\n",
       "      <th>Loss of Smell &amp; Taste (True/False)</th>\n",
       "      <td>93.845594</td>\n",
       "    </tr>\n",
       "    <tr>\n",
       "      <th>Breathing Difficulties (True/False)</th>\n",
       "      <td>92.316096</td>\n",
       "    </tr>\n",
       "    <tr>\n",
       "      <th>Diabetes  (True/False)</th>\n",
       "      <td>91.551347</td>\n",
       "    </tr>\n",
       "    <tr>\n",
       "      <th>Hypertension  (True/False)</th>\n",
       "      <td>91.514931</td>\n",
       "    </tr>\n",
       "    <tr>\n",
       "      <th>Sore Throat (True/False)</th>\n",
       "      <td>89.220685</td>\n",
       "    </tr>\n",
       "    <tr>\n",
       "      <th>Muscle Pain (True/False)</th>\n",
       "      <td>88.164603</td>\n",
       "    </tr>\n",
       "    <tr>\n",
       "      <th>Fatigue (True/False)</th>\n",
       "      <td>86.088857</td>\n",
       "    </tr>\n",
       "    <tr>\n",
       "      <th>Fever (True/False)</th>\n",
       "      <td>85.214858</td>\n",
       "    </tr>\n",
       "    <tr>\n",
       "      <th>Cold  (True/False)</th>\n",
       "      <td>82.228696</td>\n",
       "    </tr>\n",
       "    <tr>\n",
       "      <th>Cough (True/False)</th>\n",
       "      <td>76.256373</td>\n",
       "    </tr>\n",
       "    <tr>\n",
       "      <th>Date of COVID Test (if taken)</th>\n",
       "      <td>70.684632</td>\n",
       "    </tr>\n",
       "  </tbody>\n",
       "</table>\n",
       "</div>"
      ],
      "text/plain": [
       "                                                                 % of missing valus\n",
       "Ischemic Heart Disease (True/False)                                       98.652586\n",
       "Chronic Lung Disease (True/False)                                         98.397669\n",
       "Pneumonia (True/False)                                                    98.361253\n",
       "Diarrheoa  (True/False)                                                   98.106336\n",
       "Respiratory illnesses other than the listed ones (True/False)             97.378004\n",
       "Pre-existing conditions other than the listed ones (True/False)           96.358339\n",
       "Asthma (True/False)                                                       95.120175\n",
       "CT-Score                                                                  94.428259\n",
       "Date of CT-Scan                                                           94.428259\n",
       "Loss of Smell & Taste (True/False)                                        93.845594\n",
       "Breathing Difficulties (True/False)                                       92.316096\n",
       "Diabetes  (True/False)                                                    91.551347\n",
       "Hypertension  (True/False)                                                91.514931\n",
       "Sore Throat (True/False)                                                  89.220685\n",
       "Muscle Pain (True/False)                                                  88.164603\n",
       "Fatigue (True/False)                                                      86.088857\n",
       "Fever (True/False)                                                        85.214858\n",
       "Cold  (True/False)                                                        82.228696\n",
       "Cough (True/False)                                                        76.256373\n",
       "Date of COVID Test (if taken)                                             70.684632"
      ]
     },
     "execution_count": 17,
     "metadata": {},
     "output_type": "execute_result"
    }
   ],
   "source": [
    "a = data.isnull().mean() * 100\n",
    "a = a.to_frame()\n",
    "sorted_df = a.sort_values([0], ascending=False)\n",
    "sorted_df.rename({0: '% of missing valus'}, axis=1, inplace=True)\n",
    "sorted_df.head(20)"
   ]
  },
  {
   "cell_type": "code",
   "execution_count": null,
   "id": "c4bb4e05",
   "metadata": {},
   "outputs": [],
   "source": []
  },
  {
   "cell_type": "code",
   "execution_count": 18,
   "id": "0e4d2511",
   "metadata": {},
   "outputs": [
    {
     "name": "stdout",
     "output_type": "stream",
     "text": [
      "http://DESKTOP-D76FLIK:40000/dtale/main/1\n"
     ]
    }
   ],
   "source": [
    "import dtale\n",
    "import dtale.app as dtale_app\n",
    "\n",
    "#dtale_app.USE_NGROK = True\n",
    "\n",
    "d=dtale.show(data)\n",
    "\n",
    "d.main_url()"
   ]
  },
  {
   "cell_type": "code",
   "execution_count": 9,
   "id": "76eea5a4",
   "metadata": {},
   "outputs": [
    {
     "name": "stdout",
     "output_type": "stream",
     "text": [
      "Exception on /dtale/charts/_dash-update-component [POST]\n",
      "Traceback (most recent call last):\n",
      "  File \"C:\\Users\\DELL\\Data_Science\\lib\\site-packages\\flask\\app.py\", line 2447, in wsgi_app\n",
      "    response = self.full_dispatch_request()\n",
      "  File \"C:\\Users\\DELL\\Data_Science\\lib\\site-packages\\flask\\app.py\", line 1952, in full_dispatch_request\n",
      "    rv = self.handle_user_exception(e)\n",
      "  File \"C:\\Users\\DELL\\Data_Science\\lib\\site-packages\\flask\\app.py\", line 1821, in handle_user_exception\n",
      "    reraise(exc_type, exc_value, tb)\n",
      "  File \"C:\\Users\\DELL\\Data_Science\\lib\\site-packages\\flask\\_compat.py\", line 39, in reraise\n",
      "    raise value\n",
      "  File \"C:\\Users\\DELL\\Data_Science\\lib\\site-packages\\flask\\app.py\", line 1950, in full_dispatch_request\n",
      "    rv = self.dispatch_request()\n",
      "  File \"C:\\Users\\DELL\\Data_Science\\lib\\site-packages\\flask\\app.py\", line 1936, in dispatch_request\n",
      "    return self.view_functions[rule.endpoint](**req.view_args)\n",
      "  File \"C:\\Users\\DELL\\Data_Science\\lib\\site-packages\\dash\\dash.py\", line 1344, in dispatch\n",
      "    response.set_data(func(*args, outputs_list=outputs_list))\n",
      "  File \"C:\\Users\\DELL\\Data_Science\\lib\\site-packages\\dash\\_callback.py\", line 151, in add_context\n",
      "    output_value = func(*func_args, **func_kwargs)  # %% callback invoked %%\n",
      "  File \"C:\\Users\\DELL\\Data_Science\\lib\\site-packages\\dtale\\dash_application\\views.py\", line 1234, in group_values\n",
      "    group_vals = build_group_val_options(group_vals, group_cols)\n",
      "  File \"C:\\Users\\DELL\\Data_Science\\lib\\site-packages\\dtale\\dash_application\\layout\\layout.py\", line 1217, in build_group_val_options\n",
      "    group_vals = find_group_vals(df, group_cols)\n",
      "  File \"C:\\Users\\DELL\\Data_Science\\lib\\site-packages\\dtale\\charts\\utils.py\", line 996, in find_group_vals\n",
      "    group_vals, _ = retrieve_chart_data(df, group_cols)\n",
      "  File \"C:\\Users\\DELL\\Data_Science\\lib\\site-packages\\dtale\\charts\\utils.py\", line 346, in retrieve_chart_data\n",
      "    all_data = pd.concat(all_data, axis=1)\n",
      "  File \"C:\\Users\\DELL\\Data_Science\\lib\\site-packages\\pandas\\util\\_decorators.py\", line 311, in wrapper\n",
      "    return func(*args, **kwargs)\n",
      "  File \"C:\\Users\\DELL\\Data_Science\\lib\\site-packages\\pandas\\core\\reshape\\concat.py\", line 294, in concat\n",
      "    op = _Concatenator(\n",
      "  File \"C:\\Users\\DELL\\Data_Science\\lib\\site-packages\\pandas\\core\\reshape\\concat.py\", line 351, in __init__\n",
      "    raise ValueError(\"No objects to concatenate\")\n",
      "ValueError: No objects to concatenate\n"
     ]
    },
    {
     "name": "stderr",
     "output_type": "stream",
     "text": [
      "2022-03-07 22:43:47,947 - ERROR    - Exception on /dtale/charts/_dash-update-component [POST]\n",
      "Traceback (most recent call last):\n",
      "  File \"C:\\Users\\DELL\\Data_Science\\lib\\site-packages\\flask\\app.py\", line 2447, in wsgi_app\n",
      "    response = self.full_dispatch_request()\n",
      "  File \"C:\\Users\\DELL\\Data_Science\\lib\\site-packages\\flask\\app.py\", line 1952, in full_dispatch_request\n",
      "    rv = self.handle_user_exception(e)\n",
      "  File \"C:\\Users\\DELL\\Data_Science\\lib\\site-packages\\flask\\app.py\", line 1821, in handle_user_exception\n",
      "    reraise(exc_type, exc_value, tb)\n",
      "  File \"C:\\Users\\DELL\\Data_Science\\lib\\site-packages\\flask\\_compat.py\", line 39, in reraise\n",
      "    raise value\n",
      "  File \"C:\\Users\\DELL\\Data_Science\\lib\\site-packages\\flask\\app.py\", line 1950, in full_dispatch_request\n",
      "    rv = self.dispatch_request()\n",
      "  File \"C:\\Users\\DELL\\Data_Science\\lib\\site-packages\\flask\\app.py\", line 1936, in dispatch_request\n",
      "    return self.view_functions[rule.endpoint](**req.view_args)\n",
      "  File \"C:\\Users\\DELL\\Data_Science\\lib\\site-packages\\dash\\dash.py\", line 1344, in dispatch\n",
      "    response.set_data(func(*args, outputs_list=outputs_list))\n",
      "  File \"C:\\Users\\DELL\\Data_Science\\lib\\site-packages\\dash\\_callback.py\", line 151, in add_context\n",
      "    output_value = func(*func_args, **func_kwargs)  # %% callback invoked %%\n",
      "  File \"C:\\Users\\DELL\\Data_Science\\lib\\site-packages\\dtale\\dash_application\\views.py\", line 1234, in group_values\n",
      "    group_vals = build_group_val_options(group_vals, group_cols)\n",
      "  File \"C:\\Users\\DELL\\Data_Science\\lib\\site-packages\\dtale\\dash_application\\layout\\layout.py\", line 1217, in build_group_val_options\n",
      "    group_vals = find_group_vals(df, group_cols)\n",
      "  File \"C:\\Users\\DELL\\Data_Science\\lib\\site-packages\\dtale\\charts\\utils.py\", line 996, in find_group_vals\n",
      "    group_vals, _ = retrieve_chart_data(df, group_cols)\n",
      "  File \"C:\\Users\\DELL\\Data_Science\\lib\\site-packages\\dtale\\charts\\utils.py\", line 346, in retrieve_chart_data\n",
      "    all_data = pd.concat(all_data, axis=1)\n",
      "  File \"C:\\Users\\DELL\\Data_Science\\lib\\site-packages\\pandas\\util\\_decorators.py\", line 311, in wrapper\n",
      "    return func(*args, **kwargs)\n",
      "  File \"C:\\Users\\DELL\\Data_Science\\lib\\site-packages\\pandas\\core\\reshape\\concat.py\", line 294, in concat\n",
      "    op = _Concatenator(\n",
      "  File \"C:\\Users\\DELL\\Data_Science\\lib\\site-packages\\pandas\\core\\reshape\\concat.py\", line 351, in __init__\n",
      "    raise ValueError(\"No objects to concatenate\")\n",
      "ValueError: No objects to concatenate\n"
     ]
    }
   ],
   "source": [
    "# data['Chronic_Lung_Disease'].value_counts()"
   ]
  },
  {
   "cell_type": "code",
   "execution_count": 20,
   "id": "704f2cb3",
   "metadata": {},
   "outputs": [],
   "source": [
    "df = data"
   ]
  },
  {
   "cell_type": "code",
   "execution_count": 24,
   "id": "5bfca4b5",
   "metadata": {},
   "outputs": [
    {
     "data": {
      "text/plain": [
       "Index(['User ID', 'Age (number)',\n",
       "       'Health status (e.g. : positive_mild, healthy,etc.)',\n",
       "       'Date when the user recorded and submitted the samples',\n",
       "       'Proficient in English (y/n)', 'Gender (male/female/other)', 'Country',\n",
       "       'Locality', 'State', 'Returning User (y/n)', 'Smoker (True/False)',\n",
       "       'Cold  (True/False)', 'Hypertension  (True/False)',\n",
       "       'Diabetes  (True/False)', 'Cough (True/False)', 'Date of CT-Scan',\n",
       "       'CT-Scan (y/n if the user has taken a test)', 'CT-Score',\n",
       "       'Diarrheoa  (True/False)', 'Fever (True/False)',\n",
       "       'Loss of Smell & Taste (True/False)', 'Muscle Pain (True/False)',\n",
       "       'Type of test (RAT/RT-PCR)', 'Date of COVID Test (if taken)',\n",
       "       'Status of COVID Test (p->Positive, n->Negative, na-> Not taken Test)',\n",
       "       'Using Mask (y/n)',\n",
       "       'Vaccination status (y->both doses, p->one dose(partially vaccinated), n->no doses)',\n",
       "       'Breathing Difficulties (True/False)',\n",
       "       'Respiratory illnesses other than the listed ones (True/False)',\n",
       "       'Fatigue (True/False)', 'Sore Throat (True/False)',\n",
       "       'Ischemic Heart Disease (True/False)', 'Asthma (True/False)',\n",
       "       'Pre-existing conditions other than the listed ones (True/False)',\n",
       "       'Chronic Lung Disease (True/False)', 'Pneumonia (True/False)'],\n",
       "      dtype='object')"
      ]
     },
     "execution_count": 24,
     "metadata": {},
     "output_type": "execute_result"
    }
   ],
   "source": [
    "data.columns"
   ]
  },
  {
   "cell_type": "code",
   "execution_count": 23,
   "id": "84c42840",
   "metadata": {},
   "outputs": [
    {
     "data": {
      "application/vnd.plotly.v1+json": {
       "config": {
        "plotlyServerURL": "https://plot.ly"
       },
       "data": [
        {
         "name": "(Gender (male/female)",
         "type": "bar",
         "x": [
          7,
          8,
          11,
          12,
          13,
          14,
          15,
          16,
          17,
          18,
          19,
          20,
          21,
          22,
          23,
          24,
          25,
          26,
          27,
          28,
          29,
          30,
          31,
          32,
          33,
          34,
          35,
          36,
          37,
          38,
          39,
          40,
          41,
          42,
          43,
          44,
          45,
          46,
          47,
          48,
          49,
          50,
          51,
          52,
          53,
          54,
          55,
          56,
          57,
          58,
          59,
          60,
          61,
          62,
          63,
          64,
          65,
          66,
          67,
          68,
          69,
          70,
          71,
          72,
          73,
          74,
          75,
          78,
          79,
          80,
          81,
          86,
          87,
          1,
          2,
          7,
          8,
          10,
          11,
          12,
          13,
          14,
          15,
          16,
          17,
          18,
          19,
          20,
          21,
          22,
          23,
          24,
          25,
          26,
          27,
          28,
          29,
          30,
          31,
          32,
          33,
          34,
          35,
          36,
          37,
          38,
          39,
          40,
          41,
          42,
          43,
          44,
          45,
          46,
          47,
          48,
          49,
          50,
          51,
          52,
          53,
          54,
          55,
          56,
          57,
          58,
          59,
          60,
          61,
          62,
          63,
          64,
          65,
          66,
          67,
          68,
          69,
          70,
          71,
          72,
          75,
          76,
          77,
          79,
          80,
          81,
          83,
          85,
          90
         ],
         "y": [
          1,
          1,
          1,
          2,
          1,
          2,
          4,
          4,
          2,
          11,
          19,
          26,
          31,
          43,
          40,
          42,
          50,
          31,
          33,
          26,
          22,
          25,
          19,
          23,
          17,
          14,
          18,
          19,
          19,
          14,
          9,
          11,
          11,
          9,
          8,
          9,
          12,
          12,
          11,
          7,
          14,
          13,
          10,
          12,
          8,
          14,
          14,
          10,
          10,
          7,
          5,
          9,
          3,
          5,
          4,
          3,
          7,
          4,
          1,
          7,
          2,
          4,
          1,
          1,
          3,
          2,
          5,
          2,
          1,
          1,
          1,
          1,
          1,
          3,
          2,
          1,
          1,
          1,
          4,
          2,
          2,
          5,
          7,
          3,
          10,
          32,
          30,
          51,
          51,
          70,
          70,
          83,
          123,
          101,
          68,
          60,
          59,
          87,
          54,
          54,
          39,
          55,
          46,
          37,
          45,
          35,
          42,
          37,
          20,
          37,
          24,
          22,
          30,
          9,
          22,
          27,
          17,
          25,
          17,
          33,
          18,
          24,
          26,
          15,
          15,
          14,
          14,
          17,
          5,
          10,
          9,
          9,
          10,
          6,
          7,
          3,
          3,
          9,
          3,
          9,
          2,
          7,
          1,
          1,
          2,
          4,
          2,
          1,
          1
         ]
        }
       ],
       "layout": {
        "barmode": "group",
        "legend": {
         "orientation": "h"
        },
        "template": {
         "data": {
          "bar": [
           {
            "error_x": {
             "color": "#2a3f5f"
            },
            "error_y": {
             "color": "#2a3f5f"
            },
            "marker": {
             "line": {
              "color": "#E5ECF6",
              "width": 0.5
             },
             "pattern": {
              "fillmode": "overlay",
              "size": 10,
              "solidity": 0.2
             }
            },
            "type": "bar"
           }
          ],
          "barpolar": [
           {
            "marker": {
             "line": {
              "color": "#E5ECF6",
              "width": 0.5
             },
             "pattern": {
              "fillmode": "overlay",
              "size": 10,
              "solidity": 0.2
             }
            },
            "type": "barpolar"
           }
          ],
          "carpet": [
           {
            "aaxis": {
             "endlinecolor": "#2a3f5f",
             "gridcolor": "white",
             "linecolor": "white",
             "minorgridcolor": "white",
             "startlinecolor": "#2a3f5f"
            },
            "baxis": {
             "endlinecolor": "#2a3f5f",
             "gridcolor": "white",
             "linecolor": "white",
             "minorgridcolor": "white",
             "startlinecolor": "#2a3f5f"
            },
            "type": "carpet"
           }
          ],
          "choropleth": [
           {
            "colorbar": {
             "outlinewidth": 0,
             "ticks": ""
            },
            "type": "choropleth"
           }
          ],
          "contour": [
           {
            "colorbar": {
             "outlinewidth": 0,
             "ticks": ""
            },
            "colorscale": [
             [
              0,
              "#0d0887"
             ],
             [
              0.1111111111111111,
              "#46039f"
             ],
             [
              0.2222222222222222,
              "#7201a8"
             ],
             [
              0.3333333333333333,
              "#9c179e"
             ],
             [
              0.4444444444444444,
              "#bd3786"
             ],
             [
              0.5555555555555556,
              "#d8576b"
             ],
             [
              0.6666666666666666,
              "#ed7953"
             ],
             [
              0.7777777777777778,
              "#fb9f3a"
             ],
             [
              0.8888888888888888,
              "#fdca26"
             ],
             [
              1,
              "#f0f921"
             ]
            ],
            "type": "contour"
           }
          ],
          "contourcarpet": [
           {
            "colorbar": {
             "outlinewidth": 0,
             "ticks": ""
            },
            "type": "contourcarpet"
           }
          ],
          "heatmap": [
           {
            "colorbar": {
             "outlinewidth": 0,
             "ticks": ""
            },
            "colorscale": [
             [
              0,
              "#0d0887"
             ],
             [
              0.1111111111111111,
              "#46039f"
             ],
             [
              0.2222222222222222,
              "#7201a8"
             ],
             [
              0.3333333333333333,
              "#9c179e"
             ],
             [
              0.4444444444444444,
              "#bd3786"
             ],
             [
              0.5555555555555556,
              "#d8576b"
             ],
             [
              0.6666666666666666,
              "#ed7953"
             ],
             [
              0.7777777777777778,
              "#fb9f3a"
             ],
             [
              0.8888888888888888,
              "#fdca26"
             ],
             [
              1,
              "#f0f921"
             ]
            ],
            "type": "heatmap"
           }
          ],
          "heatmapgl": [
           {
            "colorbar": {
             "outlinewidth": 0,
             "ticks": ""
            },
            "colorscale": [
             [
              0,
              "#0d0887"
             ],
             [
              0.1111111111111111,
              "#46039f"
             ],
             [
              0.2222222222222222,
              "#7201a8"
             ],
             [
              0.3333333333333333,
              "#9c179e"
             ],
             [
              0.4444444444444444,
              "#bd3786"
             ],
             [
              0.5555555555555556,
              "#d8576b"
             ],
             [
              0.6666666666666666,
              "#ed7953"
             ],
             [
              0.7777777777777778,
              "#fb9f3a"
             ],
             [
              0.8888888888888888,
              "#fdca26"
             ],
             [
              1,
              "#f0f921"
             ]
            ],
            "type": "heatmapgl"
           }
          ],
          "histogram": [
           {
            "marker": {
             "pattern": {
              "fillmode": "overlay",
              "size": 10,
              "solidity": 0.2
             }
            },
            "type": "histogram"
           }
          ],
          "histogram2d": [
           {
            "colorbar": {
             "outlinewidth": 0,
             "ticks": ""
            },
            "colorscale": [
             [
              0,
              "#0d0887"
             ],
             [
              0.1111111111111111,
              "#46039f"
             ],
             [
              0.2222222222222222,
              "#7201a8"
             ],
             [
              0.3333333333333333,
              "#9c179e"
             ],
             [
              0.4444444444444444,
              "#bd3786"
             ],
             [
              0.5555555555555556,
              "#d8576b"
             ],
             [
              0.6666666666666666,
              "#ed7953"
             ],
             [
              0.7777777777777778,
              "#fb9f3a"
             ],
             [
              0.8888888888888888,
              "#fdca26"
             ],
             [
              1,
              "#f0f921"
             ]
            ],
            "type": "histogram2d"
           }
          ],
          "histogram2dcontour": [
           {
            "colorbar": {
             "outlinewidth": 0,
             "ticks": ""
            },
            "colorscale": [
             [
              0,
              "#0d0887"
             ],
             [
              0.1111111111111111,
              "#46039f"
             ],
             [
              0.2222222222222222,
              "#7201a8"
             ],
             [
              0.3333333333333333,
              "#9c179e"
             ],
             [
              0.4444444444444444,
              "#bd3786"
             ],
             [
              0.5555555555555556,
              "#d8576b"
             ],
             [
              0.6666666666666666,
              "#ed7953"
             ],
             [
              0.7777777777777778,
              "#fb9f3a"
             ],
             [
              0.8888888888888888,
              "#fdca26"
             ],
             [
              1,
              "#f0f921"
             ]
            ],
            "type": "histogram2dcontour"
           }
          ],
          "mesh3d": [
           {
            "colorbar": {
             "outlinewidth": 0,
             "ticks": ""
            },
            "type": "mesh3d"
           }
          ],
          "parcoords": [
           {
            "line": {
             "colorbar": {
              "outlinewidth": 0,
              "ticks": ""
             }
            },
            "type": "parcoords"
           }
          ],
          "pie": [
           {
            "automargin": true,
            "type": "pie"
           }
          ],
          "scatter": [
           {
            "marker": {
             "colorbar": {
              "outlinewidth": 0,
              "ticks": ""
             }
            },
            "type": "scatter"
           }
          ],
          "scatter3d": [
           {
            "line": {
             "colorbar": {
              "outlinewidth": 0,
              "ticks": ""
             }
            },
            "marker": {
             "colorbar": {
              "outlinewidth": 0,
              "ticks": ""
             }
            },
            "type": "scatter3d"
           }
          ],
          "scattercarpet": [
           {
            "marker": {
             "colorbar": {
              "outlinewidth": 0,
              "ticks": ""
             }
            },
            "type": "scattercarpet"
           }
          ],
          "scattergeo": [
           {
            "marker": {
             "colorbar": {
              "outlinewidth": 0,
              "ticks": ""
             }
            },
            "type": "scattergeo"
           }
          ],
          "scattergl": [
           {
            "marker": {
             "colorbar": {
              "outlinewidth": 0,
              "ticks": ""
             }
            },
            "type": "scattergl"
           }
          ],
          "scattermapbox": [
           {
            "marker": {
             "colorbar": {
              "outlinewidth": 0,
              "ticks": ""
             }
            },
            "type": "scattermapbox"
           }
          ],
          "scatterpolar": [
           {
            "marker": {
             "colorbar": {
              "outlinewidth": 0,
              "ticks": ""
             }
            },
            "type": "scatterpolar"
           }
          ],
          "scatterpolargl": [
           {
            "marker": {
             "colorbar": {
              "outlinewidth": 0,
              "ticks": ""
             }
            },
            "type": "scatterpolargl"
           }
          ],
          "scatterternary": [
           {
            "marker": {
             "colorbar": {
              "outlinewidth": 0,
              "ticks": ""
             }
            },
            "type": "scatterternary"
           }
          ],
          "surface": [
           {
            "colorbar": {
             "outlinewidth": 0,
             "ticks": ""
            },
            "colorscale": [
             [
              0,
              "#0d0887"
             ],
             [
              0.1111111111111111,
              "#46039f"
             ],
             [
              0.2222222222222222,
              "#7201a8"
             ],
             [
              0.3333333333333333,
              "#9c179e"
             ],
             [
              0.4444444444444444,
              "#bd3786"
             ],
             [
              0.5555555555555556,
              "#d8576b"
             ],
             [
              0.6666666666666666,
              "#ed7953"
             ],
             [
              0.7777777777777778,
              "#fb9f3a"
             ],
             [
              0.8888888888888888,
              "#fdca26"
             ],
             [
              1,
              "#f0f921"
             ]
            ],
            "type": "surface"
           }
          ],
          "table": [
           {
            "cells": {
             "fill": {
              "color": "#EBF0F8"
             },
             "line": {
              "color": "white"
             }
            },
            "header": {
             "fill": {
              "color": "#C8D4E3"
             },
             "line": {
              "color": "white"
             }
            },
            "type": "table"
           }
          ]
         },
         "layout": {
          "annotationdefaults": {
           "arrowcolor": "#2a3f5f",
           "arrowhead": 0,
           "arrowwidth": 1
          },
          "autotypenumbers": "strict",
          "coloraxis": {
           "colorbar": {
            "outlinewidth": 0,
            "ticks": ""
           }
          },
          "colorscale": {
           "diverging": [
            [
             0,
             "#8e0152"
            ],
            [
             0.1,
             "#c51b7d"
            ],
            [
             0.2,
             "#de77ae"
            ],
            [
             0.3,
             "#f1b6da"
            ],
            [
             0.4,
             "#fde0ef"
            ],
            [
             0.5,
             "#f7f7f7"
            ],
            [
             0.6,
             "#e6f5d0"
            ],
            [
             0.7,
             "#b8e186"
            ],
            [
             0.8,
             "#7fbc41"
            ],
            [
             0.9,
             "#4d9221"
            ],
            [
             1,
             "#276419"
            ]
           ],
           "sequential": [
            [
             0,
             "#0d0887"
            ],
            [
             0.1111111111111111,
             "#46039f"
            ],
            [
             0.2222222222222222,
             "#7201a8"
            ],
            [
             0.3333333333333333,
             "#9c179e"
            ],
            [
             0.4444444444444444,
             "#bd3786"
            ],
            [
             0.5555555555555556,
             "#d8576b"
            ],
            [
             0.6666666666666666,
             "#ed7953"
            ],
            [
             0.7777777777777778,
             "#fb9f3a"
            ],
            [
             0.8888888888888888,
             "#fdca26"
            ],
            [
             1,
             "#f0f921"
            ]
           ],
           "sequentialminus": [
            [
             0,
             "#0d0887"
            ],
            [
             0.1111111111111111,
             "#46039f"
            ],
            [
             0.2222222222222222,
             "#7201a8"
            ],
            [
             0.3333333333333333,
             "#9c179e"
            ],
            [
             0.4444444444444444,
             "#bd3786"
            ],
            [
             0.5555555555555556,
             "#d8576b"
            ],
            [
             0.6666666666666666,
             "#ed7953"
            ],
            [
             0.7777777777777778,
             "#fb9f3a"
            ],
            [
             0.8888888888888888,
             "#fdca26"
            ],
            [
             1,
             "#f0f921"
            ]
           ]
          },
          "colorway": [
           "#636efa",
           "#EF553B",
           "#00cc96",
           "#ab63fa",
           "#FFA15A",
           "#19d3f3",
           "#FF6692",
           "#B6E880",
           "#FF97FF",
           "#FECB52"
          ],
          "font": {
           "color": "#2a3f5f"
          },
          "geo": {
           "bgcolor": "white",
           "lakecolor": "white",
           "landcolor": "#E5ECF6",
           "showlakes": true,
           "showland": true,
           "subunitcolor": "white"
          },
          "hoverlabel": {
           "align": "left"
          },
          "hovermode": "closest",
          "mapbox": {
           "style": "light"
          },
          "paper_bgcolor": "white",
          "plot_bgcolor": "#E5ECF6",
          "polar": {
           "angularaxis": {
            "gridcolor": "white",
            "linecolor": "white",
            "ticks": ""
           },
           "bgcolor": "#E5ECF6",
           "radialaxis": {
            "gridcolor": "white",
            "linecolor": "white",
            "ticks": ""
           }
          },
          "scene": {
           "xaxis": {
            "backgroundcolor": "#E5ECF6",
            "gridcolor": "white",
            "gridwidth": 2,
            "linecolor": "white",
            "showbackground": true,
            "ticks": "",
            "zerolinecolor": "white"
           },
           "yaxis": {
            "backgroundcolor": "#E5ECF6",
            "gridcolor": "white",
            "gridwidth": 2,
            "linecolor": "white",
            "showbackground": true,
            "ticks": "",
            "zerolinecolor": "white"
           },
           "zaxis": {
            "backgroundcolor": "#E5ECF6",
            "gridcolor": "white",
            "gridwidth": 2,
            "linecolor": "white",
            "showbackground": true,
            "ticks": "",
            "zerolinecolor": "white"
           }
          },
          "shapedefaults": {
           "line": {
            "color": "#2a3f5f"
           }
          },
          "ternary": {
           "aaxis": {
            "gridcolor": "white",
            "linecolor": "white",
            "ticks": ""
           },
           "baxis": {
            "gridcolor": "white",
            "linecolor": "white",
            "ticks": ""
           },
           "bgcolor": "#E5ECF6",
           "caxis": {
            "gridcolor": "white",
            "linecolor": "white",
            "ticks": ""
           }
          },
          "title": {
           "x": 0.05
          },
          "xaxis": {
           "automargin": true,
           "gridcolor": "white",
           "linecolor": "white",
           "ticks": "",
           "title": {
            "standoff": 15
           },
           "zerolinecolor": "white",
           "zerolinewidth": 2
          },
          "yaxis": {
           "automargin": true,
           "gridcolor": "white",
           "linecolor": "white",
           "ticks": "",
           "title": {
            "standoff": 15
           },
           "zerolinecolor": "white",
           "zerolinewidth": 2
          }
         }
        },
        "title": {
         "text": "(Gender (male/female) - Count of __index__ by Age (number)"
        },
        "xaxis": {
         "tickformat": "0:g",
         "title": {
          "text": "Age (number)"
         }
        },
        "yaxis": {
         "tickformat": "0:g",
         "title": {
          "text": "Count of __index__"
         },
         "type": "linear"
        }
       }
      }
     },
     "metadata": {},
     "output_type": "display_data"
    }
   ],
   "source": [
    "# DISCLAIMER: 'df' refers to the data you passed in when calling 'dtale.show'\n",
    "\n",
    "import pandas as pd\n",
    "\n",
    "if isinstance(df, (pd.DatetimeIndex, pd.MultiIndex)):\n",
    "\tdf = df.to_frame(index=False)\n",
    "\n",
    "# remove any pre-existing indices for ease of use in the D-Tale code, but this is not required\n",
    "df = df.reset_index().drop('index', axis=1, errors='ignore')\n",
    "df.columns = [str(c) for c in df.columns]  # update columns to strings in case they are numbers\n",
    "\n",
    "chart_data = pd.concat([\n",
    "\tpd.Series(df.index, index=df.index, name='__index__'),\n",
    "\tdf['Age (number)'],\n",
    "\tdf['Gender (male/female/other)'],\n",
    "], axis=1)\n",
    "chart_data = chart_data.query(\"\"\"(`Gender (male/female/other)` == 'female') or (`Gender (male/female/other)` == 'male')\"\"\")\n",
    "chart_data = chart_data.sort_values(['Gender (male/female/other)', 'Age (number)'])\n",
    "chart_data = chart_data.rename(columns={'Age (number)': 'x'})\n",
    "chart_data_count = chart_data.groupby(['Gender (male/female/other)', 'x'])[['__index__']].count()\n",
    "chart_data_count.columns = ['__index__|count']\n",
    "chart_data = chart_data_count.reset_index()\n",
    "chart_data = chart_data.dropna()\n",
    "# WARNING: This is not taking into account grouping of any kind, please apply filter associated with\n",
    "#          the group in question in order to replicate chart. For this we're using '\"\"\"`Gender (male/female/other)` == 'female'\"\"\"'\n",
    "#chart_data = chart_data.query(\"\"\"`Gender (male/female/other)` == 'female'\"\"\")\n",
    "chart_data = chart_data.query(\"\"\"(`Gender (male/female/other)` == 'female') or (`Gender (male/female/other)` == 'male')\"\"\")\n",
    "\n",
    "import plotly.graph_objs as go\n",
    "\n",
    "charts = []\n",
    "charts.append(go.Bar(\n",
    "\tx=chart_data['x'],\n",
    "\ty=chart_data['__index__|count'],\n",
    "\tname='(Gender (male/female)'\n",
    "\t\n",
    "))\n",
    "figure = go.Figure(data=charts, layout=go.Layout({\n",
    "    'barmode': 'group',\n",
    "    'legend': {'orientation': 'h'},\n",
    "    'title': {'text': '(Gender (male/female) - Count of __index__ by Age (number)'},\n",
    "    'xaxis': {'tickformat': '0:g', 'title': {'text': 'Age (number)'}},\n",
    "    'yaxis': {'tickformat': '0:g', 'title': {'text': 'Count of __index__'}, 'type': 'linear'}\n",
    "}))\n",
    "\n",
    "# If you're having trouble viewing your chart in your notebook try passing your 'chart' into this snippet:\n",
    "#\n",
    "# from plotly.offline import iplot, init_notebook_mode\n",
    "#\n",
    "# init_notebook_mode(connected=True)\n",
    "# for chart in charts:\n",
    "#     chart.pop('id', None) # for some reason iplot does not like 'id'\n",
    "# iplot(figure)\n",
    "figure.show()"
   ]
  },
  {
   "cell_type": "code",
   "execution_count": null,
   "id": "493e7a22",
   "metadata": {},
   "outputs": [],
   "source": []
  }
 ],
 "metadata": {
  "kernelspec": {
   "display_name": "Python 3",
   "language": "python",
   "name": "python3"
  },
  "language_info": {
   "codemirror_mode": {
    "name": "ipython",
    "version": 3
   },
   "file_extension": ".py",
   "mimetype": "text/x-python",
   "name": "python",
   "nbconvert_exporter": "python",
   "pygments_lexer": "ipython3",
   "version": "3.9.7"
  },
  "papermill": {
   "default_parameters": {},
   "duration": 43.495838,
   "end_time": "2021-11-06T06:28:48.091830",
   "environment_variables": {},
   "exception": null,
   "input_path": "__notebook__.ipynb",
   "output_path": "__notebook__.ipynb",
   "parameters": {},
   "start_time": "2021-11-06T06:28:04.595992",
   "version": "2.3.3"
  }
 },
 "nbformat": 4,
 "nbformat_minor": 5
}

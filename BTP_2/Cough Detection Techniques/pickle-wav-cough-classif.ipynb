{
 "cells": [
  {
   "cell_type": "code",
   "execution_count": 1,
   "id": "d77d2a20",
   "metadata": {
    "_cell_guid": "b1076dfc-b9ad-4769-8c92-a6c4dae69d19",
    "_uuid": "8f2839f25d086af736a60e9eeb907d3b93b6e0e5",
    "execution": {
     "iopub.execute_input": "2022-01-24T13:42:27.728603Z",
     "iopub.status.busy": "2022-01-24T13:42:27.727536Z",
     "iopub.status.idle": "2022-01-24T13:42:35.015887Z",
     "shell.execute_reply": "2022-01-24T13:42:35.015134Z",
     "shell.execute_reply.started": "2022-01-24T13:30:19.195689Z"
    },
    "papermill": {
     "duration": 7.321737,
     "end_time": "2022-01-24T13:42:35.016062",
     "exception": false,
     "start_time": "2022-01-24T13:42:27.694325",
     "status": "completed"
    },
    "tags": []
   },
   "outputs": [],
   "source": [
    "# Basic Libraries\n",
    "\n",
    "import pandas as pd\n",
    "import numpy as np\n",
    "\n",
    "pd.plotting.register_matplotlib_converters()\n",
    "import matplotlib.pyplot as plt\n",
    "%matplotlib inline\n",
    "import seaborn as sns\n",
    "\n",
    "from sklearn.model_selection import train_test_split\n",
    "from sklearn.metrics import classification_report\n",
    "from sklearn.model_selection import GridSearchCV\n",
    "\n",
    "from sklearn.preprocessing import MinMaxScaler\n",
    "# Libraries for Classification and building Models\n",
    "\n",
    "from tensorflow.keras.models import Sequential\n",
    "from tensorflow.keras.layers import Conv2D, Flatten, Dense, MaxPool2D, Dropout\n",
    "from tensorflow.keras.utils import to_categorical \n",
    "\n",
    "from sklearn.ensemble import RandomForestClassifier\n",
    "from sklearn.svm import SVC\n",
    "# Project Specific Libraries\n",
    "\n",
    "import os\n",
    "import librosa\n",
    "import librosa.display\n",
    "import glob \n",
    "import skimage\n",
    "\n",
    "from sklearn.metrics import accuracy_score\n",
    "from sklearn.metrics import classification_report"
   ]
  },
  {
   "cell_type": "code",
   "execution_count": 2,
   "id": "4f62c9e0",
   "metadata": {
    "execution": {
     "iopub.execute_input": "2022-01-24T13:42:35.081030Z",
     "iopub.status.busy": "2022-01-24T13:42:35.080330Z",
     "iopub.status.idle": "2022-01-24T13:42:35.302079Z",
     "shell.execute_reply": "2022-01-24T13:42:35.302509Z",
     "shell.execute_reply.started": "2022-01-24T13:30:29.137663Z"
    },
    "papermill": {
     "duration": 0.256132,
     "end_time": "2022-01-24T13:42:35.302674",
     "exception": false,
     "start_time": "2022-01-24T13:42:35.046542",
     "status": "completed"
    },
    "tags": []
   },
   "outputs": [],
   "source": [
    "X = np.load('../input/pickle-wav-cough-classification/X.pkl', allow_pickle=True)\n",
    "Y = np.load('../input/pickle-wav-cough-classification/Y_old.pkl', allow_pickle=True)"
   ]
  },
  {
   "cell_type": "code",
   "execution_count": 3,
   "id": "7760bf4d",
   "metadata": {
    "execution": {
     "iopub.execute_input": "2022-01-24T13:42:35.364610Z",
     "iopub.status.busy": "2022-01-24T13:42:35.363930Z",
     "iopub.status.idle": "2022-01-24T13:42:35.371690Z",
     "shell.execute_reply": "2022-01-24T13:42:35.372183Z",
     "shell.execute_reply.started": "2022-01-24T13:30:29.588163Z"
    },
    "papermill": {
     "duration": 0.040353,
     "end_time": "2022-01-24T13:42:35.372364",
     "exception": false,
     "start_time": "2022-01-24T13:42:35.332011",
     "status": "completed"
    },
    "tags": []
   },
   "outputs": [
    {
     "data": {
      "text/plain": [
       "array([[2.89615750e-01, 1.05253726e-01, 5.93493395e-02, ...,\n",
       "        1.88220444e-03, 4.31703607e-04, 2.30146434e-05],\n",
       "       [6.21155538e-02, 2.10357979e-02, 1.27448663e-02, ...,\n",
       "        1.38998333e-08, 4.70543826e-09, 4.17345186e-10],\n",
       "       [3.02631990e-04, 2.33808925e-04, 8.38512613e-04, ...,\n",
       "        1.11880305e-03, 3.19325947e-04, 1.76634858e-05],\n",
       "       ...,\n",
       "       [1.26186684e-01, 3.87993231e-02, 2.02403609e-02, ...,\n",
       "        1.83137803e-04, 6.03376830e-05, 4.81652069e-06],\n",
       "       [7.16541484e-02, 7.86676351e-03, 2.42731092e-03, ...,\n",
       "        2.47372045e-05, 6.03010722e-06, 3.38482863e-07],\n",
       "       [1.84480762e+00, 1.36250898e-01, 1.43176718e-02, ...,\n",
       "        4.98062462e-01, 1.80927873e-01, 1.89950746e-02]])"
      ]
     },
     "execution_count": 3,
     "metadata": {},
     "output_type": "execute_result"
    }
   ],
   "source": [
    "X"
   ]
  },
  {
   "cell_type": "code",
   "execution_count": 4,
   "id": "034f9e70",
   "metadata": {
    "execution": {
     "iopub.execute_input": "2022-01-24T13:42:35.434465Z",
     "iopub.status.busy": "2022-01-24T13:42:35.433846Z",
     "iopub.status.idle": "2022-01-24T13:42:35.438772Z",
     "shell.execute_reply": "2022-01-24T13:42:35.439324Z",
     "shell.execute_reply.started": "2022-01-24T13:30:29.601468Z"
    },
    "papermill": {
     "duration": 0.037346,
     "end_time": "2022-01-24T13:42:35.439462",
     "exception": false,
     "start_time": "2022-01-24T13:42:35.402116",
     "status": "completed"
    },
    "tags": []
   },
   "outputs": [
    {
     "data": {
      "text/plain": [
       "array([[0., 1.],\n",
       "       [0., 1.],\n",
       "       [0., 1.],\n",
       "       ...,\n",
       "       [1., 0.],\n",
       "       [1., 0.],\n",
       "       [1., 0.]], dtype=float32)"
      ]
     },
     "execution_count": 4,
     "metadata": {},
     "output_type": "execute_result"
    }
   ],
   "source": [
    "Y"
   ]
  },
  {
   "cell_type": "code",
   "execution_count": 5,
   "id": "a235546a",
   "metadata": {
    "execution": {
     "iopub.execute_input": "2022-01-24T13:42:35.500937Z",
     "iopub.status.busy": "2022-01-24T13:42:35.500310Z",
     "iopub.status.idle": "2022-01-24T13:42:35.502910Z",
     "shell.execute_reply": "2022-01-24T13:42:35.503377Z",
     "shell.execute_reply.started": "2022-01-24T13:30:29.613790Z"
    },
    "papermill": {
     "duration": 0.034734,
     "end_time": "2022-01-24T13:42:35.503525",
     "exception": false,
     "start_time": "2022-01-24T13:42:35.468791",
     "status": "completed"
    },
    "tags": []
   },
   "outputs": [],
   "source": [
    "#a = [list(ele) for ele in Y]\n",
    "\n",
    "# fruits = [[1], [0], [1]]\n",
    "# fruits.append([0])\n",
    "\n",
    "# new_list = []\n",
    "# for ele in Y:\n",
    "#     new_list.append([ele])\n",
    "    \n",
    "# arr = np.array(new_list)"
   ]
  },
  {
   "cell_type": "code",
   "execution_count": 6,
   "id": "a290fff7",
   "metadata": {
    "execution": {
     "iopub.execute_input": "2022-01-24T13:42:35.566941Z",
     "iopub.status.busy": "2022-01-24T13:42:35.566324Z",
     "iopub.status.idle": "2022-01-24T13:42:35.571281Z",
     "shell.execute_reply": "2022-01-24T13:42:35.572034Z",
     "shell.execute_reply.started": "2022-01-24T13:30:29.626203Z"
    },
    "papermill": {
     "duration": 0.037098,
     "end_time": "2022-01-24T13:42:35.572261",
     "exception": false,
     "start_time": "2022-01-24T13:42:35.535163",
     "status": "completed"
    },
    "tags": []
   },
   "outputs": [
    {
     "name": "stdout",
     "output_type": "stream",
     "text": [
      "(13244, 128)\n",
      "(13244, 2)\n"
     ]
    }
   ],
   "source": [
    "'''Final Data'''\n",
    "print(X.shape)\n",
    "print(Y.shape)"
   ]
  },
  {
   "cell_type": "code",
   "execution_count": 7,
   "id": "429b45e9",
   "metadata": {
    "execution": {
     "iopub.execute_input": "2022-01-24T13:42:35.635365Z",
     "iopub.status.busy": "2022-01-24T13:42:35.634773Z",
     "iopub.status.idle": "2022-01-24T13:42:35.638842Z",
     "shell.execute_reply": "2022-01-24T13:42:35.639338Z",
     "shell.execute_reply.started": "2022-01-24T13:30:29.644130Z"
    },
    "papermill": {
     "duration": 0.036664,
     "end_time": "2022-01-24T13:42:35.639485",
     "exception": false,
     "start_time": "2022-01-24T13:42:35.602821",
     "status": "completed"
    },
    "tags": []
   },
   "outputs": [
    {
     "data": {
      "text/plain": [
       "numpy.ndarray"
      ]
     },
     "execution_count": 7,
     "metadata": {},
     "output_type": "execute_result"
    }
   ],
   "source": [
    "type(Y)"
   ]
  },
  {
   "cell_type": "code",
   "execution_count": 8,
   "id": "7c3cb00c",
   "metadata": {
    "execution": {
     "iopub.execute_input": "2022-01-24T13:42:35.703279Z",
     "iopub.status.busy": "2022-01-24T13:42:35.702743Z",
     "iopub.status.idle": "2022-01-24T13:42:35.706380Z",
     "shell.execute_reply": "2022-01-24T13:42:35.706922Z",
     "shell.execute_reply.started": "2022-01-24T13:30:29.658790Z"
    },
    "papermill": {
     "duration": 0.036862,
     "end_time": "2022-01-24T13:42:35.707058",
     "exception": false,
     "start_time": "2022-01-24T13:42:35.670196",
     "status": "completed"
    },
    "tags": []
   },
   "outputs": [
    {
     "data": {
      "text/plain": [
       "numpy.ndarray"
      ]
     },
     "execution_count": 8,
     "metadata": {},
     "output_type": "execute_result"
    }
   ],
   "source": [
    "type(X)"
   ]
  },
  {
   "cell_type": "code",
   "execution_count": 9,
   "id": "9d012554",
   "metadata": {
    "execution": {
     "iopub.execute_input": "2022-01-24T13:42:35.770549Z",
     "iopub.status.busy": "2022-01-24T13:42:35.769919Z",
     "iopub.status.idle": "2022-01-24T13:42:35.784766Z",
     "shell.execute_reply": "2022-01-24T13:42:35.784271Z",
     "shell.execute_reply.started": "2022-01-24T13:30:29.693259Z"
    },
    "papermill": {
     "duration": 0.047061,
     "end_time": "2022-01-24T13:42:35.784888",
     "exception": false,
     "start_time": "2022-01-24T13:42:35.737827",
     "status": "completed"
    },
    "tags": []
   },
   "outputs": [],
   "source": [
    "X_train, X_test, Y_train, Y_test = train_test_split(X, Y, random_state = 1)"
   ]
  },
  {
   "cell_type": "code",
   "execution_count": 10,
   "id": "6999f1aa",
   "metadata": {
    "execution": {
     "iopub.execute_input": "2022-01-24T13:42:35.849503Z",
     "iopub.status.busy": "2022-01-24T13:42:35.848879Z",
     "iopub.status.idle": "2022-01-24T13:42:35.851183Z",
     "shell.execute_reply": "2022-01-24T13:42:35.851646Z",
     "shell.execute_reply.started": "2022-01-24T13:30:29.723693Z"
    },
    "papermill": {
     "duration": 0.037156,
     "end_time": "2022-01-24T13:42:35.851795",
     "exception": false,
     "start_time": "2022-01-24T13:42:35.814639",
     "status": "completed"
    },
    "tags": []
   },
   "outputs": [],
   "source": [
    "X_train = X_train.reshape(9933, 16, 8, 1)\n",
    "X_test = X_test.reshape(3311, 16, 8, 1)"
   ]
  },
  {
   "cell_type": "code",
   "execution_count": 11,
   "id": "ef7cc2a4",
   "metadata": {
    "execution": {
     "iopub.execute_input": "2022-01-24T13:42:35.916973Z",
     "iopub.status.busy": "2022-01-24T13:42:35.916368Z",
     "iopub.status.idle": "2022-01-24T13:42:35.918380Z",
     "shell.execute_reply": "2022-01-24T13:42:35.918837Z",
     "shell.execute_reply.started": "2022-01-24T13:30:29.730442Z"
    },
    "papermill": {
     "duration": 0.036629,
     "end_time": "2022-01-24T13:42:35.918981",
     "exception": false,
     "start_time": "2022-01-24T13:42:35.882352",
     "status": "completed"
    },
    "tags": []
   },
   "outputs": [],
   "source": [
    "input_dim = (16, 8, 1)"
   ]
  },
  {
   "cell_type": "code",
   "execution_count": 12,
   "id": "93ccc863",
   "metadata": {
    "execution": {
     "iopub.execute_input": "2022-01-24T13:42:35.996472Z",
     "iopub.status.busy": "2022-01-24T13:42:35.993703Z",
     "iopub.status.idle": "2022-01-24T13:42:35.999374Z",
     "shell.execute_reply": "2022-01-24T13:42:35.998810Z",
     "shell.execute_reply.started": "2022-01-24T13:30:29.745371Z"
    },
    "papermill": {
     "duration": 0.049969,
     "end_time": "2022-01-24T13:42:35.999592",
     "exception": false,
     "start_time": "2022-01-24T13:42:35.949623",
     "status": "completed"
    },
    "tags": []
   },
   "outputs": [],
   "source": [
    "#Plan to use pycaret for best model\n",
    "#How to reduce overfitting on the validation dataset"
   ]
  },
  {
   "cell_type": "code",
   "execution_count": 13,
   "id": "37d982b9",
   "metadata": {
    "execution": {
     "iopub.execute_input": "2022-01-24T13:42:36.071822Z",
     "iopub.status.busy": "2022-01-24T13:42:36.070868Z",
     "iopub.status.idle": "2022-01-24T13:42:36.074023Z",
     "shell.execute_reply": "2022-01-24T13:42:36.073382Z",
     "shell.execute_reply.started": "2022-01-24T13:30:29.761286Z"
    },
    "papermill": {
     "duration": 0.042479,
     "end_time": "2022-01-24T13:42:36.074159",
     "exception": false,
     "start_time": "2022-01-24T13:42:36.031680",
     "status": "completed"
    },
    "tags": []
   },
   "outputs": [],
   "source": [
    "#pip install keras"
   ]
  },
  {
   "cell_type": "code",
   "execution_count": 14,
   "id": "e528f869",
   "metadata": {
    "execution": {
     "iopub.execute_input": "2022-01-24T13:42:36.162987Z",
     "iopub.status.busy": "2022-01-24T13:42:36.162076Z",
     "iopub.status.idle": "2022-01-24T13:42:36.164231Z",
     "shell.execute_reply": "2022-01-24T13:42:36.164846Z",
     "shell.execute_reply.started": "2022-01-24T13:30:29.777256Z"
    },
    "papermill": {
     "duration": 0.042831,
     "end_time": "2022-01-24T13:42:36.165006",
     "exception": false,
     "start_time": "2022-01-24T13:42:36.122175",
     "status": "completed"
    },
    "tags": []
   },
   "outputs": [],
   "source": [
    "from keras.layers.normalization.layer_normalization import *\n",
    "from keras.layers.normalization.batch_normalization import *"
   ]
  },
  {
   "cell_type": "code",
   "execution_count": 15,
   "id": "8bae0249",
   "metadata": {
    "execution": {
     "iopub.execute_input": "2022-01-24T13:42:36.235695Z",
     "iopub.status.busy": "2022-01-24T13:42:36.234739Z",
     "iopub.status.idle": "2022-01-24T13:42:36.238021Z",
     "shell.execute_reply": "2022-01-24T13:42:36.238600Z",
     "shell.execute_reply.started": "2022-01-24T13:30:29.793242Z"
    },
    "papermill": {
     "duration": 0.037112,
     "end_time": "2022-01-24T13:42:36.238762",
     "exception": false,
     "start_time": "2022-01-24T13:42:36.201650",
     "status": "completed"
    },
    "tags": []
   },
   "outputs": [],
   "source": [
    "#pip install autokeras"
   ]
  },
  {
   "cell_type": "code",
   "execution_count": 16,
   "id": "6bd42462",
   "metadata": {
    "execution": {
     "iopub.execute_input": "2022-01-24T13:42:36.312832Z",
     "iopub.status.busy": "2022-01-24T13:42:36.311905Z",
     "iopub.status.idle": "2022-01-24T13:42:36.317086Z",
     "shell.execute_reply": "2022-01-24T13:42:36.317666Z",
     "shell.execute_reply.started": "2022-01-24T13:30:29.806923Z"
    },
    "papermill": {
     "duration": 0.040048,
     "end_time": "2022-01-24T13:42:36.317827",
     "exception": false,
     "start_time": "2022-01-24T13:42:36.277779",
     "status": "completed"
    },
    "tags": []
   },
   "outputs": [
    {
     "data": {
      "text/plain": [
       "numpy.ndarray"
      ]
     },
     "execution_count": 16,
     "metadata": {},
     "output_type": "execute_result"
    }
   ],
   "source": [
    "type(X_train)"
   ]
  },
  {
   "cell_type": "code",
   "execution_count": 17,
   "id": "8ce4c915",
   "metadata": {
    "execution": {
     "iopub.execute_input": "2022-01-24T13:42:36.385522Z",
     "iopub.status.busy": "2022-01-24T13:42:36.384608Z",
     "iopub.status.idle": "2022-01-24T13:42:36.390108Z",
     "shell.execute_reply": "2022-01-24T13:42:36.390734Z",
     "shell.execute_reply.started": "2022-01-24T13:30:29.821717Z"
    },
    "papermill": {
     "duration": 0.040661,
     "end_time": "2022-01-24T13:42:36.390904",
     "exception": false,
     "start_time": "2022-01-24T13:42:36.350243",
     "status": "completed"
    },
    "tags": []
   },
   "outputs": [
    {
     "data": {
      "text/plain": [
       "array([[1., 0.],\n",
       "       [1., 0.],\n",
       "       [1., 0.],\n",
       "       ...,\n",
       "       [1., 0.],\n",
       "       [1., 0.],\n",
       "       [0., 1.]], dtype=float32)"
      ]
     },
     "execution_count": 17,
     "metadata": {},
     "output_type": "execute_result"
    }
   ],
   "source": [
    "Y_train"
   ]
  },
  {
   "cell_type": "code",
   "execution_count": 18,
   "id": "cb6b91e8",
   "metadata": {
    "execution": {
     "iopub.execute_input": "2022-01-24T13:42:36.465152Z",
     "iopub.status.busy": "2022-01-24T13:42:36.464258Z",
     "iopub.status.idle": "2022-01-24T13:42:36.467340Z",
     "shell.execute_reply": "2022-01-24T13:42:36.467960Z",
     "shell.execute_reply.started": "2022-01-24T13:30:29.835840Z"
    },
    "papermill": {
     "duration": 0.0464,
     "end_time": "2022-01-24T13:42:36.468114",
     "exception": false,
     "start_time": "2022-01-24T13:42:36.421714",
     "status": "completed"
    },
    "tags": []
   },
   "outputs": [],
   "source": [
    "#Y_train=np.argmax(Y_train,axis=1)"
   ]
  },
  {
   "cell_type": "code",
   "execution_count": 19,
   "id": "c3d9b965",
   "metadata": {
    "execution": {
     "iopub.execute_input": "2022-01-24T13:42:36.536226Z",
     "iopub.status.busy": "2022-01-24T13:42:36.535214Z",
     "iopub.status.idle": "2022-01-24T13:42:36.538484Z",
     "shell.execute_reply": "2022-01-24T13:42:36.539056Z",
     "shell.execute_reply.started": "2022-01-24T13:30:29.847976Z"
    },
    "papermill": {
     "duration": 0.039011,
     "end_time": "2022-01-24T13:42:36.539199",
     "exception": false,
     "start_time": "2022-01-24T13:42:36.500188",
     "status": "completed"
    },
    "tags": []
   },
   "outputs": [],
   "source": [
    "# import autokeras as ak\n",
    "# model = ak.ImageClassifier(max_trial = 100)\n",
    "# model.fit(X_train, Y_train)"
   ]
  },
  {
   "cell_type": "code",
   "execution_count": null,
   "id": "fbfa4c0f",
   "metadata": {
    "papermill": {
     "duration": 0.031006,
     "end_time": "2022-01-24T13:42:36.602019",
     "exception": false,
     "start_time": "2022-01-24T13:42:36.571013",
     "status": "completed"
    },
    "tags": []
   },
   "outputs": [],
   "source": []
  },
  {
   "cell_type": "code",
   "execution_count": null,
   "id": "8631e28e",
   "metadata": {
    "papermill": {
     "duration": 0.031082,
     "end_time": "2022-01-24T13:42:36.664514",
     "exception": false,
     "start_time": "2022-01-24T13:42:36.633432",
     "status": "completed"
    },
    "tags": []
   },
   "outputs": [],
   "source": []
  },
  {
   "cell_type": "code",
   "execution_count": null,
   "id": "f57df3a1",
   "metadata": {
    "papermill": {
     "duration": 0.032217,
     "end_time": "2022-01-24T13:42:36.731120",
     "exception": false,
     "start_time": "2022-01-24T13:42:36.698903",
     "status": "completed"
    },
    "tags": []
   },
   "outputs": [],
   "source": []
  },
  {
   "cell_type": "markdown",
   "id": "f704c9ac",
   "metadata": {
    "papermill": {
     "duration": 0.030551,
     "end_time": "2022-01-24T13:42:36.793364",
     "exception": false,
     "start_time": "2022-01-24T13:42:36.762813",
     "status": "completed"
    },
    "tags": []
   },
   "source": [
    "## Creating Keras Model and Testing"
   ]
  },
  {
   "cell_type": "markdown",
   "id": "f4d46417",
   "metadata": {
    "papermill": {
     "duration": 0.030595,
     "end_time": "2022-01-24T13:42:36.853871",
     "exception": false,
     "start_time": "2022-01-24T13:42:36.823276",
     "status": "completed"
    },
    "tags": []
   },
   "source": [
    "**Model 1:**\n",
    "* CNN 2D with 64 units and tanh activation.\n",
    "* MaxPool2D with 2*2 window.\n",
    "* CNN 2D with 128 units and tanh activation.\n",
    "* MaxPool2D with 2*2 window.\n",
    "* Dropout Layer with 0.2 drop probability.\n",
    "* DL with 1024 units and tanh activation.\n",
    "* DL 10 units with softmax activation.\n",
    "* Adam optimizer with categorical_crossentropy loss function.\n",
    "* 90 epochs have been used."
   ]
  },
  {
   "cell_type": "code",
   "execution_count": 20,
   "id": "d3c0b1fe",
   "metadata": {
    "execution": {
     "iopub.execute_input": "2022-01-24T13:42:36.918614Z",
     "iopub.status.busy": "2022-01-24T13:42:36.917701Z",
     "iopub.status.idle": "2022-01-24T13:42:36.971926Z",
     "shell.execute_reply": "2022-01-24T13:42:36.972424Z",
     "shell.execute_reply.started": "2022-01-24T13:30:29.861830Z"
    },
    "papermill": {
     "duration": 0.088527,
     "end_time": "2022-01-24T13:42:36.972595",
     "exception": false,
     "start_time": "2022-01-24T13:42:36.884068",
     "status": "completed"
    },
    "tags": []
   },
   "outputs": [
    {
     "name": "stderr",
     "output_type": "stream",
     "text": [
      "\n",
      "User settings:\n",
      "\n",
      "   KMP_AFFINITY=granularity=fine,verbose,compact,1,0\n",
      "   KMP_BLOCKTIME=0\n",
      "   KMP_DUPLICATE_LIB_OK=True\n",
      "   KMP_INIT_AT_FORK=FALSE\n",
      "   KMP_SETTINGS=1\n",
      "   KMP_WARNINGS=0\n",
      "\n",
      "Effective settings:\n",
      "\n",
      "   KMP_ABORT_DELAY=0\n",
      "   KMP_ADAPTIVE_LOCK_PROPS='1,1024'\n",
      "   KMP_ALIGN_ALLOC=64\n",
      "   KMP_ALL_THREADPRIVATE=128\n",
      "   KMP_ATOMIC_MODE=2\n",
      "   KMP_BLOCKTIME=0\n",
      "   KMP_CPUINFO_FILE: value is not defined\n",
      "   KMP_DETERMINISTIC_REDUCTION=false\n",
      "   KMP_DEVICE_THREAD_LIMIT=2147483647\n",
      "   KMP_DISP_NUM_BUFFERS=7\n",
      "   KMP_DUPLICATE_LIB_OK=true\n",
      "   KMP_ENABLE_TASK_THROTTLING=true\n",
      "   KMP_FORCE_REDUCTION: value is not defined\n",
      "   KMP_FOREIGN_THREADS_THREADPRIVATE=true\n",
      "   KMP_FORKJOIN_BARRIER='2,2'\n",
      "   KMP_FORKJOIN_BARRIER_PATTERN='hyper,hyper'\n",
      "   KMP_GTID_MODE=3\n",
      "   KMP_HANDLE_SIGNALS=false\n",
      "   KMP_HOT_TEAMS_MAX_LEVEL=1\n",
      "   KMP_HOT_TEAMS_MODE=0\n",
      "   KMP_INIT_AT_FORK=true\n",
      "   KMP_LIBRARY=throughput\n",
      "   KMP_LOCK_KIND=queuing\n",
      "   KMP_MALLOC_POOL_INCR=1M\n",
      "   KMP_NUM_LOCKS_IN_BLOCK=1\n",
      "   KMP_PLAIN_BARRIER='2,2'\n",
      "   KMP_PLAIN_BARRIER_PATTERN='hyper,hyper'\n",
      "   KMP_REDUCTION_BARRIER='1,1'\n",
      "   KMP_REDUCTION_BARRIER_PATTERN='hyper,hyper'\n",
      "   KMP_SCHEDULE='static,balanced;guided,iterative'\n",
      "   KMP_SETTINGS=true\n",
      "   KMP_SPIN_BACKOFF_PARAMS='4096,100'\n",
      "   KMP_STACKOFFSET=64\n",
      "   KMP_STACKPAD=0\n",
      "   KMP_STACKSIZE=8M\n",
      "   KMP_STORAGE_MAP=false\n",
      "   KMP_TASKING=2\n",
      "   KMP_TASKLOOP_MIN_TASKS=0\n",
      "   KMP_TASK_STEALING_CONSTRAINT=1\n",
      "   KMP_TEAMS_THREAD_LIMIT=4\n",
      "   KMP_TOPOLOGY_METHOD=all\n",
      "   KMP_USE_YIELD=1\n",
      "   KMP_VERSION=false\n",
      "   KMP_WARNINGS=false\n",
      "   OMP_AFFINITY_FORMAT='OMP: pid %P tid %i thread %n bound to OS proc set {%A}'\n",
      "   OMP_ALLOCATOR=omp_default_mem_alloc\n",
      "   OMP_CANCELLATION=false\n",
      "   OMP_DEFAULT_DEVICE=0\n",
      "   OMP_DISPLAY_AFFINITY=false\n",
      "   OMP_DISPLAY_ENV=false\n",
      "   OMP_DYNAMIC=false\n",
      "   OMP_MAX_ACTIVE_LEVELS=1\n",
      "   OMP_MAX_TASK_PRIORITY=0\n",
      "   OMP_NESTED: deprecated; max-active-levels-var=1\n",
      "   OMP_NUM_THREADS: value is not defined\n",
      "   OMP_PLACES: value is not defined\n",
      "   OMP_PROC_BIND='intel'\n",
      "   OMP_SCHEDULE='static'\n",
      "   OMP_STACKSIZE=8M\n",
      "   OMP_TARGET_OFFLOAD=DEFAULT\n",
      "   OMP_THREAD_LIMIT=2147483647\n",
      "   OMP_WAIT_POLICY=PASSIVE\n",
      "   KMP_AFFINITY='verbose,warnings,respect,granularity=fine,compact,1,0'\n",
      "\n",
      "2022-01-24 13:42:36.950445: I tensorflow/core/common_runtime/process_util.cc:146] Creating new thread pool with default inter op setting: 2. Tune using inter_op_parallelism_threads for best performance.\n"
     ]
    }
   ],
   "source": [
    "model = Sequential()"
   ]
  },
  {
   "cell_type": "code",
   "execution_count": 21,
   "id": "f101c151",
   "metadata": {
    "execution": {
     "iopub.execute_input": "2022-01-24T13:42:37.049164Z",
     "iopub.status.busy": "2022-01-24T13:42:37.048262Z",
     "iopub.status.idle": "2022-01-24T13:42:37.138049Z",
     "shell.execute_reply": "2022-01-24T13:42:37.137354Z",
     "shell.execute_reply.started": "2022-01-24T13:30:29.933462Z"
    },
    "papermill": {
     "duration": 0.133674,
     "end_time": "2022-01-24T13:42:37.138180",
     "exception": false,
     "start_time": "2022-01-24T13:42:37.004506",
     "status": "completed"
    },
    "tags": []
   },
   "outputs": [],
   "source": [
    "model.add(Conv2D(64, (3, 3), padding = \"same\", activation = \"tanh\", input_shape = input_dim))\n",
    "model.add(MaxPool2D(pool_size=(2, 2)))\n",
    "model.add(Conv2D(128, (3, 3), padding = \"same\", activation = \"tanh\"))\n",
    "model.add(MaxPool2D(pool_size=(2, 2)))\n",
    "model.add(Dropout(0.1))\n",
    "model.add(Flatten())\n",
    "model.add(Dense(1024, activation = \"tanh\"))\n",
    "model.add(Dense(2, activation = \"softmax\"))"
   ]
  },
  {
   "cell_type": "code",
   "execution_count": 22,
   "id": "704e2a53",
   "metadata": {
    "execution": {
     "iopub.execute_input": "2022-01-24T13:42:37.204822Z",
     "iopub.status.busy": "2022-01-24T13:42:37.204009Z",
     "iopub.status.idle": "2022-01-24T13:42:37.216058Z",
     "shell.execute_reply": "2022-01-24T13:42:37.216506Z",
     "shell.execute_reply.started": "2022-01-24T13:30:30.060680Z"
    },
    "papermill": {
     "duration": 0.046312,
     "end_time": "2022-01-24T13:42:37.216668",
     "exception": false,
     "start_time": "2022-01-24T13:42:37.170356",
     "status": "completed"
    },
    "tags": []
   },
   "outputs": [],
   "source": [
    "model.compile(optimizer = 'adam', loss = 'categorical_crossentropy', metrics = ['accuracy'])"
   ]
  },
  {
   "cell_type": "code",
   "execution_count": 23,
   "id": "acfb3055",
   "metadata": {
    "execution": {
     "iopub.execute_input": "2022-01-24T13:42:37.283959Z",
     "iopub.status.busy": "2022-01-24T13:42:37.283113Z",
     "iopub.status.idle": "2022-01-24T13:43:17.219296Z",
     "shell.execute_reply": "2022-01-24T13:43:17.218621Z",
     "shell.execute_reply.started": "2022-01-24T13:30:30.078635Z"
    },
    "papermill": {
     "duration": 39.971122,
     "end_time": "2022-01-24T13:43:17.219439",
     "exception": false,
     "start_time": "2022-01-24T13:42:37.248317",
     "status": "completed"
    },
    "tags": []
   },
   "outputs": [
    {
     "name": "stderr",
     "output_type": "stream",
     "text": [
      "2022-01-24 13:42:37.573418: I tensorflow/compiler/mlir/mlir_graph_optimization_pass.cc:185] None of the MLIR Optimization Passes are enabled (registered 2)\n"
     ]
    },
    {
     "name": "stdout",
     "output_type": "stream",
     "text": [
      "Epoch 1/10\n",
      "199/199 [==============================] - 5s 20ms/step - loss: 0.1572 - accuracy: 0.9654 - val_loss: 0.1443 - val_accuracy: 0.9653\n",
      "Epoch 2/10\n",
      "199/199 [==============================] - 4s 18ms/step - loss: 0.1161 - accuracy: 0.9680 - val_loss: 0.1252 - val_accuracy: 0.9644\n",
      "Epoch 3/10\n",
      "199/199 [==============================] - 4s 19ms/step - loss: 0.1061 - accuracy: 0.9695 - val_loss: 0.1318 - val_accuracy: 0.9650\n",
      "Epoch 4/10\n",
      "199/199 [==============================] - 4s 19ms/step - loss: 0.0963 - accuracy: 0.9709 - val_loss: 0.1252 - val_accuracy: 0.9656\n",
      "Epoch 5/10\n",
      "199/199 [==============================] - 4s 19ms/step - loss: 0.0888 - accuracy: 0.9730 - val_loss: 0.1142 - val_accuracy: 0.9635\n",
      "Epoch 6/10\n",
      "199/199 [==============================] - 4s 19ms/step - loss: 0.0871 - accuracy: 0.9747 - val_loss: 0.1162 - val_accuracy: 0.9662\n",
      "Epoch 7/10\n",
      "199/199 [==============================] - 4s 20ms/step - loss: 0.0782 - accuracy: 0.9759 - val_loss: 0.1161 - val_accuracy: 0.9650\n",
      "Epoch 8/10\n",
      "199/199 [==============================] - 5s 23ms/step - loss: 0.0734 - accuracy: 0.9771 - val_loss: 0.1286 - val_accuracy: 0.9650\n",
      "Epoch 9/10\n",
      "199/199 [==============================] - 4s 19ms/step - loss: 0.0705 - accuracy: 0.9783 - val_loss: 0.1455 - val_accuracy: 0.9662\n",
      "Epoch 10/10\n",
      "199/199 [==============================] - 4s 19ms/step - loss: 0.0621 - accuracy: 0.9815 - val_loss: 0.1456 - val_accuracy: 0.9592\n"
     ]
    }
   ],
   "source": [
    "#model.fit(X_train, Y_train, epochs = 5, batch_size = 200, validation_data = (X_test, Y_test))\n",
    "history = model.fit(X_train, Y_train, epochs = 10, batch_size = 50, validation_data = (X_test, Y_test))"
   ]
  },
  {
   "cell_type": "code",
   "execution_count": 24,
   "id": "ec415af2",
   "metadata": {
    "execution": {
     "iopub.execute_input": "2022-01-24T13:43:17.652606Z",
     "iopub.status.busy": "2022-01-24T13:43:17.652046Z",
     "iopub.status.idle": "2022-01-24T13:43:17.662229Z",
     "shell.execute_reply": "2022-01-24T13:43:17.661374Z",
     "shell.execute_reply.started": "2022-01-24T13:31:22.143832Z"
    },
    "papermill": {
     "duration": 0.227073,
     "end_time": "2022-01-24T13:43:17.662400",
     "exception": false,
     "start_time": "2022-01-24T13:43:17.435327",
     "status": "completed"
    },
    "tags": []
   },
   "outputs": [
    {
     "name": "stdout",
     "output_type": "stream",
     "text": [
      "Model: \"sequential\"\n",
      "_________________________________________________________________\n",
      "Layer (type)                 Output Shape              Param #   \n",
      "=================================================================\n",
      "conv2d (Conv2D)              (None, 16, 8, 64)         640       \n",
      "_________________________________________________________________\n",
      "max_pooling2d (MaxPooling2D) (None, 8, 4, 64)          0         \n",
      "_________________________________________________________________\n",
      "conv2d_1 (Conv2D)            (None, 8, 4, 128)         73856     \n",
      "_________________________________________________________________\n",
      "max_pooling2d_1 (MaxPooling2 (None, 4, 2, 128)         0         \n",
      "_________________________________________________________________\n",
      "dropout (Dropout)            (None, 4, 2, 128)         0         \n",
      "_________________________________________________________________\n",
      "flatten (Flatten)            (None, 1024)              0         \n",
      "_________________________________________________________________\n",
      "dense (Dense)                (None, 1024)              1049600   \n",
      "_________________________________________________________________\n",
      "dense_1 (Dense)              (None, 2)                 2050      \n",
      "=================================================================\n",
      "Total params: 1,126,146\n",
      "Trainable params: 1,126,146\n",
      "Non-trainable params: 0\n",
      "_________________________________________________________________\n"
     ]
    }
   ],
   "source": [
    "model.summary()"
   ]
  },
  {
   "cell_type": "code",
   "execution_count": 25,
   "id": "72e35815",
   "metadata": {
    "execution": {
     "iopub.execute_input": "2022-01-24T13:43:18.099966Z",
     "iopub.status.busy": "2022-01-24T13:43:18.098990Z",
     "iopub.status.idle": "2022-01-24T13:43:19.115649Z",
     "shell.execute_reply": "2022-01-24T13:43:19.115177Z",
     "shell.execute_reply.started": "2022-01-24T13:31:22.157751Z"
    },
    "papermill": {
     "duration": 1.239394,
     "end_time": "2022-01-24T13:43:19.115795",
     "exception": false,
     "start_time": "2022-01-24T13:43:17.876401",
     "status": "completed"
    },
    "tags": []
   },
   "outputs": [
    {
     "name": "stdout",
     "output_type": "stream",
     "text": [
      "104/104 [==============================] - 0s 4ms/step - loss: 0.1456 - accuracy: 0.9592\n",
      "[0.14564299583435059, 0.9592268466949463]\n"
     ]
    }
   ],
   "source": [
    "predictions = model.predict(X_test)\n",
    "score = model.evaluate(X_test, Y_test)\n",
    "print(score)"
   ]
  },
  {
   "cell_type": "code",
   "execution_count": 26,
   "id": "b7e5fdc4",
   "metadata": {
    "execution": {
     "iopub.execute_input": "2022-01-24T13:43:19.564223Z",
     "iopub.status.busy": "2022-01-24T13:43:19.563593Z",
     "iopub.status.idle": "2022-01-24T13:43:21.501239Z",
     "shell.execute_reply": "2022-01-24T13:43:21.501739Z",
     "shell.execute_reply.started": "2022-01-24T13:31:23.677182Z"
    },
    "papermill": {
     "duration": 2.166561,
     "end_time": "2022-01-24T13:43:21.501914",
     "exception": false,
     "start_time": "2022-01-24T13:43:19.335353",
     "status": "completed"
    },
    "tags": []
   },
   "outputs": [
    {
     "data": {
      "text/html": [
       "        <script type=\"text/javascript\">\n",
       "        window.PlotlyConfig = {MathJaxConfig: 'local'};\n",
       "        if (window.MathJax) {MathJax.Hub.Config({SVG: {font: \"STIX-Web\"}});}\n",
       "        if (typeof require !== 'undefined') {\n",
       "        require.undef(\"plotly\");\n",
       "        requirejs.config({\n",
       "            paths: {\n",
       "                'plotly': ['https://cdn.plot.ly/plotly-2.8.3.min']\n",
       "            }\n",
       "        });\n",
       "        require(['plotly'], function(Plotly) {\n",
       "            window._Plotly = Plotly;\n",
       "        });\n",
       "        }\n",
       "        </script>\n",
       "        "
      ]
     },
     "metadata": {},
     "output_type": "display_data"
    },
    {
     "data": {
      "text/html": [
       "<div>                            <div id=\"f525dc01-9686-41a0-b8db-4e0ddf9c7758\" class=\"plotly-graph-div\" style=\"height:525px; width:100%;\"></div>            <script type=\"text/javascript\">                require([\"plotly\"], function(Plotly) {                    window.PLOTLYENV=window.PLOTLYENV || {};                                    if (document.getElementById(\"f525dc01-9686-41a0-b8db-4e0ddf9c7758\")) {                    Plotly.newPlot(                        \"f525dc01-9686-41a0-b8db-4e0ddf9c7758\",                        [{\"hovertemplate\":\"variable=loss<br>Epochs=%{x}<br>Loss=%{y}<extra></extra>\",\"legendgroup\":\"loss\",\"line\":{\"color\":\"#636efa\",\"dash\":\"solid\"},\"marker\":{\"symbol\":\"circle\"},\"mode\":\"lines\",\"name\":\"loss\",\"orientation\":\"v\",\"showlegend\":true,\"x\":[0,1,2,3,4,5,6,7,8,9],\"xaxis\":\"x\",\"y\":[0.15717102587223053,0.1160593330860138,0.1060897707939148,0.09629080444574356,0.08882908523082733,0.08707047253847122,0.07815215736627579,0.07338862121105194,0.0704864040017128,0.06207069382071495],\"yaxis\":\"y\",\"type\":\"scatter\"},{\"hovertemplate\":\"variable=accuracy<br>Epochs=%{x}<br>Loss=%{y}<extra></extra>\",\"legendgroup\":\"accuracy\",\"line\":{\"color\":\"#EF553B\",\"dash\":\"solid\"},\"marker\":{\"symbol\":\"circle\"},\"mode\":\"lines\",\"name\":\"accuracy\",\"orientation\":\"v\",\"showlegend\":true,\"x\":[0,1,2,3,4,5,6,7,8,9],\"xaxis\":\"x\",\"y\":[0.9653679728507996,0.9679855108261108,0.9694955945014954,0.970905065536499,0.9730192422866821,0.9747306704521179,0.9759387969970703,0.9771468639373779,0.9782543182373047,0.9814758896827698],\"yaxis\":\"y\",\"type\":\"scatter\"},{\"hovertemplate\":\"variable=val_loss<br>Epochs=%{x}<br>Loss=%{y}<extra></extra>\",\"legendgroup\":\"val_loss\",\"line\":{\"color\":\"#00cc96\",\"dash\":\"solid\"},\"marker\":{\"symbol\":\"circle\"},\"mode\":\"lines\",\"name\":\"val_loss\",\"orientation\":\"v\",\"showlegend\":true,\"x\":[0,1,2,3,4,5,6,7,8,9],\"xaxis\":\"x\",\"y\":[0.14429202675819397,0.12517844140529633,0.13180112838745117,0.1252116858959198,0.11420683562755585,0.11618301272392273,0.11605742573738098,0.12861056625843048,0.14546741545200348,0.1456429660320282],\"yaxis\":\"y\",\"type\":\"scatter\"},{\"hovertemplate\":\"variable=val_accuracy<br>Epochs=%{x}<br>Loss=%{y}<extra></extra>\",\"legendgroup\":\"val_accuracy\",\"line\":{\"color\":\"#ab63fa\",\"dash\":\"solid\"},\"marker\":{\"symbol\":\"circle\"},\"mode\":\"lines\",\"name\":\"val_accuracy\",\"orientation\":\"v\",\"showlegend\":true,\"x\":[0,1,2,3,4,5,6,7,8,9],\"xaxis\":\"x\",\"y\":[0.9652673006057739,0.9643611907958984,0.964965283870697,0.9655693173408508,0.9634551405906677,0.9661733508110046,0.964965283870697,0.964965283870697,0.9661733508110046,0.9592268466949463],\"yaxis\":\"y\",\"type\":\"scatter\"}],                        {\"template\":{\"data\":{\"bar\":[{\"error_x\":{\"color\":\"#2a3f5f\"},\"error_y\":{\"color\":\"#2a3f5f\"},\"marker\":{\"line\":{\"color\":\"#E5ECF6\",\"width\":0.5},\"pattern\":{\"fillmode\":\"overlay\",\"size\":10,\"solidity\":0.2}},\"type\":\"bar\"}],\"barpolar\":[{\"marker\":{\"line\":{\"color\":\"#E5ECF6\",\"width\":0.5},\"pattern\":{\"fillmode\":\"overlay\",\"size\":10,\"solidity\":0.2}},\"type\":\"barpolar\"}],\"carpet\":[{\"aaxis\":{\"endlinecolor\":\"#2a3f5f\",\"gridcolor\":\"white\",\"linecolor\":\"white\",\"minorgridcolor\":\"white\",\"startlinecolor\":\"#2a3f5f\"},\"baxis\":{\"endlinecolor\":\"#2a3f5f\",\"gridcolor\":\"white\",\"linecolor\":\"white\",\"minorgridcolor\":\"white\",\"startlinecolor\":\"#2a3f5f\"},\"type\":\"carpet\"}],\"choropleth\":[{\"colorbar\":{\"outlinewidth\":0,\"ticks\":\"\"},\"type\":\"choropleth\"}],\"contour\":[{\"colorbar\":{\"outlinewidth\":0,\"ticks\":\"\"},\"colorscale\":[[0.0,\"#0d0887\"],[0.1111111111111111,\"#46039f\"],[0.2222222222222222,\"#7201a8\"],[0.3333333333333333,\"#9c179e\"],[0.4444444444444444,\"#bd3786\"],[0.5555555555555556,\"#d8576b\"],[0.6666666666666666,\"#ed7953\"],[0.7777777777777778,\"#fb9f3a\"],[0.8888888888888888,\"#fdca26\"],[1.0,\"#f0f921\"]],\"type\":\"contour\"}],\"contourcarpet\":[{\"colorbar\":{\"outlinewidth\":0,\"ticks\":\"\"},\"type\":\"contourcarpet\"}],\"heatmap\":[{\"colorbar\":{\"outlinewidth\":0,\"ticks\":\"\"},\"colorscale\":[[0.0,\"#0d0887\"],[0.1111111111111111,\"#46039f\"],[0.2222222222222222,\"#7201a8\"],[0.3333333333333333,\"#9c179e\"],[0.4444444444444444,\"#bd3786\"],[0.5555555555555556,\"#d8576b\"],[0.6666666666666666,\"#ed7953\"],[0.7777777777777778,\"#fb9f3a\"],[0.8888888888888888,\"#fdca26\"],[1.0,\"#f0f921\"]],\"type\":\"heatmap\"}],\"heatmapgl\":[{\"colorbar\":{\"outlinewidth\":0,\"ticks\":\"\"},\"colorscale\":[[0.0,\"#0d0887\"],[0.1111111111111111,\"#46039f\"],[0.2222222222222222,\"#7201a8\"],[0.3333333333333333,\"#9c179e\"],[0.4444444444444444,\"#bd3786\"],[0.5555555555555556,\"#d8576b\"],[0.6666666666666666,\"#ed7953\"],[0.7777777777777778,\"#fb9f3a\"],[0.8888888888888888,\"#fdca26\"],[1.0,\"#f0f921\"]],\"type\":\"heatmapgl\"}],\"histogram\":[{\"marker\":{\"pattern\":{\"fillmode\":\"overlay\",\"size\":10,\"solidity\":0.2}},\"type\":\"histogram\"}],\"histogram2d\":[{\"colorbar\":{\"outlinewidth\":0,\"ticks\":\"\"},\"colorscale\":[[0.0,\"#0d0887\"],[0.1111111111111111,\"#46039f\"],[0.2222222222222222,\"#7201a8\"],[0.3333333333333333,\"#9c179e\"],[0.4444444444444444,\"#bd3786\"],[0.5555555555555556,\"#d8576b\"],[0.6666666666666666,\"#ed7953\"],[0.7777777777777778,\"#fb9f3a\"],[0.8888888888888888,\"#fdca26\"],[1.0,\"#f0f921\"]],\"type\":\"histogram2d\"}],\"histogram2dcontour\":[{\"colorbar\":{\"outlinewidth\":0,\"ticks\":\"\"},\"colorscale\":[[0.0,\"#0d0887\"],[0.1111111111111111,\"#46039f\"],[0.2222222222222222,\"#7201a8\"],[0.3333333333333333,\"#9c179e\"],[0.4444444444444444,\"#bd3786\"],[0.5555555555555556,\"#d8576b\"],[0.6666666666666666,\"#ed7953\"],[0.7777777777777778,\"#fb9f3a\"],[0.8888888888888888,\"#fdca26\"],[1.0,\"#f0f921\"]],\"type\":\"histogram2dcontour\"}],\"mesh3d\":[{\"colorbar\":{\"outlinewidth\":0,\"ticks\":\"\"},\"type\":\"mesh3d\"}],\"parcoords\":[{\"line\":{\"colorbar\":{\"outlinewidth\":0,\"ticks\":\"\"}},\"type\":\"parcoords\"}],\"pie\":[{\"automargin\":true,\"type\":\"pie\"}],\"scatter\":[{\"marker\":{\"colorbar\":{\"outlinewidth\":0,\"ticks\":\"\"}},\"type\":\"scatter\"}],\"scatter3d\":[{\"line\":{\"colorbar\":{\"outlinewidth\":0,\"ticks\":\"\"}},\"marker\":{\"colorbar\":{\"outlinewidth\":0,\"ticks\":\"\"}},\"type\":\"scatter3d\"}],\"scattercarpet\":[{\"marker\":{\"colorbar\":{\"outlinewidth\":0,\"ticks\":\"\"}},\"type\":\"scattercarpet\"}],\"scattergeo\":[{\"marker\":{\"colorbar\":{\"outlinewidth\":0,\"ticks\":\"\"}},\"type\":\"scattergeo\"}],\"scattergl\":[{\"marker\":{\"colorbar\":{\"outlinewidth\":0,\"ticks\":\"\"}},\"type\":\"scattergl\"}],\"scattermapbox\":[{\"marker\":{\"colorbar\":{\"outlinewidth\":0,\"ticks\":\"\"}},\"type\":\"scattermapbox\"}],\"scatterpolar\":[{\"marker\":{\"colorbar\":{\"outlinewidth\":0,\"ticks\":\"\"}},\"type\":\"scatterpolar\"}],\"scatterpolargl\":[{\"marker\":{\"colorbar\":{\"outlinewidth\":0,\"ticks\":\"\"}},\"type\":\"scatterpolargl\"}],\"scatterternary\":[{\"marker\":{\"colorbar\":{\"outlinewidth\":0,\"ticks\":\"\"}},\"type\":\"scatterternary\"}],\"surface\":[{\"colorbar\":{\"outlinewidth\":0,\"ticks\":\"\"},\"colorscale\":[[0.0,\"#0d0887\"],[0.1111111111111111,\"#46039f\"],[0.2222222222222222,\"#7201a8\"],[0.3333333333333333,\"#9c179e\"],[0.4444444444444444,\"#bd3786\"],[0.5555555555555556,\"#d8576b\"],[0.6666666666666666,\"#ed7953\"],[0.7777777777777778,\"#fb9f3a\"],[0.8888888888888888,\"#fdca26\"],[1.0,\"#f0f921\"]],\"type\":\"surface\"}],\"table\":[{\"cells\":{\"fill\":{\"color\":\"#EBF0F8\"},\"line\":{\"color\":\"white\"}},\"header\":{\"fill\":{\"color\":\"#C8D4E3\"},\"line\":{\"color\":\"white\"}},\"type\":\"table\"}]},\"layout\":{\"annotationdefaults\":{\"arrowcolor\":\"#2a3f5f\",\"arrowhead\":0,\"arrowwidth\":1},\"autotypenumbers\":\"strict\",\"coloraxis\":{\"colorbar\":{\"outlinewidth\":0,\"ticks\":\"\"}},\"colorscale\":{\"diverging\":[[0,\"#8e0152\"],[0.1,\"#c51b7d\"],[0.2,\"#de77ae\"],[0.3,\"#f1b6da\"],[0.4,\"#fde0ef\"],[0.5,\"#f7f7f7\"],[0.6,\"#e6f5d0\"],[0.7,\"#b8e186\"],[0.8,\"#7fbc41\"],[0.9,\"#4d9221\"],[1,\"#276419\"]],\"sequential\":[[0.0,\"#0d0887\"],[0.1111111111111111,\"#46039f\"],[0.2222222222222222,\"#7201a8\"],[0.3333333333333333,\"#9c179e\"],[0.4444444444444444,\"#bd3786\"],[0.5555555555555556,\"#d8576b\"],[0.6666666666666666,\"#ed7953\"],[0.7777777777777778,\"#fb9f3a\"],[0.8888888888888888,\"#fdca26\"],[1.0,\"#f0f921\"]],\"sequentialminus\":[[0.0,\"#0d0887\"],[0.1111111111111111,\"#46039f\"],[0.2222222222222222,\"#7201a8\"],[0.3333333333333333,\"#9c179e\"],[0.4444444444444444,\"#bd3786\"],[0.5555555555555556,\"#d8576b\"],[0.6666666666666666,\"#ed7953\"],[0.7777777777777778,\"#fb9f3a\"],[0.8888888888888888,\"#fdca26\"],[1.0,\"#f0f921\"]]},\"colorway\":[\"#636efa\",\"#EF553B\",\"#00cc96\",\"#ab63fa\",\"#FFA15A\",\"#19d3f3\",\"#FF6692\",\"#B6E880\",\"#FF97FF\",\"#FECB52\"],\"font\":{\"color\":\"#2a3f5f\"},\"geo\":{\"bgcolor\":\"white\",\"lakecolor\":\"white\",\"landcolor\":\"#E5ECF6\",\"showlakes\":true,\"showland\":true,\"subunitcolor\":\"white\"},\"hoverlabel\":{\"align\":\"left\"},\"hovermode\":\"closest\",\"mapbox\":{\"style\":\"light\"},\"paper_bgcolor\":\"white\",\"plot_bgcolor\":\"#E5ECF6\",\"polar\":{\"angularaxis\":{\"gridcolor\":\"white\",\"linecolor\":\"white\",\"ticks\":\"\"},\"bgcolor\":\"#E5ECF6\",\"radialaxis\":{\"gridcolor\":\"white\",\"linecolor\":\"white\",\"ticks\":\"\"}},\"scene\":{\"xaxis\":{\"backgroundcolor\":\"#E5ECF6\",\"gridcolor\":\"white\",\"gridwidth\":2,\"linecolor\":\"white\",\"showbackground\":true,\"ticks\":\"\",\"zerolinecolor\":\"white\"},\"yaxis\":{\"backgroundcolor\":\"#E5ECF6\",\"gridcolor\":\"white\",\"gridwidth\":2,\"linecolor\":\"white\",\"showbackground\":true,\"ticks\":\"\",\"zerolinecolor\":\"white\"},\"zaxis\":{\"backgroundcolor\":\"#E5ECF6\",\"gridcolor\":\"white\",\"gridwidth\":2,\"linecolor\":\"white\",\"showbackground\":true,\"ticks\":\"\",\"zerolinecolor\":\"white\"}},\"shapedefaults\":{\"line\":{\"color\":\"#2a3f5f\"}},\"ternary\":{\"aaxis\":{\"gridcolor\":\"white\",\"linecolor\":\"white\",\"ticks\":\"\"},\"baxis\":{\"gridcolor\":\"white\",\"linecolor\":\"white\",\"ticks\":\"\"},\"bgcolor\":\"#E5ECF6\",\"caxis\":{\"gridcolor\":\"white\",\"linecolor\":\"white\",\"ticks\":\"\"}},\"title\":{\"x\":0.05},\"xaxis\":{\"automargin\":true,\"gridcolor\":\"white\",\"linecolor\":\"white\",\"ticks\":\"\",\"title\":{\"standoff\":15},\"zerolinecolor\":\"white\",\"zerolinewidth\":2},\"yaxis\":{\"automargin\":true,\"gridcolor\":\"white\",\"linecolor\":\"white\",\"ticks\":\"\",\"title\":{\"standoff\":15},\"zerolinecolor\":\"white\",\"zerolinewidth\":2}}},\"xaxis\":{\"anchor\":\"y\",\"domain\":[0.0,1.0],\"title\":{\"text\":\"Epochs\"}},\"yaxis\":{\"anchor\":\"x\",\"domain\":[0.0,1.0],\"title\":{\"text\":\"Loss\"}},\"legend\":{\"title\":{\"text\":\"variable\"},\"tracegroupgap\":0},\"title\":{\"text\":\"Learning Curve - Loss/accuracy\"}},                        {\"responsive\": true}                    ).then(function(){\n",
       "                            \n",
       "var gd = document.getElementById('f525dc01-9686-41a0-b8db-4e0ddf9c7758');\n",
       "var x = new MutationObserver(function (mutations, observer) {{\n",
       "        var display = window.getComputedStyle(gd).display;\n",
       "        if (!display || display === 'none') {{\n",
       "            console.log([gd, 'removed!']);\n",
       "            Plotly.purge(gd);\n",
       "            observer.disconnect();\n",
       "        }}\n",
       "}});\n",
       "\n",
       "// Listen for the removal of the full notebook cells\n",
       "var notebookContainer = gd.closest('#notebook-container');\n",
       "if (notebookContainer) {{\n",
       "    x.observe(notebookContainer, {childList: true});\n",
       "}}\n",
       "\n",
       "// Listen for the clearing of the current output cell\n",
       "var outputEl = gd.closest('.output');\n",
       "if (outputEl) {{\n",
       "    x.observe(outputEl, {childList: true});\n",
       "}}\n",
       "\n",
       "                        })                };                });            </script>        </div>"
      ]
     },
     "metadata": {},
     "output_type": "display_data"
    }
   ],
   "source": [
    "#Display of the accuracy and the loss values\n",
    "import plotly.express as px\n",
    "df = pd.DataFrame.from_dict(history.history)\n",
    "fig = px.line(df, x=df.index, y=df.columns, title=\"Learning Curve - Loss/accuracy\", labels={'index':'Epochs', 'value':'Loss'})\n",
    "fig.show()"
   ]
  },
  {
   "cell_type": "markdown",
   "id": "9fb4c549",
   "metadata": {
    "papermill": {
     "duration": 0.219198,
     "end_time": "2022-01-24T13:43:21.944486",
     "exception": false,
     "start_time": "2022-01-24T13:43:21.725288",
     "status": "completed"
    },
    "tags": []
   },
   "source": [
    "## Train-Validation Loss"
   ]
  },
  {
   "cell_type": "code",
   "execution_count": 27,
   "id": "42063133",
   "metadata": {
    "execution": {
     "iopub.execute_input": "2022-01-24T13:43:22.388232Z",
     "iopub.status.busy": "2022-01-24T13:43:22.387562Z",
     "iopub.status.idle": "2022-01-24T13:43:22.598804Z",
     "shell.execute_reply": "2022-01-24T13:43:22.599254Z",
     "shell.execute_reply.started": "2022-01-24T13:31:26.293194Z"
    },
    "papermill": {
     "duration": 0.433821,
     "end_time": "2022-01-24T13:43:22.599420",
     "exception": false,
     "start_time": "2022-01-24T13:43:22.165599",
     "status": "completed"
    },
    "tags": []
   },
   "outputs": [
    {
     "data": {
      "image/png": "[encoded data removed]",
      "text/plain": [
       "<Figure size 432x288 with 1 Axes>"
      ]
     },
     "metadata": {
      "needs_background": "light"
     },
     "output_type": "display_data"
    }
   ],
   "source": [
    "plt.plot(history.history[\"loss\"], label = \"Train Loss\")\n",
    "plt.plot(history.history[\"val_loss\"], label = \"Validation Loss\")\n",
    "plt.legend()\n",
    "plt.show()"
   ]
  },
  {
   "cell_type": "markdown",
   "id": "b1ba0191",
   "metadata": {
    "papermill": {
     "duration": 0.216912,
     "end_time": "2022-01-24T13:43:23.035960",
     "exception": false,
     "start_time": "2022-01-24T13:43:22.819048",
     "status": "completed"
    },
    "tags": []
   },
   "source": [
    "## Train-Validation Accuracy"
   ]
  },
  {
   "cell_type": "code",
   "execution_count": 28,
   "id": "cbd1ae90",
   "metadata": {
    "execution": {
     "iopub.execute_input": "2022-01-24T13:43:23.485556Z",
     "iopub.status.busy": "2022-01-24T13:43:23.484720Z",
     "iopub.status.idle": "2022-01-24T13:43:23.684478Z",
     "shell.execute_reply": "2022-01-24T13:43:23.683917Z",
     "shell.execute_reply.started": "2022-01-24T13:31:26.573959Z"
    },
    "papermill": {
     "duration": 0.429992,
     "end_time": "2022-01-24T13:43:23.684649",
     "exception": false,
     "start_time": "2022-01-24T13:43:23.254657",
     "status": "completed"
    },
    "tags": []
   },
   "outputs": [
    {
     "data": {
      "image/png": "[encoded data removed]",
      "text/plain": [
       "<Figure size 432x288 with 1 Axes>"
      ]
     },
     "metadata": {
      "needs_background": "light"
     },
     "output_type": "display_data"
    }
   ],
   "source": [
    "plt.plot(history.history[\"accuracy\"], label = \"Train Accuracy\")\n",
    "plt.plot(history.history[\"val_accuracy\"], label = \"Validation Accuracy\")\n",
    "plt.legend()\n",
    "plt.show()"
   ]
  },
  {
   "cell_type": "code",
   "execution_count": 29,
   "id": "c565fb26",
   "metadata": {
    "execution": {
     "iopub.execute_input": "2022-01-24T13:43:24.144880Z",
     "iopub.status.busy": "2022-01-24T13:43:24.144129Z",
     "iopub.status.idle": "2022-01-24T13:43:24.915068Z",
     "shell.execute_reply": "2022-01-24T13:43:24.915622Z",
     "shell.execute_reply.started": "2022-01-24T13:31:26.835248Z"
    },
    "papermill": {
     "duration": 1.003689,
     "end_time": "2022-01-24T13:43:24.915790",
     "exception": false,
     "start_time": "2022-01-24T13:43:23.912101",
     "status": "completed"
    },
    "tags": []
   },
   "outputs": [
    {
     "data": {
      "image/png": "[encoded data removed]",
      "text/plain": [
       "<IPython.core.display.Image object>"
      ]
     },
     "execution_count": 29,
     "metadata": {},
     "output_type": "execute_result"
    }
   ],
   "source": [
    "from keras.utils.vis_utils import plot_model\n",
    "plot_model(model)"
   ]
  },
  {
   "cell_type": "code",
   "execution_count": 30,
   "id": "69c4b2f5",
   "metadata": {
    "execution": {
     "iopub.execute_input": "2022-01-24T13:43:25.367384Z",
     "iopub.status.busy": "2022-01-24T13:43:25.366459Z",
     "iopub.status.idle": "2022-01-24T13:43:25.372113Z",
     "shell.execute_reply": "2022-01-24T13:43:25.372675Z",
     "shell.execute_reply.started": "2022-01-24T13:31:27.835997Z"
    },
    "papermill": {
     "duration": 0.231123,
     "end_time": "2022-01-24T13:43:25.372852",
     "exception": false,
     "start_time": "2022-01-24T13:43:25.141729",
     "status": "completed"
    },
    "tags": []
   },
   "outputs": [
    {
     "data": {
      "text/plain": [
       "array([[1., 0.],\n",
       "       [1., 0.],\n",
       "       [1., 0.],\n",
       "       ...,\n",
       "       [1., 0.],\n",
       "       [1., 0.],\n",
       "       [1., 0.]], dtype=float32)"
      ]
     },
     "execution_count": 30,
     "metadata": {},
     "output_type": "execute_result"
    }
   ],
   "source": [
    "Y_test"
   ]
  },
  {
   "cell_type": "code",
   "execution_count": 31,
   "id": "b5ab9f76",
   "metadata": {
    "execution": {
     "iopub.execute_input": "2022-01-24T13:43:25.832586Z",
     "iopub.status.busy": "2022-01-24T13:43:25.831931Z",
     "iopub.status.idle": "2022-01-24T13:43:26.302678Z",
     "shell.execute_reply": "2022-01-24T13:43:26.303412Z",
     "shell.execute_reply.started": "2022-01-24T13:31:27.846132Z"
    },
    "papermill": {
     "duration": 0.699405,
     "end_time": "2022-01-24T13:43:26.303687",
     "exception": false,
     "start_time": "2022-01-24T13:43:25.604282",
     "status": "completed"
    },
    "tags": []
   },
   "outputs": [
    {
     "name": "stdout",
     "output_type": "stream",
     "text": [
      "the accuracy obtained on the test set is: 0.959226819691936\n",
      "              precision    recall  f1-score   support\n",
      "\n",
      "           0       0.98      0.98      0.98      3196\n",
      "           1       0.40      0.34      0.37       115\n",
      "\n",
      "    accuracy                           0.96      3311\n",
      "   macro avg       0.69      0.66      0.67      3311\n",
      "weighted avg       0.96      0.96      0.96      3311\n",
      "\n"
     ]
    }
   ],
   "source": [
    "#Y_pred = model.predict_classes(X_test)\n",
    "predict_x=model.predict(X_test) \n",
    "Y_pred=np.argmax(predict_x,axis=1)\n",
    "Y_test = np.argmax(Y_test, axis = 1)\n",
    "print('the accuracy obtained on the test set is:', accuracy_score(Y_pred,Y_test))\n",
    "print(classification_report(Y_test, Y_pred))"
   ]
  },
  {
   "cell_type": "code",
   "execution_count": null,
   "id": "d4eb1061",
   "metadata": {
    "papermill": {
     "duration": 0.232034,
     "end_time": "2022-01-24T13:43:26.771428",
     "exception": false,
     "start_time": "2022-01-24T13:43:26.539394",
     "status": "completed"
    },
    "tags": []
   },
   "outputs": [],
   "source": []
  },
  {
   "cell_type": "code",
   "execution_count": 32,
   "id": "d4e006ad",
   "metadata": {
    "execution": {
     "iopub.execute_input": "2022-01-24T13:43:27.220203Z",
     "iopub.status.busy": "2022-01-24T13:43:27.219180Z",
     "iopub.status.idle": "2022-01-24T13:43:27.221448Z",
     "shell.execute_reply": "2022-01-24T13:43:27.221948Z",
     "shell.execute_reply.started": "2022-01-24T13:31:28.517937Z"
    },
    "papermill": {
     "duration": 0.225928,
     "end_time": "2022-01-24T13:43:27.222097",
     "exception": false,
     "start_time": "2022-01-24T13:43:26.996169",
     "status": "completed"
    },
    "tags": []
   },
   "outputs": [],
   "source": [
    "#https://www.kaggle.com/himanshu007121/urbansound8k-classification\n",
    "#https://www.kaggle.com/umutalpaydn/image-classification-with-cnn\n",
    "#https://www.kaggle.com/venugopalvasarla/using-basic-cnn-for-natural-image-classification"
   ]
  },
  {
   "cell_type": "code",
   "execution_count": null,
   "id": "ee135403",
   "metadata": {
    "papermill": {
     "duration": 0.221259,
     "end_time": "2022-01-24T13:43:27.665004",
     "exception": false,
     "start_time": "2022-01-24T13:43:27.443745",
     "status": "completed"
    },
    "tags": []
   },
   "outputs": [],
   "source": []
  }
 ],
 "metadata": {
  "kernelspec": {
   "display_name": "Python 3",
   "language": "python",
   "name": "python3"
  },
  "language_info": {
   "codemirror_mode": {
    "name": "ipython",
    "version": 3
   },
   "file_extension": ".py",
   "mimetype": "text/x-python",
   "name": "python",
   "nbconvert_exporter": "python",
   "pygments_lexer": "ipython3",
   "version": "3.7.12"
  },
  "papermill": {
   "default_parameters": {},
   "duration": 72.574593,
   "end_time": "2022-01-24T13:43:31.389973",
   "environment_variables": {},
   "exception": null,
   "input_path": "__notebook__.ipynb",
   "output_path": "__notebook__.ipynb",
   "parameters": {},
   "start_time": "2022-01-24T13:42:18.815380",
   "version": "2.3.3"
  }
 },
 "nbformat": 4,
 "nbformat_minor": 5
}
